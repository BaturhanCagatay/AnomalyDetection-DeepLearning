{
  "nbformat": 4,
  "nbformat_minor": 0,
  "metadata": {
    "colab": {
      "provenance": [],
      "machine_shape": "hm",
      "gpuType": "A100"
    },
    "kernelspec": {
      "name": "python3",
      "display_name": "Python 3"
    },
    "language_info": {
      "name": "python"
    },
    "accelerator": "GPU"
  },
  "cells": [
    {
      "cell_type": "code",
      "execution_count": 1,
      "metadata": {
        "colab": {
          "base_uri": "https://localhost:8080/"
        },
        "id": "2fYeFs8ksrzi",
        "outputId": "55ded3dc-9a47-4734-8136-5fa79697a28f"
      },
      "outputs": [
        {
          "output_type": "stream",
          "name": "stdout",
          "text": [
            "Mounted at /content/drive\n"
          ]
        }
      ],
      "source": [
        "from google.colab import drive\n",
        "drive.mount('/content/drive')"
      ]
    },
    {
      "cell_type": "code",
      "source": [
        "!pip install click==8.1.7\n",
        "!pip install cuda-python==11.8.3\n",
        "!pip install opencv-python==4.9.0.80\n"
      ],
      "metadata": {
        "colab": {
          "base_uri": "https://localhost:8080/"
        },
        "id": "ZevqcvoGHDhe",
        "outputId": "986b91d2-d43d-4722-eb3d-43537ce59979"
      },
      "execution_count": 2,
      "outputs": [
        {
          "output_type": "stream",
          "name": "stdout",
          "text": [
            "Collecting click==8.1.7\n",
            "  Downloading click-8.1.7-py3-none-any.whl.metadata (3.0 kB)\n",
            "Downloading click-8.1.7-py3-none-any.whl (97 kB)\n",
            "\u001b[?25l   \u001b[90m━━━━━━━━━━━━━━━━━━━━━━━━━━━━━━━━━━━━━━━━\u001b[0m \u001b[32m0.0/97.9 kB\u001b[0m \u001b[31m?\u001b[0m eta \u001b[36m-:--:--\u001b[0m\r\u001b[2K   \u001b[90m━━━━━━━━━━━━━━━━━━━━━━━━━━━━━━━━━━━━━━━━\u001b[0m \u001b[32m97.9/97.9 kB\u001b[0m \u001b[31m12.3 MB/s\u001b[0m eta \u001b[36m0:00:00\u001b[0m\n",
            "\u001b[?25hInstalling collected packages: click\n",
            "  Attempting uninstall: click\n",
            "    Found existing installation: click 8.2.0\n",
            "    Uninstalling click-8.2.0:\n",
            "      Successfully uninstalled click-8.2.0\n",
            "Successfully installed click-8.1.7\n",
            "Collecting cuda-python==11.8.3\n",
            "  Downloading cuda_python-11.8.3-cp311-cp311-manylinux_2_17_x86_64.manylinux2014_x86_64.whl.metadata (12 kB)\n",
            "Downloading cuda_python-11.8.3-cp311-cp311-manylinux_2_17_x86_64.manylinux2014_x86_64.whl (19.2 MB)\n",
            "\u001b[2K   \u001b[90m━━━━━━━━━━━━━━━━━━━━━━━━━━━━━━━━━━━━━━━━\u001b[0m \u001b[32m19.2/19.2 MB\u001b[0m \u001b[31m7.9 MB/s\u001b[0m eta \u001b[36m0:00:00\u001b[0m\n",
            "\u001b[?25hInstalling collected packages: cuda-python\n",
            "  Attempting uninstall: cuda-python\n",
            "    Found existing installation: cuda-python 12.6.2.post1\n",
            "    Uninstalling cuda-python-12.6.2.post1:\n",
            "      Successfully uninstalled cuda-python-12.6.2.post1\n",
            "\u001b[31mERROR: pip's dependency resolver does not currently take into account all the packages that are installed. This behaviour is the source of the following dependency conflicts.\n",
            "pylibcudf-cu12 25.2.1 requires cuda-python<13.0a0,>=12.6.2, but you have cuda-python 11.8.3 which is incompatible.\n",
            "cuml-cu12 25.2.1 requires cuda-python<13.0a0,>=12.6.2, but you have cuda-python 11.8.3 which is incompatible.\n",
            "cudf-cu12 25.2.1 requires cuda-python<13.0a0,>=12.6.2, but you have cuda-python 11.8.3 which is incompatible.\n",
            "cuvs-cu12 25.2.1 requires cuda-python<13.0a0,>=12.6.2, but you have cuda-python 11.8.3 which is incompatible.\n",
            "pylibraft-cu12 25.2.0 requires cuda-python<13.0a0,>=12.6.2, but you have cuda-python 11.8.3 which is incompatible.\n",
            "rmm-cu12 25.2.0 requires cuda-python<13.0a0,>=12.6.2, but you have cuda-python 11.8.3 which is incompatible.\u001b[0m\u001b[31m\n",
            "\u001b[0mSuccessfully installed cuda-python-11.8.3\n",
            "Collecting opencv-python==4.9.0.80\n",
            "  Downloading opencv_python-4.9.0.80-cp37-abi3-manylinux_2_17_x86_64.manylinux2014_x86_64.whl.metadata (20 kB)\n",
            "Requirement already satisfied: numpy>=1.21.2 in /usr/local/lib/python3.11/dist-packages (from opencv-python==4.9.0.80) (2.0.2)\n",
            "Downloading opencv_python-4.9.0.80-cp37-abi3-manylinux_2_17_x86_64.manylinux2014_x86_64.whl (62.2 MB)\n",
            "\u001b[2K   \u001b[90m━━━━━━━━━━━━━━━━━━━━━━━━━━━━━━━━━━━━━━━━\u001b[0m \u001b[32m62.2/62.2 MB\u001b[0m \u001b[31m41.3 MB/s\u001b[0m eta \u001b[36m0:00:00\u001b[0m\n",
            "\u001b[?25hInstalling collected packages: opencv-python\n",
            "  Attempting uninstall: opencv-python\n",
            "    Found existing installation: opencv-python 4.11.0.86\n",
            "    Uninstalling opencv-python-4.11.0.86:\n",
            "      Successfully uninstalled opencv-python-4.11.0.86\n",
            "Successfully installed opencv-python-4.9.0.80\n"
          ]
        }
      ]
    },
    {
      "cell_type": "code",
      "source": [
        "# TensorFlow tamamen kaldırılsın (çünkü ihtiyaç yok)\n",
        "!pip uninstall -y tensorflow tensorflow-estimator keras keras-nightly keras-preprocessing\n",
        "\n",
        "# NumPy uyumlu sürüme çekilsin (OpenCV, PyTorch vs. ile uyumlu olan)\n",
        "!pip install numpy==1.24.4\n",
        "\n",
        "# OpenCV ve tensorboard yeniden yüklensin\n",
        "!pip install --force-reinstall opencv-python\n",
        "!pip install --force-reinstall tensorboard==2.14\n"
      ],
      "metadata": {
        "colab": {
          "base_uri": "https://localhost:8080/",
          "height": 1000
        },
        "id": "GZRH0Qd6JFHN",
        "outputId": "890efcb1-76b0-4d44-b677-df2e2b0c5f04"
      },
      "execution_count": 3,
      "outputs": [
        {
          "output_type": "stream",
          "name": "stdout",
          "text": [
            "Found existing installation: tensorflow 2.18.0\n",
            "Uninstalling tensorflow-2.18.0:\n",
            "  Successfully uninstalled tensorflow-2.18.0\n",
            "\u001b[33mWARNING: Skipping tensorflow-estimator as it is not installed.\u001b[0m\u001b[33m\n",
            "\u001b[0mFound existing installation: keras 3.8.0\n",
            "Uninstalling keras-3.8.0:\n",
            "  Successfully uninstalled keras-3.8.0\n",
            "\u001b[33mWARNING: Skipping keras-nightly as it is not installed.\u001b[0m\u001b[33m\n",
            "\u001b[0m\u001b[33mWARNING: Skipping keras-preprocessing as it is not installed.\u001b[0m\u001b[33m\n",
            "\u001b[0mCollecting numpy==1.24.4\n",
            "  Downloading numpy-1.24.4-cp311-cp311-manylinux_2_17_x86_64.manylinux2014_x86_64.whl.metadata (5.6 kB)\n",
            "Downloading numpy-1.24.4-cp311-cp311-manylinux_2_17_x86_64.manylinux2014_x86_64.whl (17.3 MB)\n",
            "\u001b[2K   \u001b[90m━━━━━━━━━━━━━━━━━━━━━━━━━━━━━━━━━━━━━━━━\u001b[0m \u001b[32m17.3/17.3 MB\u001b[0m \u001b[31m101.7 MB/s\u001b[0m eta \u001b[36m0:00:00\u001b[0m\n",
            "\u001b[?25hInstalling collected packages: numpy\n",
            "  Attempting uninstall: numpy\n",
            "    Found existing installation: numpy 2.0.2\n",
            "    Uninstalling numpy-2.0.2:\n",
            "      Successfully uninstalled numpy-2.0.2\n",
            "\u001b[31mERROR: pip's dependency resolver does not currently take into account all the packages that are installed. This behaviour is the source of the following dependency conflicts.\n",
            "tensorflow-decision-forests 1.11.0 requires tensorflow==2.18.0, which is not installed.\n",
            "dopamine-rl 4.1.2 requires tensorflow>=2.2.0, which is not installed.\n",
            "jax 0.5.2 requires numpy>=1.25, but you have numpy 1.24.4 which is incompatible.\n",
            "cuml-cu12 25.2.1 requires cuda-python<13.0a0,>=12.6.2, but you have cuda-python 11.8.3 which is incompatible.\n",
            "cudf-cu12 25.2.1 requires cuda-python<13.0a0,>=12.6.2, but you have cuda-python 11.8.3 which is incompatible.\n",
            "thinc 8.3.6 requires numpy<3.0.0,>=2.0.0, but you have numpy 1.24.4 which is incompatible.\n",
            "treescope 0.1.9 requires numpy>=1.25.2, but you have numpy 1.24.4 which is incompatible.\n",
            "cuvs-cu12 25.2.1 requires cuda-python<13.0a0,>=12.6.2, but you have cuda-python 11.8.3 which is incompatible.\n",
            "pymc 5.22.0 requires numpy>=1.25.0, but you have numpy 1.24.4 which is incompatible.\n",
            "pylibraft-cu12 25.2.0 requires cuda-python<13.0a0,>=12.6.2, but you have cuda-python 11.8.3 which is incompatible.\n",
            "blosc2 3.3.2 requires numpy>=1.26, but you have numpy 1.24.4 which is incompatible.\n",
            "jaxlib 0.5.1 requires numpy>=1.25, but you have numpy 1.24.4 which is incompatible.\n",
            "rmm-cu12 25.2.0 requires cuda-python<13.0a0,>=12.6.2, but you have cuda-python 11.8.3 which is incompatible.\u001b[0m\u001b[31m\n",
            "\u001b[0mSuccessfully installed numpy-1.24.4\n"
          ]
        },
        {
          "output_type": "display_data",
          "data": {
            "application/vnd.colab-display-data+json": {
              "pip_warning": {
                "packages": [
                  "numpy"
                ]
              },
              "id": "de89facf454e4451a663d9e72105566a"
            }
          },
          "metadata": {}
        },
        {
          "output_type": "stream",
          "name": "stdout",
          "text": [
            "Collecting opencv-python\n",
            "  Downloading opencv_python-4.11.0.86-cp37-abi3-manylinux_2_17_x86_64.manylinux2014_x86_64.whl.metadata (20 kB)\n",
            "Collecting numpy>=1.21.2 (from opencv-python)\n",
            "  Downloading numpy-2.2.6-cp311-cp311-manylinux_2_17_x86_64.manylinux2014_x86_64.whl.metadata (62 kB)\n",
            "\u001b[2K     \u001b[90m━━━━━━━━━━━━━━━━━━━━━━━━━━━━━━━━━━━━━━━━\u001b[0m \u001b[32m62.0/62.0 kB\u001b[0m \u001b[31m7.3 MB/s\u001b[0m eta \u001b[36m0:00:00\u001b[0m\n",
            "\u001b[?25hDownloading opencv_python-4.11.0.86-cp37-abi3-manylinux_2_17_x86_64.manylinux2014_x86_64.whl (63.0 MB)\n",
            "\u001b[2K   \u001b[90m━━━━━━━━━━━━━━━━━━━━━━━━━━━━━━━━━━━━━━━━\u001b[0m \u001b[32m63.0/63.0 MB\u001b[0m \u001b[31m40.4 MB/s\u001b[0m eta \u001b[36m0:00:00\u001b[0m\n",
            "\u001b[?25hDownloading numpy-2.2.6-cp311-cp311-manylinux_2_17_x86_64.manylinux2014_x86_64.whl (16.8 MB)\n",
            "\u001b[2K   \u001b[90m━━━━━━━━━━━━━━━━━━━━━━━━━━━━━━━━━━━━━━━━\u001b[0m \u001b[32m16.8/16.8 MB\u001b[0m \u001b[31m122.0 MB/s\u001b[0m eta \u001b[36m0:00:00\u001b[0m\n",
            "\u001b[?25hInstalling collected packages: numpy, opencv-python\n",
            "  Attempting uninstall: numpy\n",
            "    Found existing installation: numpy 1.24.4\n",
            "    Uninstalling numpy-1.24.4:\n",
            "      Successfully uninstalled numpy-1.24.4\n",
            "  Attempting uninstall: opencv-python\n",
            "    Found existing installation: opencv-python 4.9.0.80\n",
            "    Uninstalling opencv-python-4.9.0.80:\n",
            "      Successfully uninstalled opencv-python-4.9.0.80\n",
            "\u001b[31mERROR: pip's dependency resolver does not currently take into account all the packages that are installed. This behaviour is the source of the following dependency conflicts.\n",
            "tensorflow-decision-forests 1.11.0 requires tensorflow==2.18.0, which is not installed.\n",
            "dopamine-rl 4.1.2 requires tensorflow>=2.2.0, which is not installed.\n",
            "cuml-cu12 25.2.1 requires cuda-python<13.0a0,>=12.6.2, but you have cuda-python 11.8.3 which is incompatible.\n",
            "cudf-cu12 25.2.1 requires cuda-python<13.0a0,>=12.6.2, but you have cuda-python 11.8.3 which is incompatible.\n",
            "cuvs-cu12 25.2.1 requires cuda-python<13.0a0,>=12.6.2, but you have cuda-python 11.8.3 which is incompatible.\n",
            "pylibraft-cu12 25.2.0 requires cuda-python<13.0a0,>=12.6.2, but you have cuda-python 11.8.3 which is incompatible.\n",
            "numba 0.60.0 requires numpy<2.1,>=1.22, but you have numpy 2.2.6 which is incompatible.\n",
            "rmm-cu12 25.2.0 requires cuda-python<13.0a0,>=12.6.2, but you have cuda-python 11.8.3 which is incompatible.\u001b[0m\u001b[31m\n",
            "\u001b[0mSuccessfully installed numpy-2.2.6 opencv-python-4.11.0.86\n",
            "Collecting tensorboard==2.14\n",
            "  Downloading tensorboard-2.14.0-py3-none-any.whl.metadata (1.8 kB)\n",
            "Collecting absl-py>=0.4 (from tensorboard==2.14)\n",
            "  Downloading absl_py-2.2.2-py3-none-any.whl.metadata (2.6 kB)\n",
            "Collecting grpcio>=1.48.2 (from tensorboard==2.14)\n",
            "  Downloading grpcio-1.71.0-cp311-cp311-manylinux_2_17_x86_64.manylinux2014_x86_64.whl.metadata (3.8 kB)\n",
            "Collecting google-auth<3,>=1.6.3 (from tensorboard==2.14)\n",
            "  Downloading google_auth-2.40.1-py2.py3-none-any.whl.metadata (6.2 kB)\n",
            "Collecting google-auth-oauthlib<1.1,>=0.5 (from tensorboard==2.14)\n",
            "  Downloading google_auth_oauthlib-1.0.0-py2.py3-none-any.whl.metadata (2.7 kB)\n",
            "Collecting markdown>=2.6.8 (from tensorboard==2.14)\n",
            "  Downloading markdown-3.8-py3-none-any.whl.metadata (5.1 kB)\n",
            "Traceback (most recent call last):\n",
            "  File \"/usr/local/lib/python3.11/dist-packages/pip/_internal/cli/base_command.py\", line 179, in exc_logging_wrapper\n",
            "    status = run_func(*args)\n",
            "             ^^^^^^^^^^^^^^^\n",
            "  File \"/usr/local/lib/python3.11/dist-packages/pip/_internal/cli/req_command.py\", line 67, in wrapper\n",
            "^C\n"
          ]
        }
      ]
    },
    {
      "cell_type": "code",
      "source": [
        "!git clone https://github.com/cqylunlun/pbas.git\n"
      ],
      "metadata": {
        "colab": {
          "base_uri": "https://localhost:8080/"
        },
        "id": "BWWPcVMoG_Gh",
        "outputId": "4e269c88-12e4-4592-c3c2-d27f914eaa40"
      },
      "execution_count": 1,
      "outputs": [
        {
          "output_type": "stream",
          "name": "stdout",
          "text": [
            "Cloning into 'pbas'...\n",
            "remote: Enumerating objects: 51, done.\u001b[K\n",
            "remote: Counting objects: 100% (51/51), done.\u001b[K\n",
            "remote: Compressing objects: 100% (34/34), done.\u001b[K\n",
            "remote: Total 51 (delta 16), reused 41 (delta 13), pack-reused 0 (from 0)\u001b[K\n",
            "Receiving objects: 100% (51/51), 1.25 MiB | 30.47 MiB/s, done.\n",
            "Resolving deltas: 100% (16/16), done.\n"
          ]
        }
      ]
    },
    {
      "cell_type": "code",
      "source": [
        "# 1. Dataset yolun\n",
        "datapath = \"/content/drive/MyDrive/wood_otsu\"\n",
        "subdatasets = [\"wood\"]\n",
        "flags = ' '.join([f\"--subdatasets {cls}\" for cls in subdatasets])\n",
        "\n",
        "# 2. Eğitim komutu\n",
        "command = f\"\"\"\n",
        "python /content/pbas/main.py \\\n",
        "  --gpu 0 \\\n",
        "  --seed 0 \\\n",
        "  net \\\n",
        "    -b wideresnet50 \\\n",
        "    -le layer2 \\\n",
        "    -le layer3 \\\n",
        "    --pretrain_embed_dimension 1536 \\\n",
        "    --target_embed_dimension 1536 \\\n",
        "    --patchsize 3 \\\n",
        "    --meta_epochs 20 \\\n",
        "    --eval_epochs 5 \\\n",
        "    --dsc_layers 2 \\\n",
        "    --dsc_hidden 1024 \\\n",
        "    --pre_proj 1 \\\n",
        "    --k 0.25 \\\n",
        "  dataset \\\n",
        "    --batch_size 8 \\\n",
        "    --resize 256 \\\n",
        "    --imagesize 256 \\\n",
        "    {flags} mvtec {datapath}\n",
        "\"\"\"\n",
        "\n",
        "# 3. (İsteğe bağlı) Önceki checkpoint silinsin\n",
        "#!rm -f /content/pbas/ckpt/mvtec_wood/ckpt.pth\n",
        "\n",
        "# 4. Çalıştır\n",
        "!{command}\n"
      ],
      "metadata": {
        "colab": {
          "base_uri": "https://localhost:8080/"
        },
        "id": "6moG16qHL7QQ",
        "outputId": "77fbf570-6102-4f83-daba-67a0273d057c"
      },
      "execution_count": 24,
      "outputs": [
        {
          "output_type": "stream",
          "name": "stdout",
          "text": [
            "INFO:__main__:Command line arguments: /content/pbas/main.py --gpu 0 --seed 0 net -b wideresnet50 -le layer2 -le layer3 --pretrain_embed_dimension 1536 --target_embed_dimension 1536 --patchsize 3 --meta_epochs 20 --eval_epochs 5 --dsc_layers 2 --dsc_hidden 1024 --pre_proj 1 --k 0.25 dataset --batch_size 8 --resize 256 --imagesize 256 --subdatasets wood mvtec /content/drive/MyDrive/wood_otsu\n",
            "INFO:__main__:Dataset         WOOD        : train=69 test=141\n",
            "\n",
            "\n",
            "INFO:__main__:Selecting dataset [mvtec_wood] (1/1) 2025-05-20 10:57:16\n",
            "INFO:pbas:Start testing, ckpt file found!\n",
            "🔍 Optimal threshold: 0.9759\n",
            "✅ Image-level F1 Score: 0.8889\n",
            "📊 Precision: 0.8767\n",
            "📈 Recall: 0.9014\n",
            "🧮 Confusion Matrix:\n",
            " [[61  9]\n",
            " [ 7 64]]\n",
            "image_auroc:91.91 image_ap:85.54 pixel_auroc:77.17 pixel_ap:5.82 pixel_pro:0.0 best_epoch:19\n",
            "\n",
            "\n"
          ]
        }
      ]
    },
    {
      "cell_type": "code",
      "source": [
        "!rm -rf /content/results"
      ],
      "metadata": {
        "id": "xyYjzwR2JiOr"
      },
      "execution_count": 22,
      "outputs": []
    },
    {
      "cell_type": "code",
      "source": [],
      "metadata": {
        "id": "5-Qrp-gDMhy2"
      },
      "execution_count": null,
      "outputs": []
    }
  ]
}