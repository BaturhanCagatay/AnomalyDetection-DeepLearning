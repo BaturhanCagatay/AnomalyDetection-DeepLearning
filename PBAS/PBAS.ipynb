{
  "nbformat": 4,
  "nbformat_minor": 0,
  "metadata": {
    "colab": {
      "provenance": [],
      "machine_shape": "hm",
      "gpuType": "L4"
    },
    "kernelspec": {
      "name": "python3",
      "display_name": "Python 3"
    },
    "language_info": {
      "name": "python"
    },
    "accelerator": "GPU"
  },
  "cells": [
    {
      "cell_type": "code",
      "execution_count": 1,
      "metadata": {
        "colab": {
          "base_uri": "https://localhost:8080/"
        },
        "id": "2fYeFs8ksrzi",
        "outputId": "8215556b-37c7-4036-89d7-44d38f21b463"
      },
      "outputs": [
        {
          "output_type": "stream",
          "name": "stdout",
          "text": [
            "Drive already mounted at /content/drive; to attempt to forcibly remount, call drive.mount(\"/content/drive\", force_remount=True).\n"
          ]
        }
      ],
      "source": [
        "from google.colab import drive\n",
        "drive.mount('/content/drive')"
      ]
    },
    {
      "cell_type": "code",
      "source": [
        "!pip install click==8.1.7\n",
        "!pip install cuda-python==11.8.3\n",
        "!pip install opencv-python==4.9.0.80\n"
      ],
      "metadata": {
        "colab": {
          "base_uri": "https://localhost:8080/"
        },
        "id": "ZevqcvoGHDhe",
        "outputId": "863d08a3-469e-4060-a06b-0200e8aec3bf"
      },
      "execution_count": 3,
      "outputs": [
        {
          "output_type": "stream",
          "name": "stdout",
          "text": [
            "Collecting click==8.1.7\n",
            "  Using cached click-8.1.7-py3-none-any.whl.metadata (3.0 kB)\n",
            "Downloading click-8.1.7-py3-none-any.whl (97 kB)\n",
            "\u001b[?25l   \u001b[90m━━━━━━━━━━━━━━━━━━━━━━━━━━━━━━━━━━━━━━━━\u001b[0m \u001b[32m0.0/97.9 kB\u001b[0m \u001b[31m?\u001b[0m eta \u001b[36m-:--:--\u001b[0m\r\u001b[2K   \u001b[91m━━━━━━━━━━━━━━━━━━━━━━━━━━━━━━━━━━━━━\u001b[0m\u001b[91m╸\u001b[0m\u001b[90m━━\u001b[0m \u001b[32m92.2/97.9 kB\u001b[0m \u001b[31m3.4 MB/s\u001b[0m eta \u001b[36m0:00:01\u001b[0m\r\u001b[2K   \u001b[90m━━━━━━━━━━━━━━━━━━━━━━━━━━━━━━━━━━━━━━━━\u001b[0m \u001b[32m97.9/97.9 kB\u001b[0m \u001b[31m2.4 MB/s\u001b[0m eta \u001b[36m0:00:00\u001b[0m\n",
            "\u001b[?25hInstalling collected packages: click\n",
            "  Attempting uninstall: click\n",
            "    Found existing installation: click 8.1.8\n",
            "    Uninstalling click-8.1.8:\n",
            "      Successfully uninstalled click-8.1.8\n",
            "Successfully installed click-8.1.7\n",
            "Collecting cuda-python==11.8.3\n",
            "  Downloading cuda_python-11.8.3-cp311-cp311-manylinux_2_17_x86_64.manylinux2014_x86_64.whl.metadata (12 kB)\n",
            "Downloading cuda_python-11.8.3-cp311-cp311-manylinux_2_17_x86_64.manylinux2014_x86_64.whl (19.2 MB)\n",
            "\u001b[2K   \u001b[90m━━━━━━━━━━━━━━━━━━━━━━━━━━━━━━━━━━━━━━━━\u001b[0m \u001b[32m19.2/19.2 MB\u001b[0m \u001b[31m2.2 MB/s\u001b[0m eta \u001b[36m0:00:00\u001b[0m\n",
            "\u001b[?25hInstalling collected packages: cuda-python\n",
            "  Attempting uninstall: cuda-python\n",
            "    Found existing installation: cuda-python 12.6.2.post1\n",
            "    Uninstalling cuda-python-12.6.2.post1:\n",
            "      Successfully uninstalled cuda-python-12.6.2.post1\n",
            "\u001b[31mERROR: pip's dependency resolver does not currently take into account all the packages that are installed. This behaviour is the source of the following dependency conflicts.\n",
            "cudf-cu12 25.2.1 requires cuda-python<13.0a0,>=12.6.2, but you have cuda-python 11.8.3 which is incompatible.\n",
            "pylibcudf-cu12 25.2.1 requires cuda-python<13.0a0,>=12.6.2, but you have cuda-python 11.8.3 which is incompatible.\n",
            "cuml-cu12 25.2.1 requires cuda-python<13.0a0,>=12.6.2, but you have cuda-python 11.8.3 which is incompatible.\n",
            "pylibraft-cu12 25.2.0 requires cuda-python<13.0a0,>=12.6.2, but you have cuda-python 11.8.3 which is incompatible.\n",
            "rmm-cu12 25.2.0 requires cuda-python<13.0a0,>=12.6.2, but you have cuda-python 11.8.3 which is incompatible.\n",
            "cuvs-cu12 25.2.1 requires cuda-python<13.0a0,>=12.6.2, but you have cuda-python 11.8.3 which is incompatible.\u001b[0m\u001b[31m\n",
            "\u001b[0mSuccessfully installed cuda-python-11.8.3\n",
            "Collecting opencv-python==4.9.0.80\n",
            "  Downloading opencv_python-4.9.0.80-cp37-abi3-manylinux_2_17_x86_64.manylinux2014_x86_64.whl.metadata (20 kB)\n",
            "Requirement already satisfied: numpy>=1.21.2 in /usr/local/lib/python3.11/dist-packages (from opencv-python==4.9.0.80) (2.0.2)\n",
            "Downloading opencv_python-4.9.0.80-cp37-abi3-manylinux_2_17_x86_64.manylinux2014_x86_64.whl (62.2 MB)\n",
            "\u001b[2K   \u001b[90m━━━━━━━━━━━━━━━━━━━━━━━━━━━━━━━━━━━━━━━━\u001b[0m \u001b[32m62.2/62.2 MB\u001b[0m \u001b[31m10.9 MB/s\u001b[0m eta \u001b[36m0:00:00\u001b[0m\n",
            "\u001b[?25hInstalling collected packages: opencv-python\n",
            "  Attempting uninstall: opencv-python\n",
            "    Found existing installation: opencv-python 4.11.0.86\n",
            "    Uninstalling opencv-python-4.11.0.86:\n",
            "      Successfully uninstalled opencv-python-4.11.0.86\n",
            "Successfully installed opencv-python-4.9.0.80\n"
          ]
        }
      ]
    },
    {
      "cell_type": "code",
      "source": [
        "# TensorFlow tamamen kaldırılsın (çünkü ihtiyaç yok)\n",
        "!pip uninstall -y tensorflow tensorflow-estimator keras keras-nightly keras-preprocessing\n",
        "\n",
        "# NumPy uyumlu sürüme çekilsin (OpenCV, PyTorch vs. ile uyumlu olan)\n",
        "!pip install numpy==1.24.4\n",
        "\n",
        "# OpenCV ve tensorboard yeniden yüklensin\n",
        "!pip install --force-reinstall opencv-python\n",
        "!pip install --force-reinstall tensorboard==2.14\n"
      ],
      "metadata": {
        "colab": {
          "base_uri": "https://localhost:8080/",
          "height": 738
        },
        "id": "GZRH0Qd6JFHN",
        "outputId": "b03eb2f3-913f-479a-b0b1-d1cbb75df3c0"
      },
      "execution_count": 2,
      "outputs": [
        {
          "output_type": "stream",
          "name": "stdout",
          "text": [
            "Found existing installation: tensorflow 2.18.0\n",
            "Uninstalling tensorflow-2.18.0:\n",
            "  Successfully uninstalled tensorflow-2.18.0\n",
            "\u001b[33mWARNING: Skipping tensorflow-estimator as it is not installed.\u001b[0m\u001b[33m\n",
            "\u001b[0mFound existing installation: keras 3.8.0\n",
            "Uninstalling keras-3.8.0:\n",
            "  Successfully uninstalled keras-3.8.0\n",
            "\u001b[33mWARNING: Skipping keras-nightly as it is not installed.\u001b[0m\u001b[33m\n",
            "\u001b[0m\u001b[33mWARNING: Skipping keras-preprocessing as it is not installed.\u001b[0m\u001b[33m\n",
            "\u001b[0mCollecting numpy==1.24.4\n",
            "  Using cached numpy-1.24.4-cp311-cp311-manylinux_2_17_x86_64.manylinux2014_x86_64.whl.metadata (5.6 kB)\n",
            "Using cached numpy-1.24.4-cp311-cp311-manylinux_2_17_x86_64.manylinux2014_x86_64.whl (17.3 MB)\n",
            "Installing collected packages: numpy\n",
            "  Attempting uninstall: numpy\n",
            "    Found existing installation: numpy 2.2.4\n",
            "    Uninstalling numpy-2.2.4:\n",
            "      Successfully uninstalled numpy-2.2.4\n",
            "\u001b[31mERROR: pip's dependency resolver does not currently take into account all the packages that are installed. This behaviour is the source of the following dependency conflicts.\n",
            "dopamine-rl 4.1.2 requires tensorflow>=2.2.0, which is not installed.\n",
            "cudf-cu12 25.2.1 requires cuda-python<13.0a0,>=12.6.2, but you have cuda-python 11.8.3 which is incompatible.\n",
            "jaxlib 0.5.1 requires numpy>=1.25, but you have numpy 1.24.4 which is incompatible.\n",
            "treescope 0.1.9 requires numpy>=1.25.2, but you have numpy 1.24.4 which is incompatible.\n",
            "blosc2 3.2.0 requires numpy>=1.26, but you have numpy 1.24.4 which is incompatible.\n",
            "cuml-cu12 25.2.1 requires cuda-python<13.0a0,>=12.6.2, but you have cuda-python 11.8.3 which is incompatible.\n",
            "jax 0.5.2 requires numpy>=1.25, but you have numpy 1.24.4 which is incompatible.\n",
            "pylibraft-cu12 25.2.0 requires cuda-python<13.0a0,>=12.6.2, but you have cuda-python 11.8.3 which is incompatible.\n",
            "rmm-cu12 25.2.0 requires cuda-python<13.0a0,>=12.6.2, but you have cuda-python 11.8.3 which is incompatible.\n",
            "pymc 5.21.1 requires numpy>=1.25.0, but you have numpy 1.24.4 which is incompatible.\n",
            "cuvs-cu12 25.2.1 requires cuda-python<13.0a0,>=12.6.2, but you have cuda-python 11.8.3 which is incompatible.\u001b[0m\u001b[31m\n",
            "\u001b[0mSuccessfully installed numpy-1.24.4\n"
          ]
        },
        {
          "output_type": "display_data",
          "data": {
            "application/vnd.colab-display-data+json": {
              "pip_warning": {
                "packages": [
                  "numpy"
                ]
              },
              "id": "23ace18033684af6ba0ec411b3e86a1b"
            }
          },
          "metadata": {}
        },
        {
          "output_type": "stream",
          "name": "stdout",
          "text": [
            "Collecting opencv-python\n",
            "  Using cached opencv_python-4.11.0.86-cp37-abi3-manylinux_2_17_x86_64.manylinux2014_x86_64.whl.metadata (20 kB)\n",
            "Traceback (most recent call last):\n",
            "  File \"/usr/local/lib/python3.11/dist-packages/pip/_internal/cli/base_command.py\", line 179, in exc_logging_wrapper\n",
            "^C\n",
            "^C\n"
          ]
        }
      ]
    },
    {
      "cell_type": "code",
      "source": [
        "!git clone https://github.com/cqylunlun/pbas.git\n"
      ],
      "metadata": {
        "colab": {
          "base_uri": "https://localhost:8080/"
        },
        "id": "BWWPcVMoG_Gh",
        "outputId": "4db01fe4-fc94-4862-dd0d-35eeae177214"
      },
      "execution_count": 3,
      "outputs": [
        {
          "output_type": "stream",
          "name": "stdout",
          "text": [
            "Cloning into 'pbas'...\n",
            "remote: Enumerating objects: 51, done.\u001b[K\n",
            "remote: Counting objects: 100% (51/51), done.\u001b[K\n",
            "remote: Compressing objects: 100% (34/34), done.\u001b[K\n",
            "remote: Total 51 (delta 16), reused 41 (delta 13), pack-reused 0 (from 0)\u001b[K\n",
            "Receiving objects: 100% (51/51), 1.25 MiB | 37.63 MiB/s, done.\n",
            "Resolving deltas: 100% (16/16), done.\n"
          ]
        }
      ]
    },
    {
      "cell_type": "code",
      "source": [
        "!python /content/pbas/main.py --help\n"
      ],
      "metadata": {
        "colab": {
          "base_uri": "https://localhost:8080/"
        },
        "id": "2pw-ovzCHPQ_",
        "outputId": "e5ea8fe2-063e-4ce5-ac8b-f277c1e7abde"
      },
      "execution_count": 1,
      "outputs": [
        {
          "output_type": "stream",
          "name": "stdout",
          "text": [
            "INFO:__main__:Command line arguments: /content/pbas/main.py --help\n",
            "Usage: main.py [OPTIONS] COMMAND1 [ARGS]... [COMMAND2 [ARGS]...]...\n",
            "\n",
            "Options:\n",
            "  --results_path TEXT\n",
            "  --gpu INTEGER        [default: 0]\n",
            "  --seed INTEGER       [default: 0]\n",
            "  --log_group TEXT\n",
            "  --log_project TEXT\n",
            "  --run_name TEXT\n",
            "  --test TEXT\n",
            "  --help               Show this message and exit.\n",
            "\n",
            "Commands:\n",
            "  dataset\n",
            "  net\n"
          ]
        }
      ]
    },
    {
      "cell_type": "code",
      "source": [
        "!python /content/pbas/main.py net --help\n"
      ],
      "metadata": {
        "colab": {
          "base_uri": "https://localhost:8080/"
        },
        "id": "0mfZ84ZpJ4U2",
        "outputId": "af8a5ce8-bb6e-47ea-e4e3-431989210cd0"
      },
      "execution_count": 3,
      "outputs": [
        {
          "output_type": "stream",
          "name": "stdout",
          "text": [
            "INFO:__main__:Command line arguments: /content/pbas/main.py net --help\n",
            "Usage: main.py net [OPTIONS]\n",
            "\n",
            "Options:\n",
            "  --dsc_margin FLOAT\n",
            "  --train_backbone\n",
            "  -b, --backbone_names TEXT\n",
            "  -le, --layers_to_extract_from TEXT\n",
            "  --pretrain_embed_dimension INTEGER\n",
            "  --target_embed_dimension INTEGER\n",
            "  --patchsize INTEGER\n",
            "  --meta_epochs INTEGER\n",
            "  --eval_epochs INTEGER\n",
            "  --dsc_layers INTEGER\n",
            "  --dsc_hidden INTEGER\n",
            "  --pre_proj INTEGER\n",
            "  --k FLOAT\n",
            "  --lr FLOAT\n",
            "  --help                          Show this message and exit.\n"
          ]
        }
      ]
    },
    {
      "cell_type": "code",
      "source": [
        "!python /content/pbas/main.py dataset --help\n"
      ],
      "metadata": {
        "colab": {
          "base_uri": "https://localhost:8080/"
        },
        "id": "UVtLiCgyJ508",
        "outputId": "81cedacc-50cc-4d16-fc37-b7bb063ea7be"
      },
      "execution_count": 4,
      "outputs": [
        {
          "output_type": "stream",
          "name": "stdout",
          "text": [
            "INFO:__main__:Command line arguments: /content/pbas/main.py dataset --help\n",
            "Usage: main.py dataset [OPTIONS] NAME DATA_PATH\n",
            "\n",
            "Options:\n",
            "  -d, --subdatasets TEXT  [required]\n",
            "  --batch_size INTEGER    [default: 8]\n",
            "  --num_workers INTEGER   [default: 16]\n",
            "  --resize INTEGER        [default: 288]\n",
            "  --imagesize INTEGER     [default: 288]\n",
            "  --help                  Show this message and exit.\n"
          ]
        }
      ]
    },
    {
      "cell_type": "code",
      "source": [
        "import torch\n",
        "print(\"GPU aktif mi?\", torch.cuda.is_available())\n",
        "print(\"GPU adı:\", torch.cuda.get_device_name(0) if torch.cuda.is_available() else \"YOK\")\n"
      ],
      "metadata": {
        "colab": {
          "base_uri": "https://localhost:8080/"
        },
        "id": "4jwiHk7hNDTe",
        "outputId": "5b479b59-3e82-49b9-9f78-05bbadbe5f3a"
      },
      "execution_count": 2,
      "outputs": [
        {
          "output_type": "stream",
          "name": "stdout",
          "text": [
            "GPU aktif mi? True\n",
            "GPU adı: NVIDIA L4\n"
          ]
        }
      ]
    },
    {
      "cell_type": "code",
      "source": [
        "!rm -f /content/pbas/ckpt/mvtec_wood/ckpt.pth\n"
      ],
      "metadata": {
        "id": "P5pDd-VNROhe"
      },
      "execution_count": 4,
      "outputs": []
    },
    {
      "cell_type": "code",
      "source": [
        "# 1. Dataset yolun\n",
        "datapath = \"/content/drive/MyDrive/wood_otsu\"\n",
        "subdatasets = [\"wood\"]\n",
        "flags = ' '.join([f\"--subdatasets {cls}\" for cls in subdatasets])\n",
        "\n",
        "# 2. Eğitim komutu\n",
        "command = f\"\"\"\n",
        "python /content/pbas/main.py \\\n",
        "  --gpu 0 \\\n",
        "  --seed 0 \\\n",
        "  net \\\n",
        "    -b wideresnet50 \\\n",
        "    -le layer2 \\\n",
        "    -le layer3 \\\n",
        "    --pretrain_embed_dimension 1536 \\\n",
        "    --target_embed_dimension 1536 \\\n",
        "    --patchsize 3 \\\n",
        "    --meta_epochs 20 \\\n",
        "    --eval_epochs 5 \\\n",
        "    --dsc_layers 2 \\\n",
        "    --dsc_hidden 1024 \\\n",
        "    --pre_proj 1 \\\n",
        "    --k 0.25 \\\n",
        "  dataset \\\n",
        "    --batch_size 8 \\\n",
        "    --resize 256 \\\n",
        "    --imagesize 256 \\\n",
        "    {flags} mvtec {datapath}\n",
        "\"\"\"\n",
        "\n",
        "# 3. (İsteğe bağlı) Önceki checkpoint silinsin\n",
        "!rm -f /content/pbas/ckpt/mvtec_wood/ckpt.pth\n",
        "\n",
        "# 4. Çalıştır\n",
        "!{command}\n"
      ],
      "metadata": {
        "colab": {
          "base_uri": "https://localhost:8080/"
        },
        "id": "6moG16qHL7QQ",
        "outputId": "41f573cd-fd40-4b59-d22b-551e30642b8a"
      },
      "execution_count": 3,
      "outputs": [
        {
          "output_type": "stream",
          "name": "stdout",
          "text": [
            "2025-03-29 09:49:34.190806: I tensorflow/core/util/port.cc:153] oneDNN custom operations are on. You may see slightly different numerical results due to floating-point round-off errors from different computation orders. To turn them off, set the environment variable `TF_ENABLE_ONEDNN_OPTS=0`.\n",
            "2025-03-29 09:49:34.209118: E external/local_xla/xla/stream_executor/cuda/cuda_fft.cc:477] Unable to register cuFFT factory: Attempting to register factory for plugin cuFFT when one has already been registered\n",
            "WARNING: All log messages before absl::InitializeLog() is called are written to STDERR\n",
            "E0000 00:00:1743241774.231105   13302 cuda_dnn.cc:8310] Unable to register cuDNN factory: Attempting to register factory for plugin cuDNN when one has already been registered\n",
            "E0000 00:00:1743241774.237751   13302 cuda_blas.cc:1418] Unable to register cuBLAS factory: Attempting to register factory for plugin cuBLAS when one has already been registered\n",
            "2025-03-29 09:49:34.260122: I tensorflow/core/platform/cpu_feature_guard.cc:210] This TensorFlow binary is optimized to use available CPU instructions in performance-critical operations.\n",
            "To enable the following instructions: AVX2 AVX512F AVX512_VNNI FMA, in other operations, rebuild TensorFlow with the appropriate compiler flags.\n",
            "INFO:__main__:Command line arguments: /content/pbas/main.py --gpu 0 --seed 0 net -b wideresnet50 -le layer2 -le layer3 --pretrain_embed_dimension 1536 --target_embed_dimension 1536 --patchsize 3 --meta_epochs 20 --eval_epochs 5 --dsc_layers 2 --dsc_hidden 1024 --pre_proj 1 --k 0.25 dataset --batch_size 8 --resize 256 --imagesize 256 --subdatasets wood mvtec /content/drive/MyDrive/wood_otsu\n",
            "INFO:__main__:Dataset         WOOD        : train=69 test=141\n",
            "\n",
            "\n",
            "INFO:__main__:Selecting dataset [mvtec_wood] (1/1) 2025-03-29 09:49:37\n",
            "epoch:4 sl:1.31e+00 bl:1.28e+00 pt:58.27 pf:69.25 c->t:1.31 c->f:1.64 t->f:0.33 sample:69:  20% 4/20 [00:07<00:25,  1.58s/epoch]\n",
            "Inferring...:   0% 0/18 [00:00<?, ?batch/s]\u001b[A\n",
            "Inferring...:   6% 1/18 [00:01<00:19,  1.13s/batch]\u001b[A\n",
            "Inferring...:  11% 2/18 [00:01<00:09,  1.74batch/s]\u001b[A\n",
            "Inferring...:  17% 3/18 [00:01<00:09,  1.61batch/s]\u001b[A\n",
            "Inferring...:  22% 4/18 [00:02<00:06,  2.22batch/s]\u001b[A\n",
            "Inferring...:  28% 5/18 [00:02<00:04,  2.82batch/s]\u001b[A\n",
            "Inferring...:  33% 6/18 [00:02<00:03,  3.36batch/s]\u001b[A\n",
            "Inferring...:  39% 7/18 [00:02<00:02,  3.83batch/s]\u001b[A\n",
            "Inferring...:  44% 8/18 [00:02<00:02,  4.22batch/s]\u001b[A\n",
            "Inferring...:  50% 9/18 [00:03<00:01,  4.50batch/s]\u001b[A\n",
            "Inferring...:  56% 10/18 [00:03<00:01,  4.74batch/s]\u001b[A\n",
            "Inferring...:  61% 11/18 [00:03<00:01,  4.91batch/s]\u001b[A\n",
            "Inferring...:  67% 12/18 [00:03<00:01,  5.03batch/s]\u001b[A\n",
            "Inferring...:  72% 13/18 [00:03<00:00,  5.10batch/s]\u001b[A\n",
            "Inferring...:  78% 14/18 [00:04<00:00,  5.18batch/s]\u001b[A\n",
            "Inferring...:  83% 15/18 [00:04<00:00,  5.23batch/s]\u001b[A\n",
            "Inferring...:  89% 16/18 [00:04<00:00,  5.23batch/s]\u001b[A\n",
            "Inferring...:  94% 17/18 [00:04<00:00,  5.24batch/s]\u001b[A\n",
            "Inferring...: 100% 18/18 [00:04<00:00,  6.05batch/s]\u001b[A\n",
            "epoch:9 sl:1.22e+00 bl:1.14e+00 pt:66.89 pf:81.14 c->t:1.22 c->f:1.53 t->f:0.31 sample:69 IAUC:67.24(67.24) PAUC:51.68(51.68) E:4(4):  45% 9/20 [00:29<00:30,  2.78s/epoch]\n",
            "Inferring...:   0% 0/18 [00:00<?, ?batch/s]\u001b[A\n",
            "Inferring...:   6% 1/18 [00:01<00:24,  1.42s/batch]\u001b[A\n",
            "Inferring...:  11% 2/18 [00:01<00:11,  1.43batch/s]\u001b[A\n",
            "Inferring...:  17% 3/18 [00:01<00:06,  2.15batch/s]\u001b[A\n",
            "Inferring...:  22% 4/18 [00:01<00:04,  2.82batch/s]\u001b[A\n",
            "Inferring...:  28% 5/18 [00:02<00:03,  3.40batch/s]\u001b[A\n",
            "Inferring...:  33% 6/18 [00:02<00:03,  3.87batch/s]\u001b[A\n",
            "Inferring...:  39% 7/18 [00:02<00:02,  4.26batch/s]\u001b[A\n",
            "Inferring...:  44% 8/18 [00:02<00:02,  4.56batch/s]\u001b[A\n",
            "Inferring...:  50% 9/18 [00:03<00:04,  1.95batch/s]\u001b[A\n",
            "Inferring...:  56% 10/18 [00:04<00:03,  2.42batch/s]\u001b[A\n",
            "Inferring...:  61% 11/18 [00:04<00:02,  2.91batch/s]\u001b[A\n",
            "Inferring...:  67% 12/18 [00:04<00:01,  3.36batch/s]\u001b[A\n",
            "Inferring...:  72% 13/18 [00:04<00:01,  3.78batch/s]\u001b[A\n",
            "Inferring...:  78% 14/18 [00:04<00:00,  4.15batch/s]\u001b[A\n",
            "Inferring...:  83% 15/18 [00:05<00:00,  4.45batch/s]\u001b[A\n",
            "Inferring...:  89% 16/18 [00:05<00:00,  4.67batch/s]\u001b[A\n",
            "Inferring...:  94% 17/18 [00:05<00:00,  4.83batch/s]\u001b[A\n",
            "Inferring...: 100% 18/18 [00:05<00:00,  5.64batch/s]\u001b[A\n",
            "epoch:14 sl:1.15e+00 bl:1.07e+00 pt:73.06 pf:84.84 c->t:1.15 c->f:1.43 t->f:0.29 sample:69 IAUC:87.63(87.63) PAUC:69.32(69.32) E:9(9):  70% 14/20 [00:52<00:18,  3.10s/epoch]\n",
            "Inferring...:   0% 0/18 [00:00<?, ?batch/s]\u001b[A\n",
            "Inferring...:   6% 1/18 [00:01<00:24,  1.45s/batch]\u001b[A\n",
            "Inferring...:  11% 2/18 [00:01<00:11,  1.40batch/s]\u001b[A\n",
            "Inferring...:  17% 3/18 [00:01<00:07,  2.07batch/s]\u001b[A\n",
            "Inferring...:  22% 4/18 [00:02<00:05,  2.68batch/s]\u001b[A\n",
            "Inferring...:  28% 5/18 [00:02<00:04,  3.21batch/s]\u001b[A\n",
            "Inferring...:  33% 6/18 [00:02<00:03,  3.65batch/s]\u001b[A\n",
            "Inferring...:  39% 7/18 [00:02<00:02,  3.99batch/s]\u001b[A\n",
            "Inferring...:  44% 8/18 [00:02<00:02,  4.36batch/s]\u001b[A\n",
            "Inferring...:  50% 9/18 [00:03<00:01,  4.53batch/s]\u001b[A\n",
            "Inferring...:  56% 10/18 [00:03<00:01,  4.66batch/s]\u001b[A\n",
            "Inferring...:  61% 11/18 [00:03<00:01,  4.75batch/s]\u001b[A\n",
            "Inferring...:  67% 12/18 [00:03<00:01,  4.81batch/s]\u001b[A\n",
            "Inferring...:  72% 13/18 [00:03<00:01,  4.85batch/s]\u001b[A\n",
            "Inferring...:  78% 14/18 [00:04<00:00,  4.88batch/s]\u001b[A\n",
            "Inferring...:  83% 15/18 [00:04<00:00,  4.91batch/s]\u001b[A\n",
            "Inferring...:  89% 16/18 [00:04<00:00,  4.95batch/s]\u001b[A\n",
            "Inferring...:  94% 17/18 [00:04<00:00,  4.93batch/s]\u001b[A\n",
            "Inferring...: 100% 18/18 [00:04<00:00,  5.48batch/s]\u001b[A\n",
            "epoch:19 sl:1.08e+00 bl:1.02e+00 pt:76.52 pf:85.03 c->t:1.08 c->f:1.35 t->f:0.27 sample:69 IAUC:90.06(90.06) PAUC:68.76(68.76) E:14(14):  95% 19/20 [01:15<00:03,  3.16s/epoch]\n",
            "Inferring...:   0% 0/18 [00:00<?, ?batch/s]\u001b[A\n",
            "Inferring...:   6% 1/18 [00:01<00:25,  1.51s/batch]\u001b[A\n",
            "Inferring...:  11% 2/18 [00:01<00:11,  1.35batch/s]\u001b[A\n",
            "Inferring...:  17% 3/18 [00:01<00:07,  2.02batch/s]\u001b[A\n",
            "Inferring...:  22% 4/18 [00:03<00:10,  1.37batch/s]\u001b[A\n",
            "Inferring...:  28% 5/18 [00:03<00:06,  1.86batch/s]\u001b[A\n",
            "Inferring...:  33% 6/18 [00:03<00:05,  2.36batch/s]\u001b[A\n",
            "Inferring...:  39% 7/18 [00:03<00:03,  2.85batch/s]\u001b[A\n",
            "Inferring...:  44% 8/18 [00:03<00:03,  3.29batch/s]\u001b[A\n",
            "Inferring...:  50% 9/18 [00:04<00:02,  3.68batch/s]\u001b[A\n",
            "Inferring...:  56% 10/18 [00:04<00:01,  4.00batch/s]\u001b[A\n",
            "Inferring...:  61% 11/18 [00:04<00:01,  4.26batch/s]\u001b[A\n",
            "Inferring...:  67% 12/18 [00:04<00:01,  4.46batch/s]\u001b[A\n",
            "Inferring...:  72% 13/18 [00:04<00:01,  4.62batch/s]\u001b[A\n",
            "Inferring...:  78% 14/18 [00:05<00:00,  4.73batch/s]\u001b[A\n",
            "Inferring...:  83% 15/18 [00:05<00:00,  4.83batch/s]\u001b[A\n",
            "Inferring...:  89% 16/18 [00:05<00:00,  4.89batch/s]\u001b[A\n",
            "Inferring...:  94% 17/18 [00:05<00:00,  4.92batch/s]\u001b[A\n",
            "Inferring...: 100% 18/18 [00:05<00:00,  5.51batch/s]\u001b[A\n",
            "epoch:19 sl:1.08e+00 bl:1.02e+00 pt:76.52 pf:85.03 c->t:1.08 c->f:1.35 t->f:0.27 sample:69 IAUC:91.91(91.91) PAUC:77.17(77.17) E:19(19): 100% 20/20 [01:29<00:00,  4.46s/epoch]\n",
            "image_auroc:91.91 image_ap:85.54 pixel_auroc:77.17 pixel_ap:5.82 pixel_pro:0.0 best_epoch:19\n",
            "\n",
            "\n"
          ]
        }
      ]
    }
  ]
}