{
  "nbformat": 4,
  "nbformat_minor": 0,
  "metadata": {
    "colab": {
      "provenance": [],
      "machine_shape": "hm",
      "gpuType": "L4"
    },
    "kernelspec": {
      "name": "python3",
      "display_name": "Python 3"
    },
    "language_info": {
      "name": "python"
    },
    "accelerator": "GPU",
    "widgets": {
      "application/vnd.jupyter.widget-state+json": {
        "804cc641405347a7aa7914c858b37302": {
          "model_module": "@jupyter-widgets/controls",
          "model_name": "HBoxModel",
          "model_module_version": "1.5.0",
          "state": {
            "_dom_classes": [],
            "_model_module": "@jupyter-widgets/controls",
            "_model_module_version": "1.5.0",
            "_model_name": "HBoxModel",
            "_view_count": null,
            "_view_module": "@jupyter-widgets/controls",
            "_view_module_version": "1.5.0",
            "_view_name": "HBoxView",
            "box_style": "",
            "children": [
              "IPY_MODEL_edef8cedcea74b8aa536a13abb232d7f",
              "IPY_MODEL_44e4b63897da498b9be8862e15d85460",
              "IPY_MODEL_97cdc64c6cab47ebb6a72b5d2777e192"
            ],
            "layout": "IPY_MODEL_9379c3f461744b3292f9e326dc1160bc"
          }
        },
        "edef8cedcea74b8aa536a13abb232d7f": {
          "model_module": "@jupyter-widgets/controls",
          "model_name": "HTMLModel",
          "model_module_version": "1.5.0",
          "state": {
            "_dom_classes": [],
            "_model_module": "@jupyter-widgets/controls",
            "_model_module_version": "1.5.0",
            "_model_name": "HTMLModel",
            "_view_count": null,
            "_view_module": "@jupyter-widgets/controls",
            "_view_module_version": "1.5.0",
            "_view_name": "HTMLView",
            "description": "",
            "description_tooltip": null,
            "layout": "IPY_MODEL_bddb1ee9758940a2ad33adae070145e4",
            "placeholder": "​",
            "style": "IPY_MODEL_0e39575363b84cd1bea476e20b0802a6",
            "value": "Best trial: 26. Best value: 0.698118: 100%"
          }
        },
        "44e4b63897da498b9be8862e15d85460": {
          "model_module": "@jupyter-widgets/controls",
          "model_name": "FloatProgressModel",
          "model_module_version": "1.5.0",
          "state": {
            "_dom_classes": [],
            "_model_module": "@jupyter-widgets/controls",
            "_model_module_version": "1.5.0",
            "_model_name": "FloatProgressModel",
            "_view_count": null,
            "_view_module": "@jupyter-widgets/controls",
            "_view_module_version": "1.5.0",
            "_view_name": "ProgressView",
            "bar_style": "success",
            "description": "",
            "description_tooltip": null,
            "layout": "IPY_MODEL_ef2013d077f043b28bf890c23534af51",
            "max": 50,
            "min": 0,
            "orientation": "horizontal",
            "style": "IPY_MODEL_8caa7d2dcdcb405496e615ca1b83be6f",
            "value": 50
          }
        },
        "97cdc64c6cab47ebb6a72b5d2777e192": {
          "model_module": "@jupyter-widgets/controls",
          "model_name": "HTMLModel",
          "model_module_version": "1.5.0",
          "state": {
            "_dom_classes": [],
            "_model_module": "@jupyter-widgets/controls",
            "_model_module_version": "1.5.0",
            "_model_name": "HTMLModel",
            "_view_count": null,
            "_view_module": "@jupyter-widgets/controls",
            "_view_module_version": "1.5.0",
            "_view_name": "HTMLView",
            "description": "",
            "description_tooltip": null,
            "layout": "IPY_MODEL_8c6aa172c3a34b1a9fd19c67e318651a",
            "placeholder": "​",
            "style": "IPY_MODEL_211f0b4199c44ce0ac71d6b93b9c4c06",
            "value": " 50/50 [00:26&lt;00:00,  1.09s/it]"
          }
        },
        "9379c3f461744b3292f9e326dc1160bc": {
          "model_module": "@jupyter-widgets/base",
          "model_name": "LayoutModel",
          "model_module_version": "1.2.0",
          "state": {
            "_model_module": "@jupyter-widgets/base",
            "_model_module_version": "1.2.0",
            "_model_name": "LayoutModel",
            "_view_count": null,
            "_view_module": "@jupyter-widgets/base",
            "_view_module_version": "1.2.0",
            "_view_name": "LayoutView",
            "align_content": null,
            "align_items": null,
            "align_self": null,
            "border": null,
            "bottom": null,
            "display": null,
            "flex": null,
            "flex_flow": null,
            "grid_area": null,
            "grid_auto_columns": null,
            "grid_auto_flow": null,
            "grid_auto_rows": null,
            "grid_column": null,
            "grid_gap": null,
            "grid_row": null,
            "grid_template_areas": null,
            "grid_template_columns": null,
            "grid_template_rows": null,
            "height": null,
            "justify_content": null,
            "justify_items": null,
            "left": null,
            "margin": null,
            "max_height": null,
            "max_width": null,
            "min_height": null,
            "min_width": null,
            "object_fit": null,
            "object_position": null,
            "order": null,
            "overflow": null,
            "overflow_x": null,
            "overflow_y": null,
            "padding": null,
            "right": null,
            "top": null,
            "visibility": null,
            "width": null
          }
        },
        "bddb1ee9758940a2ad33adae070145e4": {
          "model_module": "@jupyter-widgets/base",
          "model_name": "LayoutModel",
          "model_module_version": "1.2.0",
          "state": {
            "_model_module": "@jupyter-widgets/base",
            "_model_module_version": "1.2.0",
            "_model_name": "LayoutModel",
            "_view_count": null,
            "_view_module": "@jupyter-widgets/base",
            "_view_module_version": "1.2.0",
            "_view_name": "LayoutView",
            "align_content": null,
            "align_items": null,
            "align_self": null,
            "border": null,
            "bottom": null,
            "display": null,
            "flex": null,
            "flex_flow": null,
            "grid_area": null,
            "grid_auto_columns": null,
            "grid_auto_flow": null,
            "grid_auto_rows": null,
            "grid_column": null,
            "grid_gap": null,
            "grid_row": null,
            "grid_template_areas": null,
            "grid_template_columns": null,
            "grid_template_rows": null,
            "height": null,
            "justify_content": null,
            "justify_items": null,
            "left": null,
            "margin": null,
            "max_height": null,
            "max_width": null,
            "min_height": null,
            "min_width": null,
            "object_fit": null,
            "object_position": null,
            "order": null,
            "overflow": null,
            "overflow_x": null,
            "overflow_y": null,
            "padding": null,
            "right": null,
            "top": null,
            "visibility": null,
            "width": null
          }
        },
        "0e39575363b84cd1bea476e20b0802a6": {
          "model_module": "@jupyter-widgets/controls",
          "model_name": "DescriptionStyleModel",
          "model_module_version": "1.5.0",
          "state": {
            "_model_module": "@jupyter-widgets/controls",
            "_model_module_version": "1.5.0",
            "_model_name": "DescriptionStyleModel",
            "_view_count": null,
            "_view_module": "@jupyter-widgets/base",
            "_view_module_version": "1.2.0",
            "_view_name": "StyleView",
            "description_width": ""
          }
        },
        "ef2013d077f043b28bf890c23534af51": {
          "model_module": "@jupyter-widgets/base",
          "model_name": "LayoutModel",
          "model_module_version": "1.2.0",
          "state": {
            "_model_module": "@jupyter-widgets/base",
            "_model_module_version": "1.2.0",
            "_model_name": "LayoutModel",
            "_view_count": null,
            "_view_module": "@jupyter-widgets/base",
            "_view_module_version": "1.2.0",
            "_view_name": "LayoutView",
            "align_content": null,
            "align_items": null,
            "align_self": null,
            "border": null,
            "bottom": null,
            "display": null,
            "flex": null,
            "flex_flow": null,
            "grid_area": null,
            "grid_auto_columns": null,
            "grid_auto_flow": null,
            "grid_auto_rows": null,
            "grid_column": null,
            "grid_gap": null,
            "grid_row": null,
            "grid_template_areas": null,
            "grid_template_columns": null,
            "grid_template_rows": null,
            "height": null,
            "justify_content": null,
            "justify_items": null,
            "left": null,
            "margin": null,
            "max_height": null,
            "max_width": null,
            "min_height": null,
            "min_width": null,
            "object_fit": null,
            "object_position": null,
            "order": null,
            "overflow": null,
            "overflow_x": null,
            "overflow_y": null,
            "padding": null,
            "right": null,
            "top": null,
            "visibility": null,
            "width": null
          }
        },
        "8caa7d2dcdcb405496e615ca1b83be6f": {
          "model_module": "@jupyter-widgets/controls",
          "model_name": "ProgressStyleModel",
          "model_module_version": "1.5.0",
          "state": {
            "_model_module": "@jupyter-widgets/controls",
            "_model_module_version": "1.5.0",
            "_model_name": "ProgressStyleModel",
            "_view_count": null,
            "_view_module": "@jupyter-widgets/base",
            "_view_module_version": "1.2.0",
            "_view_name": "StyleView",
            "bar_color": null,
            "description_width": ""
          }
        },
        "8c6aa172c3a34b1a9fd19c67e318651a": {
          "model_module": "@jupyter-widgets/base",
          "model_name": "LayoutModel",
          "model_module_version": "1.2.0",
          "state": {
            "_model_module": "@jupyter-widgets/base",
            "_model_module_version": "1.2.0",
            "_model_name": "LayoutModel",
            "_view_count": null,
            "_view_module": "@jupyter-widgets/base",
            "_view_module_version": "1.2.0",
            "_view_name": "LayoutView",
            "align_content": null,
            "align_items": null,
            "align_self": null,
            "border": null,
            "bottom": null,
            "display": null,
            "flex": null,
            "flex_flow": null,
            "grid_area": null,
            "grid_auto_columns": null,
            "grid_auto_flow": null,
            "grid_auto_rows": null,
            "grid_column": null,
            "grid_gap": null,
            "grid_row": null,
            "grid_template_areas": null,
            "grid_template_columns": null,
            "grid_template_rows": null,
            "height": null,
            "justify_content": null,
            "justify_items": null,
            "left": null,
            "margin": null,
            "max_height": null,
            "max_width": null,
            "min_height": null,
            "min_width": null,
            "object_fit": null,
            "object_position": null,
            "order": null,
            "overflow": null,
            "overflow_x": null,
            "overflow_y": null,
            "padding": null,
            "right": null,
            "top": null,
            "visibility": null,
            "width": null
          }
        },
        "211f0b4199c44ce0ac71d6b93b9c4c06": {
          "model_module": "@jupyter-widgets/controls",
          "model_name": "DescriptionStyleModel",
          "model_module_version": "1.5.0",
          "state": {
            "_model_module": "@jupyter-widgets/controls",
            "_model_module_version": "1.5.0",
            "_model_name": "DescriptionStyleModel",
            "_view_count": null,
            "_view_module": "@jupyter-widgets/base",
            "_view_module_version": "1.2.0",
            "_view_name": "StyleView",
            "description_width": ""
          }
        }
      }
    }
  },
  "cells": [
    {
      "cell_type": "code",
      "execution_count": 1,
      "metadata": {
        "colab": {
          "base_uri": "https://localhost:8080/"
        },
        "id": "ZvyhueqP-Azu",
        "outputId": "4013de67-c264-43ea-bdbc-b93a282b9903"
      },
      "outputs": [
        {
          "output_type": "stream",
          "name": "stdout",
          "text": [
            "Mounted at /content/drive\n"
          ]
        }
      ],
      "source": [
        "from google.colab import drive\n",
        "drive.mount('/content/drive')\n"
      ]
    },
    {
      "cell_type": "code",
      "source": [
        "!git clone https://github.com/donaldrr/simplenet.git\n"
      ],
      "metadata": {
        "colab": {
          "base_uri": "https://localhost:8080/"
        },
        "id": "2JbEm1Nl__rl",
        "outputId": "8c5a1015-392a-4051-b7ed-0049cbe8f57a"
      },
      "execution_count": 2,
      "outputs": [
        {
          "output_type": "stream",
          "name": "stdout",
          "text": [
            "Cloning into 'simplenet'...\n",
            "remote: Enumerating objects: 95, done.\u001b[K\n",
            "remote: Counting objects: 100% (56/56), done.\u001b[K\n",
            "remote: Compressing objects: 100% (25/25), done.\u001b[K\n",
            "remote: Total 95 (delta 42), reused 31 (delta 31), pack-reused 39 (from 1)\u001b[K\n",
            "Receiving objects: 100% (95/95), 235.91 KiB | 1.24 MiB/s, done.\n",
            "Resolving deltas: 100% (47/47), done.\n"
          ]
        }
      ]
    },
    {
      "cell_type": "code",
      "source": [
        "!pip install -q torch torchvision scikit-learn opencv-python matplotlib\n"
      ],
      "metadata": {
        "colab": {
          "base_uri": "https://localhost:8080/"
        },
        "id": "uJyksNOdANN0",
        "outputId": "f3d7c26f-a7f3-4c06-c5a6-64f613745ad1"
      },
      "execution_count": 3,
      "outputs": [
        {
          "output_type": "stream",
          "name": "stdout",
          "text": [
            "\u001b[2K   \u001b[90m━━━━━━━━━━━━━━━━━━━━━━━━━━━━━━━━━━━━━━━━\u001b[0m \u001b[32m363.4/363.4 MB\u001b[0m \u001b[31m3.2 MB/s\u001b[0m eta \u001b[36m0:00:00\u001b[0m\n",
            "\u001b[2K   \u001b[90m━━━━━━━━━━━━━━━━━━━━━━━━━━━━━━━━━━━━━━━━\u001b[0m \u001b[32m13.8/13.8 MB\u001b[0m \u001b[31m85.2 MB/s\u001b[0m eta \u001b[36m0:00:00\u001b[0m\n",
            "\u001b[2K   \u001b[90m━━━━━━━━━━━━━━━━━━━━━━━━━━━━━━━━━━━━━━━━\u001b[0m \u001b[32m24.6/24.6 MB\u001b[0m \u001b[31m74.8 MB/s\u001b[0m eta \u001b[36m0:00:00\u001b[0m\n",
            "\u001b[2K   \u001b[90m━━━━━━━━━━━━━━━━━━━━━━━━━━━━━━━━━━━━━━━━\u001b[0m \u001b[32m883.7/883.7 kB\u001b[0m \u001b[31m48.9 MB/s\u001b[0m eta \u001b[36m0:00:00\u001b[0m\n",
            "\u001b[2K   \u001b[90m━━━━━━━━━━━━━━━━━━━━━━━━━━━━━━━━━━━━━━━━\u001b[0m \u001b[32m664.8/664.8 MB\u001b[0m \u001b[31m2.2 MB/s\u001b[0m eta \u001b[36m0:00:00\u001b[0m\n",
            "\u001b[2K   \u001b[90m━━━━━━━━━━━━━━━━━━━━━━━━━━━━━━━━━━━━━━━━\u001b[0m \u001b[32m211.5/211.5 MB\u001b[0m \u001b[31m5.0 MB/s\u001b[0m eta \u001b[36m0:00:00\u001b[0m\n",
            "\u001b[2K   \u001b[90m━━━━━━━━━━━━━━━━━━━━━━━━━━━━━━━━━━━━━━━━\u001b[0m \u001b[32m56.3/56.3 MB\u001b[0m \u001b[31m42.8 MB/s\u001b[0m eta \u001b[36m0:00:00\u001b[0m\n",
            "\u001b[2K   \u001b[90m━━━━━━━━━━━━━━━━━━━━━━━━━━━━━━━━━━━━━━━━\u001b[0m \u001b[32m127.9/127.9 MB\u001b[0m \u001b[31m19.6 MB/s\u001b[0m eta \u001b[36m0:00:00\u001b[0m\n",
            "\u001b[2K   \u001b[90m━━━━━━━━━━━━━━━━━━━━━━━━━━━━━━━━━━━━━━━━\u001b[0m \u001b[32m207.5/207.5 MB\u001b[0m \u001b[31m4.2 MB/s\u001b[0m eta \u001b[36m0:00:00\u001b[0m\n",
            "\u001b[2K   \u001b[90m━━━━━━━━━━━━━━━━━━━━━━━━━━━━━━━━━━━━━━━━\u001b[0m \u001b[32m21.1/21.1 MB\u001b[0m \u001b[31m98.3 MB/s\u001b[0m eta \u001b[36m0:00:00\u001b[0m\n",
            "\u001b[?25h"
          ]
        }
      ]
    },
    {
      "cell_type": "markdown",
      "source": [
        "metrics.py dosyasındaki .append() satırını otomatik olarak concat() ile değiştirildi"
      ],
      "metadata": {
        "id": "4TMJItcTF3x9"
      }
    },
    {
      "cell_type": "markdown",
      "source": [
        "Yeniden Adlandırma ve Dönüştürme Kodu"
      ],
      "metadata": {
        "id": "-uIcrRCCMQjs"
      }
    },
    {
      "cell_type": "markdown",
      "source": [
        "simplenet.py ve metrics.py f1 ve iou yazdırılması için güncellendi."
      ],
      "metadata": {
        "id": "ZbcEaB6zYwa9"
      }
    },
    {
      "cell_type": "code",
      "source": [
        "!python /content/simplenet/main.py \\\n",
        "--gpu 0 \\\n",
        "--seed 0 \\\n",
        "--log_group simplenet_wood_fast \\\n",
        "--log_project WoodOnly \\\n",
        "--results_path results \\\n",
        "--run_name wood_fast_run \\\n",
        "net \\\n",
        "-b wideresnet50 \\\n",
        "-le layer2 \\\n",
        "-le layer3 \\\n",
        "--pretrain_embed_dimension 1024 \\\n",
        "--target_embed_dimension 1024 \\\n",
        "--patchsize 3 \\\n",
        "--meta_epochs 15 \\\n",
        "--embedding_size 256 \\\n",
        "--gan_epochs 5 \\\n",
        "--noise_std 0.015 \\\n",
        "--dsc_hidden 768 \\\n",
        "--dsc_layers 2 \\\n",
        "--dsc_margin .5 \\\n",
        "--pre_proj 2 \\\n",
        "dataset \\\n",
        "--batch_size 8 \\\n",
        "--resize 256 \\\n",
        "--imagesize 256 \\\n",
        "-d wood \\\n",
        "mvtec /content/drive/MyDrive/wood_dataset\n"
      ],
      "metadata": {
        "colab": {
          "base_uri": "https://localhost:8080/"
        },
        "id": "a8RSJdjPDFJE",
        "outputId": "0e5ee724-63b2-4050-f080-aaacae645f78"
      },
      "execution_count": 4,
      "outputs": [
        {
          "output_type": "stream",
          "name": "stdout",
          "text": [
            "2025-05-20 16:31:10.895041: I tensorflow/core/util/port.cc:153] oneDNN custom operations are on. You may see slightly different numerical results due to floating-point round-off errors from different computation orders. To turn them off, set the environment variable `TF_ENABLE_ONEDNN_OPTS=0`.\n",
            "2025-05-20 16:31:10.912481: E external/local_xla/xla/stream_executor/cuda/cuda_fft.cc:477] Unable to register cuFFT factory: Attempting to register factory for plugin cuFFT when one has already been registered\n",
            "WARNING: All log messages before absl::InitializeLog() is called are written to STDERR\n",
            "E0000 00:00:1747758670.934993    1528 cuda_dnn.cc:8310] Unable to register cuDNN factory: Attempting to register factory for plugin cuDNN when one has already been registered\n",
            "E0000 00:00:1747758670.941803    1528 cuda_blas.cc:1418] Unable to register cuBLAS factory: Attempting to register factory for plugin cuBLAS when one has already been registered\n",
            "2025-05-20 16:31:10.963471: I tensorflow/core/platform/cpu_feature_guard.cc:210] This TensorFlow binary is optimized to use available CPU instructions in performance-critical operations.\n",
            "To enable the following instructions: AVX2 AVX512F AVX512_VNNI FMA, in other operations, rebuild TensorFlow with the appropriate compiler flags.\n",
            "INFO:__main__:Command line arguments: /content/simplenet/main.py --gpu 0 --seed 0 --log_group simplenet_wood_fast --log_project WoodOnly --results_path results --run_name wood_fast_run net -b wideresnet50 -le layer2 -le layer3 --pretrain_embed_dimension 1024 --target_embed_dimension 1024 --patchsize 3 --meta_epochs 15 --embedding_size 256 --gan_epochs 5 --noise_std 0.015 --dsc_hidden 768 --dsc_layers 2 --dsc_margin .5 --pre_proj 2 dataset --batch_size 8 --resize 256 --imagesize 256 -d wood mvtec /content/drive/MyDrive/wood_dataset\n",
            "INFO:__main__:Dataset: train=70 test=141\n",
            "INFO:__main__:Evaluating dataset [mvtec_wood] (1/1)...\n",
            "/usr/local/lib/python3.11/dist-packages/torchvision/models/_utils.py:208: UserWarning: The parameter 'pretrained' is deprecated since 0.13 and may be removed in the future, please use 'weights' instead.\n",
            "  warnings.warn(\n",
            "/usr/local/lib/python3.11/dist-packages/torchvision/models/_utils.py:223: UserWarning: Arguments other than a weight enum or `None` for 'weights' are deprecated since 0.13 and may be removed in the future. The current behavior is equivalent to passing `weights=Wide_ResNet50_2_Weights.IMAGENET1K_V1`. You can also use `weights=Wide_ResNet50_2_Weights.DEFAULT` to get the most up-to-date weights.\n",
            "  warnings.warn(msg)\n",
            "Downloading: \"https://download.pytorch.org/models/wide_resnet50_2-95faca4d.pth\" to /root/.cache/torch/hub/checkpoints/wide_resnet50_2-95faca4d.pth\n",
            "100% 132M/132M [00:00<00:00, 205MB/s]\n",
            "INFO:__main__:Training models (1/1)\n",
            "INFO:simplenet:Training discriminator...\n",
            "epoch:4 loss:0.85814 lr:0.0002 p_true:0.119 p_fake:0.149: 100% 5/5 [00:45<00:00,  9.17s/it]\n",
            "/content/simplenet/metrics.py:143: FutureWarning: The behavior of DataFrame concatenation with empty or all-NA entries is deprecated. In a future version, this will no longer exclude empty or all-NA columns when determining the result dtypes. To retain the old behavior, exclude the relevant entries before the concat operation.\n",
            "  df = pd.concat([df, new_row], ignore_index=True)\n",
            "----- 0 I-AUROC:0.4988(MAX:0.4988)  P-AUROC0.3934(MAX:0.3934)  PRO-AUROC0.0808(MAX:0.0808)  F1:0.0281  IoU:0.0143 -----\n",
            "INFO:simplenet:Training discriminator...\n",
            "epoch:4 loss:0.67531 lr:0.0002 p_true:0.279 p_fake:0.313: 100% 5/5 [00:26<00:00,  5.22s/it]\n",
            "/content/simplenet/metrics.py:143: FutureWarning: The behavior of DataFrame concatenation with empty or all-NA entries is deprecated. In a future version, this will no longer exclude empty or all-NA columns when determining the result dtypes. To retain the old behavior, exclude the relevant entries before the concat operation.\n",
            "  df = pd.concat([df, new_row], ignore_index=True)\n",
            "----- 1 I-AUROC:0.4994(MAX:0.4994)  P-AUROC0.5827(MAX:0.5827)  PRO-AUROC0.2212(MAX:0.2212)  F1:0.0475  IoU:0.0243 -----\n",
            "INFO:simplenet:Training discriminator...\n",
            "epoch:4 loss:0.39702 lr:0.0002 p_true:0.436 p_fake:0.474: 100% 5/5 [00:26<00:00,  5.24s/it]\n",
            "/content/simplenet/metrics.py:143: FutureWarning: The behavior of DataFrame concatenation with empty or all-NA entries is deprecated. In a future version, this will no longer exclude empty or all-NA columns when determining the result dtypes. To retain the old behavior, exclude the relevant entries before the concat operation.\n",
            "  df = pd.concat([df, new_row], ignore_index=True)\n",
            "----- 2 I-AUROC:0.5586(MAX:0.5586)  P-AUROC0.7132(MAX:0.7132)  PRO-AUROC0.3279(MAX:0.3279)  F1:0.064  IoU:0.0331 -----\n",
            "INFO:simplenet:Training discriminator...\n",
            "epoch:4 loss:0.18069 lr:0.0002 p_true:0.631 p_fake:0.676: 100% 5/5 [00:26<00:00,  5.23s/it]\n",
            "/content/simplenet/metrics.py:143: FutureWarning: The behavior of DataFrame concatenation with empty or all-NA entries is deprecated. In a future version, this will no longer exclude empty or all-NA columns when determining the result dtypes. To retain the old behavior, exclude the relevant entries before the concat operation.\n",
            "  df = pd.concat([df, new_row], ignore_index=True)\n",
            "----- 3 I-AUROC:0.7354(MAX:0.7354)  P-AUROC0.8119(MAX:0.8119)  PRO-AUROC0.6277(MAX:0.6277)  F1:0.0932  IoU:0.0489 -----\n",
            "INFO:simplenet:Training discriminator...\n",
            "epoch:4 loss:0.08471 lr:0.0002 p_true:0.794 p_fake:0.805: 100% 5/5 [00:26<00:00,  5.24s/it]\n",
            "/content/simplenet/metrics.py:143: FutureWarning: The behavior of DataFrame concatenation with empty or all-NA entries is deprecated. In a future version, this will no longer exclude empty or all-NA columns when determining the result dtypes. To retain the old behavior, exclude the relevant entries before the concat operation.\n",
            "  df = pd.concat([df, new_row], ignore_index=True)\n",
            "----- 4 I-AUROC:0.7441(MAX:0.7441)  P-AUROC0.7341(MAX:0.7341)  PRO-AUROC0.4996(MAX:0.4996)  F1:0.0717  IoU:0.0372 -----\n",
            "INFO:simplenet:Training discriminator...\n",
            "epoch:4 loss:0.03662 lr:0.0002 p_true:0.888 p_fake:0.901: 100% 5/5 [00:27<00:00,  5.46s/it]\n",
            "/content/simplenet/metrics.py:143: FutureWarning: The behavior of DataFrame concatenation with empty or all-NA entries is deprecated. In a future version, this will no longer exclude empty or all-NA columns when determining the result dtypes. To retain the old behavior, exclude the relevant entries before the concat operation.\n",
            "  df = pd.concat([df, new_row], ignore_index=True)\n",
            "----- 5 I-AUROC:0.7185(MAX:0.7441)  P-AUROC0.7765(MAX:0.7341)  PRO-AUROC0.5061(MAX:0.4996)  F1:0.0908  IoU:0.0476 -----\n",
            "INFO:simplenet:Training discriminator...\n",
            "epoch:4 loss:0.03325 lr:0.0002 p_true:0.916 p_fake:0.93: 100% 5/5 [00:26<00:00,  5.24s/it]\n",
            "/content/simplenet/metrics.py:143: FutureWarning: The behavior of DataFrame concatenation with empty or all-NA entries is deprecated. In a future version, this will no longer exclude empty or all-NA columns when determining the result dtypes. To retain the old behavior, exclude the relevant entries before the concat operation.\n",
            "  df = pd.concat([df, new_row], ignore_index=True)\n",
            "----- 6 I-AUROC:0.7811(MAX:0.7811)  P-AUROC0.8404(MAX:0.8404)  PRO-AUROC0.528(MAX:0.528)  F1:0.0881  IoU:0.0461 -----\n",
            "INFO:simplenet:Training discriminator...\n",
            "epoch:4 loss:0.01549 lr:0.0002 p_true:0.955 p_fake:0.956: 100% 5/5 [00:26<00:00,  5.27s/it]\n",
            "/content/simplenet/metrics.py:143: FutureWarning: The behavior of DataFrame concatenation with empty or all-NA entries is deprecated. In a future version, this will no longer exclude empty or all-NA columns when determining the result dtypes. To retain the old behavior, exclude the relevant entries before the concat operation.\n",
            "  df = pd.concat([df, new_row], ignore_index=True)\n",
            "----- 7 I-AUROC:0.7362(MAX:0.7811)  P-AUROC0.8301(MAX:0.8404)  PRO-AUROC0.5897(MAX:0.528)  F1:0.0908  IoU:0.0475 -----\n",
            "INFO:simplenet:Training discriminator...\n",
            "epoch:4 loss:0.01524 lr:0.0002 p_true:0.961 p_fake:0.963: 100% 5/5 [00:26<00:00,  5.26s/it]\n",
            "/content/simplenet/metrics.py:143: FutureWarning: The behavior of DataFrame concatenation with empty or all-NA entries is deprecated. In a future version, this will no longer exclude empty or all-NA columns when determining the result dtypes. To retain the old behavior, exclude the relevant entries before the concat operation.\n",
            "  df = pd.concat([df, new_row], ignore_index=True)\n",
            "----- 8 I-AUROC:0.7505(MAX:0.7811)  P-AUROC0.8042(MAX:0.8404)  PRO-AUROC0.5319(MAX:0.528)  F1:0.091  IoU:0.0477 -----\n",
            "INFO:simplenet:Training discriminator...\n",
            "epoch:4 loss:0.014 lr:0.0002 p_true:0.977 p_fake:0.978: 100% 5/5 [00:26<00:00,  5.26s/it]\n",
            "/content/simplenet/metrics.py:143: FutureWarning: The behavior of DataFrame concatenation with empty or all-NA entries is deprecated. In a future version, this will no longer exclude empty or all-NA columns when determining the result dtypes. To retain the old behavior, exclude the relevant entries before the concat operation.\n",
            "  df = pd.concat([df, new_row], ignore_index=True)\n",
            "----- 9 I-AUROC:0.7748(MAX:0.7811)  P-AUROC0.804(MAX:0.8404)  PRO-AUROC0.523(MAX:0.528)  F1:0.0762  IoU:0.0396 -----\n",
            "INFO:simplenet:Training discriminator...\n",
            "epoch:4 loss:0.00524 lr:0.0002 p_true:0.984 p_fake:0.989: 100% 5/5 [00:26<00:00,  5.27s/it]\n",
            "/content/simplenet/metrics.py:143: FutureWarning: The behavior of DataFrame concatenation with empty or all-NA entries is deprecated. In a future version, this will no longer exclude empty or all-NA columns when determining the result dtypes. To retain the old behavior, exclude the relevant entries before the concat operation.\n",
            "  df = pd.concat([df, new_row], ignore_index=True)\n",
            "----- 10 I-AUROC:0.7453(MAX:0.7811)  P-AUROC0.8337(MAX:0.8404)  PRO-AUROC0.5466(MAX:0.528)  F1:0.0883  IoU:0.0462 -----\n",
            "INFO:simplenet:Training discriminator...\n",
            "epoch:4 loss:0.00385 lr:0.0002 p_true:0.99 p_fake:0.986: 100% 5/5 [00:26<00:00,  5.24s/it]\n",
            "/content/simplenet/metrics.py:143: FutureWarning: The behavior of DataFrame concatenation with empty or all-NA entries is deprecated. In a future version, this will no longer exclude empty or all-NA columns when determining the result dtypes. To retain the old behavior, exclude the relevant entries before the concat operation.\n",
            "  df = pd.concat([df, new_row], ignore_index=True)\n",
            "----- 11 I-AUROC:0.7744(MAX:0.7811)  P-AUROC0.8697(MAX:0.8404)  PRO-AUROC0.6454(MAX:0.528)  F1:0.1134  IoU:0.0601 -----\n",
            "INFO:simplenet:Training discriminator...\n",
            "epoch:4 loss:0.01617 lr:0.0002 p_true:0.978 p_fake:0.984: 100% 5/5 [00:26<00:00,  5.26s/it]\n",
            "/content/simplenet/metrics.py:143: FutureWarning: The behavior of DataFrame concatenation with empty or all-NA entries is deprecated. In a future version, this will no longer exclude empty or all-NA columns when determining the result dtypes. To retain the old behavior, exclude the relevant entries before the concat operation.\n",
            "  df = pd.concat([df, new_row], ignore_index=True)\n",
            "----- 12 I-AUROC:0.7688(MAX:0.7811)  P-AUROC0.7637(MAX:0.8404)  PRO-AUROC0.456(MAX:0.528)  F1:0.0618  IoU:0.0319 -----\n",
            "INFO:simplenet:Training discriminator...\n",
            "epoch:4 loss:0.01146 lr:0.0002 p_true:0.972 p_fake:0.975: 100% 5/5 [00:26<00:00,  5.27s/it]\n",
            "/content/simplenet/metrics.py:143: FutureWarning: The behavior of DataFrame concatenation with empty or all-NA entries is deprecated. In a future version, this will no longer exclude empty or all-NA columns when determining the result dtypes. To retain the old behavior, exclude the relevant entries before the concat operation.\n",
            "  df = pd.concat([df, new_row], ignore_index=True)\n",
            "----- 13 I-AUROC:0.736(MAX:0.7811)  P-AUROC0.8169(MAX:0.8404)  PRO-AUROC0.4641(MAX:0.528)  F1:0.0798  IoU:0.0416 -----\n",
            "INFO:simplenet:Training discriminator...\n",
            "epoch:4 loss:0.00977 lr:0.0002 p_true:0.979 p_fake:0.985: 100% 5/5 [00:26<00:00,  5.29s/it]\n",
            "/content/simplenet/metrics.py:143: FutureWarning: The behavior of DataFrame concatenation with empty or all-NA entries is deprecated. In a future version, this will no longer exclude empty or all-NA columns when determining the result dtypes. To retain the old behavior, exclude the relevant entries before the concat operation.\n",
            "  df = pd.concat([df, new_row], ignore_index=True)\n",
            "----- 14 I-AUROC:0.7435(MAX:0.7811)  P-AUROC0.7676(MAX:0.8404)  PRO-AUROC0.4038(MAX:0.528)  F1:0.0649  IoU:0.0335 -----\n",
            "INFO:__main__:instance_auroc: 0.781\n",
            "INFO:__main__:full_pixel_auroc: 0.840\n",
            "INFO:__main__:anomaly_pixel_auroc: 0.528\n",
            "INFO:__main__:\n",
            "\n",
            "-----\n",
            "\n",
            "INFO:utils:instance_auroc: 0.781\n",
            "INFO:utils:full_pixel_auroc: 0.840\n",
            "INFO:utils:anomaly_pixel_auroc: 0.528\n"
          ]
        }
      ]
    },
    {
      "cell_type": "code",
      "source": [
        "!python /content/simplenet/main.py \\\n",
        "--gpu 0 \\\n",
        "--seed 0 \\\n",
        "--log_group simplenet_wood_fast \\\n",
        "--log_project WoodOnly \\\n",
        "--results_path results \\\n",
        "--run_name wood_fast_run \\\n",
        "--test \\\n",
        "--save_segmentation_images \\\n",
        "net \\\n",
        "-b wideresnet50 \\\n",
        "-le layer2 \\\n",
        "-le layer3 \\\n",
        "--pretrain_embed_dimension 1536 \\\n",
        "--target_embed_dimension 1536 \\\n",
        "--patchsize 3 \\\n",
        "--embedding_size 256 \\\n",
        "--gan_epochs 5 \\\n",
        "--noise_std 0.015 \\\n",
        "--dsc_hidden 768 \\\n",
        "--dsc_layers 2 \\\n",
        "--dsc_margin .5 \\\n",
        "--pre_proj 2 \\\n",
        "dataset \\\n",
        "--batch_size 8 \\\n",
        "--resize 256 \\\n",
        "--imagesize 256 \\\n",
        "-d wood \\\n",
        "mvtec /content/drive/MyDrive/wood_dataset\n"
      ],
      "metadata": {
        "colab": {
          "base_uri": "https://localhost:8080/"
        },
        "id": "5yDt0VLk5_7s",
        "outputId": "245225c7-0510-4e90-83a8-0cd652e6f0da"
      },
      "execution_count": 6,
      "outputs": [
        {
          "output_type": "stream",
          "name": "stdout",
          "text": [
            "2025-05-20 17:01:25.697599: I tensorflow/core/util/port.cc:153] oneDNN custom operations are on. You may see slightly different numerical results due to floating-point round-off errors from different computation orders. To turn them off, set the environment variable `TF_ENABLE_ONEDNN_OPTS=0`.\n",
            "2025-05-20 17:01:25.716050: E external/local_xla/xla/stream_executor/cuda/cuda_fft.cc:477] Unable to register cuFFT factory: Attempting to register factory for plugin cuFFT when one has already been registered\n",
            "WARNING: All log messages before absl::InitializeLog() is called are written to STDERR\n",
            "E0000 00:00:1747760485.737865   10059 cuda_dnn.cc:8310] Unable to register cuDNN factory: Attempting to register factory for plugin cuDNN when one has already been registered\n",
            "E0000 00:00:1747760485.744593   10059 cuda_blas.cc:1418] Unable to register cuBLAS factory: Attempting to register factory for plugin cuBLAS when one has already been registered\n",
            "2025-05-20 17:01:25.766522: I tensorflow/core/platform/cpu_feature_guard.cc:210] This TensorFlow binary is optimized to use available CPU instructions in performance-critical operations.\n",
            "To enable the following instructions: AVX2 AVX512F AVX512_VNNI FMA, in other operations, rebuild TensorFlow with the appropriate compiler flags.\n",
            "INFO:__main__:Command line arguments: /content/simplenet/main.py --gpu 0 --seed 0 --log_group simplenet_wood_fast --log_project WoodOnly --results_path results --run_name wood_fast_run --test --save_segmentation_images net -b wideresnet50 -le layer2 -le layer3 --pretrain_embed_dimension 1536 --target_embed_dimension 1536 --patchsize 3 --embedding_size 256 --gan_epochs 5 --noise_std 0.015 --dsc_hidden 768 --dsc_layers 2 --dsc_margin .5 --pre_proj 2 dataset --batch_size 8 --resize 256 --imagesize 256 -d wood mvtec /content/drive/MyDrive/wood_dataset\n",
            "INFO:__main__:Dataset: train=70 test=141\n",
            "INFO:__main__:Evaluating dataset [mvtec_wood] (1/1)...\n",
            "/usr/local/lib/python3.11/dist-packages/torchvision/models/_utils.py:208: UserWarning: The parameter 'pretrained' is deprecated since 0.13 and may be removed in the future, please use 'weights' instead.\n",
            "  warnings.warn(\n",
            "/usr/local/lib/python3.11/dist-packages/torchvision/models/_utils.py:223: UserWarning: Arguments other than a weight enum or `None` for 'weights' are deprecated since 0.13 and may be removed in the future. The current behavior is equivalent to passing `weights=Wide_ResNet50_2_Weights.IMAGENET1K_V1`. You can also use `weights=Wide_ResNet50_2_Weights.DEFAULT` to get the most up-to-date weights.\n",
            "  warnings.warn(msg)\n",
            "INFO:__main__:Training models (1/1)\n",
            "INFO:__main__:instance_auroc: 0.611\n",
            "INFO:__main__:full_pixel_auroc: 0.750\n",
            "INFO:__main__:anomaly_pixel_auroc: nan\n",
            "INFO:__main__:\n",
            "\n",
            "-----\n",
            "\n",
            "INFO:utils:instance_auroc: 0.611\n",
            "INFO:utils:full_pixel_auroc: 0.750\n",
            "INFO:utils:anomaly_pixel_auroc: nan\n"
          ]
        }
      ]
    },
    {
      "cell_type": "markdown",
      "source": [
        "DECISION TREE VE RANDOM FOREST İLE OPTİMAL EŞİK BULMA"
      ],
      "metadata": {
        "id": "xEoTwp8JzOZK"
      }
    },
    {
      "cell_type": "code",
      "source": [
        "import cv2\n",
        "import numpy as np\n",
        "import os\n",
        "import pandas as pd\n",
        "from tqdm import tqdm\n",
        "from sklearn.tree import DecisionTreeClassifier\n",
        "from sklearn.ensemble import RandomForestClassifier\n",
        "from sklearn.metrics import f1_score\n",
        "import matplotlib.pyplot as plt\n",
        "\n",
        "# === Klasör yolları\n",
        "heatmap_dir = \"/content/saved_heatmaps\"\n",
        "test_defect_dir = \"/content/drive/MyDrive/wood_dataset/wood/test/defect\"\n",
        "test_good_dir = \"/content/drive/MyDrive/wood_dataset/wood/test/good\"\n",
        "output_dir = \"/content/eval_outputs\"\n",
        "os.makedirs(output_dir, exist_ok=True)\n",
        "\n",
        "# === Parametreler\n",
        "img_size = (256, 256)\n",
        "quantile_range = np.arange(0.50, 0.99, 0.01)\n",
        "all_results = []\n",
        "best_f1 = 0\n",
        "best_quantile = 0.95\n",
        "result_by_quantile = []\n",
        "\n",
        "# === Farklı eşik değerlerini dene\n",
        "for quantile_value in tqdm(quantile_range, desc=\"Quantile Optimization\"):\n",
        "    results = []\n",
        "\n",
        "    # === İşleme fonksiyonu (kodunuzdaki gibi)\n",
        "    def process_image(name_id, category):\n",
        "        if category == \"defect\":\n",
        "            heatmap_name = name_id[-3:]\n",
        "            heatmap_path = os.path.join(heatmap_dir, f\"heatmap_{heatmap_name}.png\")\n",
        "            img_path = os.path.join(test_defect_dir, f\"{name_id}.png\")\n",
        "        else:\n",
        "            heatmap_name = name_id.zfill(3)\n",
        "            heatmap_path = os.path.join(heatmap_dir, f\"heatmap_{heatmap_name}.png\")\n",
        "            img_path = os.path.join(test_good_dir, f\"{name_id}.png\")\n",
        "\n",
        "        if not os.path.exists(heatmap_path) or not os.path.exists(img_path):\n",
        "            return\n",
        "\n",
        "        heatmap = cv2.imread(heatmap_path, cv2.IMREAD_GRAYSCALE)\n",
        "        heatmap = cv2.resize(heatmap, img_size)\n",
        "\n",
        "        # Normalize + Gaussian Blur\n",
        "        heatmap_norm = (heatmap - heatmap.min()) / (heatmap.max() - heatmap.min() + 1e-8)\n",
        "        heatmap_blurred = cv2.GaussianBlur(heatmap_norm, (5, 5), sigmaX=0)\n",
        "\n",
        "        threshold = np.quantile(heatmap_blurred, quantile_value)\n",
        "        binary_mask = (heatmap_blurred >= threshold).astype(np.uint8) * 255\n",
        "\n",
        "        # Gelişmiş anomaly skorları\n",
        "        flat = heatmap_blurred.flatten()\n",
        "        anomaly_ratio = np.sum(flat > threshold) / flat.size\n",
        "        mean_intensity = flat.mean()\n",
        "        max_intensity = flat.max()\n",
        "        topk_mean = np.mean(np.sort(flat)[-int(0.01 * flat.size):])  # üst %1\n",
        "        std_intensity = flat.std()  # Yeni: Standart sapma\n",
        "\n",
        "        results.append({\n",
        "            \"image_id\": name_id,\n",
        "            \"category\": category,\n",
        "            \"quantile\": quantile_value,\n",
        "            \"threshold\": round(threshold, 4),\n",
        "            \"anomaly_ratio\": round(anomaly_ratio, 6),\n",
        "            \"mean_intensity\": round(mean_intensity, 6),\n",
        "            \"max_intensity\": round(max_intensity, 6),\n",
        "            \"topk_mean\": round(topk_mean, 6),\n",
        "            \"std_intensity\": round(std_intensity, 6)  # Yeni özellik\n",
        "        })\n",
        "\n",
        "    # === Defect ve Good görsellerini işle\n",
        "    defect_files = sorted([f for f in os.listdir(test_defect_dir) if f.endswith(\".png\")])\n",
        "    for fname in defect_files:\n",
        "        name_id = fname.replace(\".png\", \"\")\n",
        "        process_image(name_id, \"defect\")\n",
        "\n",
        "    good_files = sorted([f for f in os.listdir(test_good_dir) if f.endswith(\".png\")])\n",
        "    for fname in good_files:\n",
        "        name_id = fname.replace(\".png\", \"\")\n",
        "        process_image(name_id, \"good\")\n",
        "\n",
        "    # === DataFrame oluştur\n",
        "    df = pd.DataFrame(results)\n",
        "\n",
        "    if df.empty:\n",
        "        continue\n",
        "\n",
        "    # === Ground-truth etiketle\n",
        "    df[\"true_label\"] = df[\"category\"].apply(lambda x: 1 if x == \"defect\" else 0)\n",
        "\n",
        "    # === Decision Tree ve Random Forest karşılaştır\n",
        "    X = df[[\"anomaly_ratio\", \"mean_intensity\", \"max_intensity\", \"topk_mean\", \"std_intensity\"]].values\n",
        "    y = df[\"true_label\"].values\n",
        "\n",
        "    # Decision Tree\n",
        "    dt_clf = DecisionTreeClassifier(max_depth=3, random_state=42)\n",
        "    dt_clf.fit(X, y)\n",
        "    dt_preds = dt_clf.predict(X)\n",
        "    dt_f1 = f1_score(y, dt_preds)\n",
        "\n",
        "    # Random Forest\n",
        "    rf_clf = RandomForestClassifier(n_estimators=100, max_depth=3, random_state=42)\n",
        "    rf_clf.fit(X, y)\n",
        "    rf_preds = rf_clf.predict(X)\n",
        "    rf_f1 = f1_score(y, rf_preds)\n",
        "\n",
        "    result_by_quantile.append({\n",
        "        \"quantile\": quantile_value,\n",
        "        \"dt_f1\": dt_f1,\n",
        "        \"rf_f1\": rf_f1\n",
        "    })\n",
        "\n",
        "    # En iyi sonucu güncelle\n",
        "    current_best_f1 = max(dt_f1, rf_f1)\n",
        "    current_best_model = \"Decision Tree\" if dt_f1 > rf_f1 else \"Random Forest\"\n",
        "\n",
        "    if current_best_f1 > best_f1:\n",
        "        best_f1 = current_best_f1\n",
        "        best_quantile = quantile_value\n",
        "        best_model = current_best_model\n",
        "\n",
        "    print(f\"Quantile: {quantile_value:.2f}, DT F1: {dt_f1:.4f}, RF F1: {rf_f1:.4f}\")\n",
        "\n",
        "# === Sonuçları raporla\n",
        "print(f\"En iyi F1 skoru: {best_f1:.4f}\")\n",
        "print(f\"En iyi quantile değeri: {best_quantile:.2f}\")\n",
        "print(f\"En iyi model: {best_model}\")\n",
        "\n",
        "# === Sonuçları görselleştir\n",
        "results_df = pd.DataFrame(result_by_quantile)\n",
        "plt.figure(figsize=(12, 6))\n",
        "plt.plot(results_df[\"quantile\"], results_df[\"dt_f1\"], marker='o', label='Decision Tree')\n",
        "plt.plot(results_df[\"quantile\"], results_df[\"rf_f1\"], marker='s', label='Random Forest')\n",
        "plt.axvline(x=best_quantile, color='r', linestyle='--', label=f'En iyi quantile: {best_quantile:.2f}')\n",
        "plt.legend()\n",
        "plt.xlabel(\"Quantile Değeri\")\n",
        "plt.ylabel(\"F1 Skoru\")\n",
        "plt.title(\"Quantile Değerine Göre F1 Skoru Karşılaştırması\")\n",
        "plt.grid(True)\n",
        "plt.savefig(os.path.join(output_dir, \"quantile_model_comparison.png\"))\n",
        "\n",
        "# === En iyi sonuçlarla modeli kaydet\n",
        "best_results_path = os.path.join(output_dir, f\"best_model_quantile_{best_quantile:.2f}.pkl\")\n",
        "import pickle\n",
        "with open(best_results_path, 'wb') as f:\n",
        "    pickle.dump({\n",
        "        \"quantile\": best_quantile,\n",
        "        \"f1_score\": best_f1,\n",
        "        \"model\": best_model,\n",
        "        \"rf_model\": rf_clf if best_model == \"Random Forest\" else None,\n",
        "        \"dt_model\": dt_clf if best_model == \"Decision Tree\" else None\n",
        "    }, f)\n",
        "\n",
        "print(f\"Grafikler ve en iyi model kaydedildi: {output_dir}\")"
      ],
      "metadata": {
        "colab": {
          "base_uri": "https://localhost:8080/"
        },
        "id": "dph37BVrkdeH",
        "outputId": "3ef1ba1c-a7f3-4048-c60d-161793c97349"
      },
      "execution_count": 20,
      "outputs": [
        {
          "output_type": "stream",
          "name": "stderr",
          "text": [
            "Quantile Optimization:   2%|▏         | 1/49 [00:00<00:36,  1.32it/s]"
          ]
        },
        {
          "output_type": "stream",
          "name": "stdout",
          "text": [
            "Quantile: 0.50, DT F1: 0.7853, RF F1: 0.7848\n"
          ]
        },
        {
          "output_type": "stream",
          "name": "stderr",
          "text": [
            "\rQuantile Optimization:   4%|▍         | 2/49 [00:01<00:35,  1.32it/s]"
          ]
        },
        {
          "output_type": "stream",
          "name": "stdout",
          "text": [
            "Quantile: 0.51, DT F1: 0.7853, RF F1: 0.7922\n"
          ]
        },
        {
          "output_type": "stream",
          "name": "stderr",
          "text": [
            "\rQuantile Optimization:   6%|▌         | 3/49 [00:02<00:34,  1.33it/s]"
          ]
        },
        {
          "output_type": "stream",
          "name": "stdout",
          "text": [
            "Quantile: 0.52, DT F1: 0.7805, RF F1: 0.7949\n"
          ]
        },
        {
          "output_type": "stream",
          "name": "stderr",
          "text": [
            "\rQuantile Optimization:   8%|▊         | 4/49 [00:03<00:33,  1.33it/s]"
          ]
        },
        {
          "output_type": "stream",
          "name": "stdout",
          "text": [
            "Quantile: 0.53, DT F1: 0.7853, RF F1: 0.7821\n"
          ]
        },
        {
          "output_type": "stream",
          "name": "stderr",
          "text": [
            "\rQuantile Optimization:  10%|█         | 5/49 [00:03<00:32,  1.33it/s]"
          ]
        },
        {
          "output_type": "stream",
          "name": "stdout",
          "text": [
            "Quantile: 0.54, DT F1: 0.7853, RF F1: 0.7771\n"
          ]
        },
        {
          "output_type": "stream",
          "name": "stderr",
          "text": [
            "\rQuantile Optimization:  12%|█▏        | 6/49 [00:04<00:32,  1.34it/s]"
          ]
        },
        {
          "output_type": "stream",
          "name": "stdout",
          "text": [
            "Quantile: 0.55, DT F1: 0.7853, RF F1: 0.7843\n"
          ]
        },
        {
          "output_type": "stream",
          "name": "stderr",
          "text": [
            "\rQuantile Optimization:  14%|█▍        | 7/49 [00:05<00:31,  1.34it/s]"
          ]
        },
        {
          "output_type": "stream",
          "name": "stdout",
          "text": [
            "Quantile: 0.56, DT F1: 0.7770, RF F1: 0.8280\n"
          ]
        },
        {
          "output_type": "stream",
          "name": "stderr",
          "text": [
            "\rQuantile Optimization:  16%|█▋        | 8/49 [00:05<00:30,  1.34it/s]"
          ]
        },
        {
          "output_type": "stream",
          "name": "stdout",
          "text": [
            "Quantile: 0.57, DT F1: 0.7853, RF F1: 0.7871\n"
          ]
        },
        {
          "output_type": "stream",
          "name": "stderr",
          "text": [
            "\rQuantile Optimization:  18%|█▊        | 9/49 [00:06<00:29,  1.34it/s]"
          ]
        },
        {
          "output_type": "stream",
          "name": "stdout",
          "text": [
            "Quantile: 0.58, DT F1: 0.7853, RF F1: 0.7792\n"
          ]
        },
        {
          "output_type": "stream",
          "name": "stderr",
          "text": [
            "\rQuantile Optimization:  20%|██        | 10/49 [00:07<00:29,  1.34it/s]"
          ]
        },
        {
          "output_type": "stream",
          "name": "stdout",
          "text": [
            "Quantile: 0.59, DT F1: 0.7853, RF F1: 0.7771\n"
          ]
        },
        {
          "output_type": "stream",
          "name": "stderr",
          "text": [
            "\rQuantile Optimization:  22%|██▏       | 11/49 [00:08<00:28,  1.34it/s]"
          ]
        },
        {
          "output_type": "stream",
          "name": "stdout",
          "text": [
            "Quantile: 0.60, DT F1: 0.7853, RF F1: 0.7848\n"
          ]
        },
        {
          "output_type": "stream",
          "name": "stderr",
          "text": [
            "\rQuantile Optimization:  24%|██▍       | 12/49 [00:08<00:27,  1.35it/s]"
          ]
        },
        {
          "output_type": "stream",
          "name": "stdout",
          "text": [
            "Quantile: 0.61, DT F1: 0.7853, RF F1: 0.8000\n"
          ]
        },
        {
          "output_type": "stream",
          "name": "stderr",
          "text": [
            "\rQuantile Optimization:  27%|██▋       | 13/49 [00:09<00:26,  1.35it/s]"
          ]
        },
        {
          "output_type": "stream",
          "name": "stdout",
          "text": [
            "Quantile: 0.62, DT F1: 0.7879, RF F1: 0.7949\n"
          ]
        },
        {
          "output_type": "stream",
          "name": "stderr",
          "text": [
            "\rQuantile Optimization:  29%|██▊       | 14/49 [00:10<00:25,  1.35it/s]"
          ]
        },
        {
          "output_type": "stream",
          "name": "stdout",
          "text": [
            "Quantile: 0.63, DT F1: 0.7853, RF F1: 0.7898\n"
          ]
        },
        {
          "output_type": "stream",
          "name": "stderr",
          "text": [
            "\rQuantile Optimization:  31%|███       | 15/49 [00:11<00:25,  1.35it/s]"
          ]
        },
        {
          "output_type": "stream",
          "name": "stdout",
          "text": [
            "Quantile: 0.64, DT F1: 0.7853, RF F1: 0.7898\n"
          ]
        },
        {
          "output_type": "stream",
          "name": "stderr",
          "text": [
            "\rQuantile Optimization:  33%|███▎      | 16/49 [00:11<00:24,  1.36it/s]"
          ]
        },
        {
          "output_type": "stream",
          "name": "stdout",
          "text": [
            "Quantile: 0.65, DT F1: 0.7853, RF F1: 0.8026\n"
          ]
        },
        {
          "output_type": "stream",
          "name": "stderr",
          "text": [
            "\rQuantile Optimization:  35%|███▍      | 17/49 [00:12<00:23,  1.35it/s]"
          ]
        },
        {
          "output_type": "stream",
          "name": "stdout",
          "text": [
            "Quantile: 0.66, DT F1: 0.7853, RF F1: 0.8000\n"
          ]
        },
        {
          "output_type": "stream",
          "name": "stderr",
          "text": [
            "\rQuantile Optimization:  37%|███▋      | 18/49 [00:13<00:23,  1.35it/s]"
          ]
        },
        {
          "output_type": "stream",
          "name": "stdout",
          "text": [
            "Quantile: 0.67, DT F1: 0.7853, RF F1: 0.7974\n"
          ]
        },
        {
          "output_type": "stream",
          "name": "stderr",
          "text": [
            "\rQuantile Optimization:  39%|███▉      | 19/49 [00:14<00:22,  1.33it/s]"
          ]
        },
        {
          "output_type": "stream",
          "name": "stdout",
          "text": [
            "Quantile: 0.68, DT F1: 0.7853, RF F1: 0.7898\n"
          ]
        },
        {
          "output_type": "stream",
          "name": "stderr",
          "text": [
            "\rQuantile Optimization:  41%|████      | 20/49 [00:14<00:21,  1.34it/s]"
          ]
        },
        {
          "output_type": "stream",
          "name": "stdout",
          "text": [
            "Quantile: 0.69, DT F1: 0.7778, RF F1: 0.7949\n"
          ]
        },
        {
          "output_type": "stream",
          "name": "stderr",
          "text": [
            "\rQuantile Optimization:  43%|████▎     | 21/49 [00:15<00:20,  1.34it/s]"
          ]
        },
        {
          "output_type": "stream",
          "name": "stdout",
          "text": [
            "Quantile: 0.70, DT F1: 0.7853, RF F1: 0.7821\n"
          ]
        },
        {
          "output_type": "stream",
          "name": "stderr",
          "text": [
            "\rQuantile Optimization:  45%|████▍     | 22/49 [00:16<00:20,  1.34it/s]"
          ]
        },
        {
          "output_type": "stream",
          "name": "stdout",
          "text": [
            "Quantile: 0.71, DT F1: 0.7853, RF F1: 0.7821\n"
          ]
        },
        {
          "output_type": "stream",
          "name": "stderr",
          "text": [
            "\rQuantile Optimization:  47%|████▋     | 23/49 [00:17<00:19,  1.35it/s]"
          ]
        },
        {
          "output_type": "stream",
          "name": "stdout",
          "text": [
            "Quantile: 0.72, DT F1: 0.7853, RF F1: 0.8052\n"
          ]
        },
        {
          "output_type": "stream",
          "name": "stderr",
          "text": [
            "\rQuantile Optimization:  49%|████▉     | 24/49 [00:17<00:18,  1.35it/s]"
          ]
        },
        {
          "output_type": "stream",
          "name": "stdout",
          "text": [
            "Quantile: 0.73, DT F1: 0.7853, RF F1: 0.7949\n"
          ]
        },
        {
          "output_type": "stream",
          "name": "stderr",
          "text": [
            "\rQuantile Optimization:  51%|█████     | 25/49 [00:18<00:17,  1.35it/s]"
          ]
        },
        {
          "output_type": "stream",
          "name": "stdout",
          "text": [
            "Quantile: 0.74, DT F1: 0.7853, RF F1: 0.7799\n"
          ]
        },
        {
          "output_type": "stream",
          "name": "stderr",
          "text": [
            "\rQuantile Optimization:  53%|█████▎    | 26/49 [00:19<00:16,  1.36it/s]"
          ]
        },
        {
          "output_type": "stream",
          "name": "stdout",
          "text": [
            "Quantile: 0.75, DT F1: 0.7853, RF F1: 0.7895\n"
          ]
        },
        {
          "output_type": "stream",
          "name": "stderr",
          "text": [
            "\rQuantile Optimization:  55%|█████▌    | 27/49 [00:20<00:16,  1.36it/s]"
          ]
        },
        {
          "output_type": "stream",
          "name": "stdout",
          "text": [
            "Quantile: 0.76, DT F1: 0.7974, RF F1: 0.8026\n"
          ]
        },
        {
          "output_type": "stream",
          "name": "stderr",
          "text": [
            "\rQuantile Optimization:  57%|█████▋    | 28/49 [00:20<00:15,  1.37it/s]"
          ]
        },
        {
          "output_type": "stream",
          "name": "stdout",
          "text": [
            "Quantile: 0.77, DT F1: 0.7853, RF F1: 0.7898\n"
          ]
        },
        {
          "output_type": "stream",
          "name": "stderr",
          "text": [
            "\rQuantile Optimization:  59%|█████▉    | 29/49 [00:21<00:14,  1.37it/s]"
          ]
        },
        {
          "output_type": "stream",
          "name": "stdout",
          "text": [
            "Quantile: 0.78, DT F1: 0.7853, RF F1: 0.7871\n"
          ]
        },
        {
          "output_type": "stream",
          "name": "stderr",
          "text": [
            "\rQuantile Optimization:  61%|██████    | 30/49 [00:22<00:13,  1.37it/s]"
          ]
        },
        {
          "output_type": "stream",
          "name": "stdout",
          "text": [
            "Quantile: 0.79, DT F1: 0.7853, RF F1: 0.7848\n"
          ]
        },
        {
          "output_type": "stream",
          "name": "stderr",
          "text": [
            "\rQuantile Optimization:  63%|██████▎   | 31/49 [00:22<00:13,  1.37it/s]"
          ]
        },
        {
          "output_type": "stream",
          "name": "stdout",
          "text": [
            "Quantile: 0.80, DT F1: 0.7853, RF F1: 0.7848\n"
          ]
        },
        {
          "output_type": "stream",
          "name": "stderr",
          "text": [
            "\rQuantile Optimization:  65%|██████▌   | 32/49 [00:23<00:12,  1.37it/s]"
          ]
        },
        {
          "output_type": "stream",
          "name": "stdout",
          "text": [
            "Quantile: 0.81, DT F1: 0.7853, RF F1: 0.7821\n"
          ]
        },
        {
          "output_type": "stream",
          "name": "stderr",
          "text": [
            "\rQuantile Optimization:  67%|██████▋   | 33/49 [00:24<00:11,  1.37it/s]"
          ]
        },
        {
          "output_type": "stream",
          "name": "stdout",
          "text": [
            "Quantile: 0.82, DT F1: 0.7853, RF F1: 0.7821\n"
          ]
        },
        {
          "output_type": "stream",
          "name": "stderr",
          "text": [
            "\rQuantile Optimization:  69%|██████▉   | 34/49 [00:25<00:10,  1.37it/s]"
          ]
        },
        {
          "output_type": "stream",
          "name": "stdout",
          "text": [
            "Quantile: 0.83, DT F1: 0.7853, RF F1: 0.7792\n"
          ]
        },
        {
          "output_type": "stream",
          "name": "stderr",
          "text": [
            "\rQuantile Optimization:  71%|███████▏  | 35/49 [00:26<00:10,  1.30it/s]"
          ]
        },
        {
          "output_type": "stream",
          "name": "stdout",
          "text": [
            "Quantile: 0.84, DT F1: 0.7853, RF F1: 0.7871\n"
          ]
        },
        {
          "output_type": "stream",
          "name": "stderr",
          "text": [
            "\rQuantile Optimization:  73%|███████▎  | 36/49 [00:26<00:09,  1.32it/s]"
          ]
        },
        {
          "output_type": "stream",
          "name": "stdout",
          "text": [
            "Quantile: 0.85, DT F1: 0.7853, RF F1: 0.7871\n"
          ]
        },
        {
          "output_type": "stream",
          "name": "stderr",
          "text": [
            "\rQuantile Optimization:  76%|███████▌  | 37/49 [00:27<00:08,  1.33it/s]"
          ]
        },
        {
          "output_type": "stream",
          "name": "stdout",
          "text": [
            "Quantile: 0.86, DT F1: 0.7853, RF F1: 0.7771\n"
          ]
        },
        {
          "output_type": "stream",
          "name": "stderr",
          "text": [
            "\rQuantile Optimization:  78%|███████▊  | 38/49 [00:28<00:08,  1.35it/s]"
          ]
        },
        {
          "output_type": "stream",
          "name": "stdout",
          "text": [
            "Quantile: 0.87, DT F1: 0.7853, RF F1: 0.7949\n"
          ]
        },
        {
          "output_type": "stream",
          "name": "stderr",
          "text": [
            "\rQuantile Optimization:  80%|███████▉  | 39/49 [00:28<00:07,  1.36it/s]"
          ]
        },
        {
          "output_type": "stream",
          "name": "stdout",
          "text": [
            "Quantile: 0.88, DT F1: 0.7853, RF F1: 0.7949\n"
          ]
        },
        {
          "output_type": "stream",
          "name": "stderr",
          "text": [
            "\rQuantile Optimization:  82%|████████▏ | 40/49 [00:29<00:06,  1.37it/s]"
          ]
        },
        {
          "output_type": "stream",
          "name": "stdout",
          "text": [
            "Quantile: 0.89, DT F1: 0.7853, RF F1: 0.7871\n"
          ]
        },
        {
          "output_type": "stream",
          "name": "stderr",
          "text": [
            "\rQuantile Optimization:  84%|████████▎ | 41/49 [00:30<00:05,  1.37it/s]"
          ]
        },
        {
          "output_type": "stream",
          "name": "stdout",
          "text": [
            "Quantile: 0.90, DT F1: 0.7778, RF F1: 0.8129\n"
          ]
        },
        {
          "output_type": "stream",
          "name": "stderr",
          "text": [
            "\rQuantile Optimization:  86%|████████▌ | 42/49 [00:31<00:05,  1.37it/s]"
          ]
        },
        {
          "output_type": "stream",
          "name": "stdout",
          "text": [
            "Quantile: 0.91, DT F1: 0.7853, RF F1: 0.7843\n"
          ]
        },
        {
          "output_type": "stream",
          "name": "stderr",
          "text": [
            "\rQuantile Optimization:  88%|████████▊ | 43/49 [00:31<00:04,  1.38it/s]"
          ]
        },
        {
          "output_type": "stream",
          "name": "stdout",
          "text": [
            "Quantile: 0.92, DT F1: 0.7853, RF F1: 0.7949\n"
          ]
        },
        {
          "output_type": "stream",
          "name": "stderr",
          "text": [
            "\rQuantile Optimization:  90%|████████▉ | 44/49 [00:32<00:03,  1.38it/s]"
          ]
        },
        {
          "output_type": "stream",
          "name": "stdout",
          "text": [
            "Quantile: 0.93, DT F1: 0.7853, RF F1: 0.7821\n"
          ]
        },
        {
          "output_type": "stream",
          "name": "stderr",
          "text": [
            "\rQuantile Optimization:  92%|█████████▏| 45/49 [00:33<00:02,  1.39it/s]"
          ]
        },
        {
          "output_type": "stream",
          "name": "stdout",
          "text": [
            "Quantile: 0.94, DT F1: 0.7853, RF F1: 0.7871\n"
          ]
        },
        {
          "output_type": "stream",
          "name": "stderr",
          "text": [
            "\rQuantile Optimization:  94%|█████████▍| 46/49 [00:33<00:02,  1.39it/s]"
          ]
        },
        {
          "output_type": "stream",
          "name": "stdout",
          "text": [
            "Quantile: 0.95, DT F1: 0.7853, RF F1: 0.7771\n"
          ]
        },
        {
          "output_type": "stream",
          "name": "stderr",
          "text": [
            "\rQuantile Optimization:  96%|█████████▌| 47/49 [00:34<00:01,  1.40it/s]"
          ]
        },
        {
          "output_type": "stream",
          "name": "stdout",
          "text": [
            "Quantile: 0.96, DT F1: 0.7853, RF F1: 0.7871\n"
          ]
        },
        {
          "output_type": "stream",
          "name": "stderr",
          "text": [
            "\rQuantile Optimization:  98%|█████████▊| 48/49 [00:35<00:00,  1.40it/s]"
          ]
        },
        {
          "output_type": "stream",
          "name": "stdout",
          "text": [
            "Quantile: 0.97, DT F1: 0.7853, RF F1: 0.7922\n"
          ]
        },
        {
          "output_type": "stream",
          "name": "stderr",
          "text": [
            "Quantile Optimization: 100%|██████████| 49/49 [00:36<00:00,  1.36it/s]"
          ]
        },
        {
          "output_type": "stream",
          "name": "stdout",
          "text": [
            "Quantile: 0.98, DT F1: 0.7853, RF F1: 0.7871\n",
            "En iyi F1 skoru: 0.8280\n",
            "En iyi quantile değeri: 0.56\n",
            "En iyi model: Random Forest\n",
            "Grafikler ve en iyi model kaydedildi: /content/eval_outputs\n"
          ]
        },
        {
          "output_type": "stream",
          "name": "stderr",
          "text": [
            "\n"
          ]
        }
      ]
    },
    {
      "cell_type": "code",
      "source": [
        "!pip install -q optuna xgboost"
      ],
      "metadata": {
        "colab": {
          "base_uri": "https://localhost:8080/"
        },
        "id": "TzHHFgrhvrPG",
        "outputId": "b747173b-8ec4-475c-c611-c46b2582c5c6"
      },
      "execution_count": 17,
      "outputs": [
        {
          "output_type": "stream",
          "name": "stdout",
          "text": [
            "\u001b[?25l   \u001b[90m━━━━━━━━━━━━━━━━━━━━━━━━━━━━━━━━━━━━━━━━\u001b[0m \u001b[32m0.0/386.6 kB\u001b[0m \u001b[31m?\u001b[0m eta \u001b[36m-:--:--\u001b[0m\r\u001b[2K   \u001b[91m━━━━━━━━━━━━━━━━━━━━━━━━━━━━━━━━━━━━━━━\u001b[0m\u001b[90m╺\u001b[0m \u001b[32m378.9/386.6 kB\u001b[0m \u001b[31m15.0 MB/s\u001b[0m eta \u001b[36m0:00:01\u001b[0m\r\u001b[2K   \u001b[90m━━━━━━━━━━━━━━━━━━━━━━━━━━━━━━━━━━━━━━━━\u001b[0m \u001b[32m386.6/386.6 kB\u001b[0m \u001b[31m10.7 MB/s\u001b[0m eta \u001b[36m0:00:00\u001b[0m\n",
            "\u001b[?25h\u001b[?25l   \u001b[90m━━━━━━━━━━━━━━━━━━━━━━━━━━━━━━━━━━━━━━━━\u001b[0m \u001b[32m0.0/231.9 kB\u001b[0m \u001b[31m?\u001b[0m eta \u001b[36m-:--:--\u001b[0m\r\u001b[2K   \u001b[90m━━━━━━━━━━━━━━━━━━━━━━━━━━━━━━━━━━━━━━━━\u001b[0m \u001b[32m231.9/231.9 kB\u001b[0m \u001b[31m24.4 MB/s\u001b[0m eta \u001b[36m0:00:00\u001b[0m\n",
            "\u001b[?25h"
          ]
        }
      ]
    },
    {
      "cell_type": "markdown",
      "source": [
        "BİRKAÇ ML MODELİ VE HİPERPARAMETRE OPTİMİZASYONU İLE OPTİMAL EŞİK BULMA"
      ],
      "metadata": {
        "id": "evSut8ftzUZC"
      }
    },
    {
      "cell_type": "code",
      "source": [
        "import cv2\n",
        "import numpy as np\n",
        "import os\n",
        "import pandas as pd\n",
        "from tqdm import tqdm\n",
        "from sklearn.tree import DecisionTreeClassifier\n",
        "from sklearn.ensemble import RandomForestClassifier, GradientBoostingClassifier, AdaBoostClassifier\n",
        "from sklearn.model_selection import GridSearchCV, cross_val_score, StratifiedKFold\n",
        "from sklearn.metrics import f1_score, confusion_matrix, classification_report, make_scorer\n",
        "import matplotlib.pyplot as plt\n",
        "import seaborn as sns\n",
        "import time\n",
        "import warnings\n",
        "import pickle\n",
        "import joblib\n",
        "import optuna\n",
        "from optuna.visualization import plot_optimization_history, plot_param_importances, plot_slice\n",
        "import xgboost as xgb\n",
        "from sklearn.svm import SVC\n",
        "import matplotlib\n",
        "matplotlib.use('Agg')  # Non-interactive backend for Colab\n",
        "\n",
        "# Uyarıları kapat\n",
        "warnings.filterwarnings(\"ignore\")\n",
        "\n",
        "# === Klasör yolları\n",
        "heatmap_dir = \"/content/saved_heatmaps\"\n",
        "test_defect_dir = \"/content/drive/MyDrive/wood_dataset/wood/test/defect\"\n",
        "test_good_dir = \"/content/drive/MyDrive/wood_dataset/wood/test/good\"\n",
        "output_dir = \"/content/eval_outputs\"\n",
        "model_dir = os.path.join(output_dir, \"models\")\n",
        "os.makedirs(output_dir, exist_ok=True)\n",
        "os.makedirs(model_dir, exist_ok=True)\n",
        "\n",
        "# === Parametreler\n",
        "img_size = (256, 256)\n",
        "best_quantile = 0.56  # Önceki analizden bulduğunuz en iyi quantile değeri\n",
        "log_file = os.path.join(output_dir, \"optimization_log.txt\")\n",
        "\n",
        "# Logger fonksiyonu\n",
        "def log_message(message, log_file=log_file):\n",
        "    with open(log_file, \"a\") as f:\n",
        "        f.write(f\"{message}\\n\")\n",
        "    print(message)\n",
        "\n",
        "log_message(f\"====== Hiperparametre Optimizasyonu Başlatılıyor ({time.strftime('%Y-%m-%d %H:%M:%S')}) ======\")\n",
        "log_message(f\"Quantile Değeri: {best_quantile}\")\n",
        "\n",
        "# === Veri işleme fonksiyonu\n",
        "def process_images_and_extract_features(quantile_value=best_quantile):\n",
        "    \"\"\"Tüm görselleri işleyip özellikleri çıkartan fonksiyon\"\"\"\n",
        "    results = []\n",
        "\n",
        "    def process_single_image(name_id, category):\n",
        "        if category == \"defect\":\n",
        "            heatmap_name = name_id[-3:]\n",
        "            heatmap_path = os.path.join(heatmap_dir, f\"heatmap_{heatmap_name}.png\")\n",
        "            img_path = os.path.join(test_defect_dir, f\"{name_id}.png\")\n",
        "        else:\n",
        "            heatmap_name = name_id.zfill(3)\n",
        "            heatmap_path = os.path.join(heatmap_dir, f\"heatmap_{heatmap_name}.png\")\n",
        "            img_path = os.path.join(test_good_dir, f\"{name_id}.png\")\n",
        "\n",
        "        if not os.path.exists(heatmap_path) or not os.path.exists(img_path):\n",
        "            return None\n",
        "\n",
        "        # Görüntü yükleme\n",
        "        heatmap = cv2.imread(heatmap_path, cv2.IMREAD_GRAYSCALE)\n",
        "        heatmap = cv2.resize(heatmap, img_size)\n",
        "\n",
        "        # Normalize ve Gaussian Blur\n",
        "        heatmap_norm = (heatmap - heatmap.min()) / (heatmap.max() - heatmap.min() + 1e-8)\n",
        "        heatmap_blurred = cv2.GaussianBlur(heatmap_norm, (5, 5), sigmaX=0)\n",
        "\n",
        "        # Eşik değeri hesaplama\n",
        "        threshold = np.quantile(heatmap_blurred, quantile_value)\n",
        "        binary_mask = (heatmap_blurred >= threshold).astype(np.uint8) * 255\n",
        "\n",
        "        # Kontur bulma\n",
        "        contours, _ = cv2.findContours(binary_mask, cv2.RETR_EXTERNAL, cv2.CHAIN_APPROX_SIMPLE)\n",
        "\n",
        "        # Temel özellikler\n",
        "        flat = heatmap_blurred.flatten()\n",
        "        anomaly_ratio = np.sum(flat > threshold) / flat.size\n",
        "        mean_intensity = flat.mean()\n",
        "        max_intensity = flat.max()\n",
        "        topk_mean = np.mean(np.sort(flat)[-int(0.01 * flat.size):])  # Üst %1\n",
        "        std_intensity = flat.std()\n",
        "\n",
        "        # P25, P75, IQR gibi istatistiksel özellikler\n",
        "        p25 = np.percentile(flat, 25)\n",
        "        p50 = np.percentile(flat, 50)  # Median\n",
        "        p75 = np.percentile(flat, 75)\n",
        "        p90 = np.percentile(flat, 90)\n",
        "        iqr = p75 - p25\n",
        "\n",
        "        # Asimetri ve basıklık\n",
        "        skewness = np.mean(((flat - mean_intensity) / (std_intensity + 1e-8))**3)\n",
        "        kurtosis = np.mean(((flat - mean_intensity) / (std_intensity + 1e-8))**4) - 3\n",
        "\n",
        "        # Entropi (bilgi içeriği)\n",
        "        hist, _ = np.histogram(flat, bins=256, range=(0, 1))\n",
        "        hist_norm = hist / (hist.sum() + 1e-8)\n",
        "        entropy = -np.sum(hist_norm * np.log2(hist_norm + 1e-8))\n",
        "\n",
        "        # Kontur özellikleri\n",
        "        if len(contours) > 0:\n",
        "            # Tüm konturların toplam alanı\n",
        "            total_area = sum(cv2.contourArea(c) for c in contours)\n",
        "            area_ratio = total_area / (img_size[0] * img_size[1])\n",
        "\n",
        "            # En büyük kontur özellikleri\n",
        "            largest_contour = max(contours, key=cv2.contourArea)\n",
        "            largest_area = cv2.contourArea(largest_contour)\n",
        "            perimeter = cv2.arcLength(largest_contour, True)\n",
        "            circularity = 4 * np.pi * largest_area / (perimeter**2 + 1e-8)\n",
        "\n",
        "            # Dikdörtgensellik\n",
        "            x, y, w, h = cv2.boundingRect(largest_contour)\n",
        "            rect_area = w * h\n",
        "            extent = largest_area / rect_area if rect_area > 0 else 0\n",
        "\n",
        "            # Kontur sayısı ve ortalama kontur boyutu\n",
        "            num_contours = len(contours)\n",
        "            avg_contour_size = total_area / num_contours if num_contours > 0 else 0\n",
        "\n",
        "            # Kontur karmaşıklığı: perimeter / alan^0.5\n",
        "            complexity = perimeter / (np.sqrt(largest_area) + 1e-8)\n",
        "        else:\n",
        "            area_ratio = 0\n",
        "            largest_area = 0\n",
        "            perimeter = 0\n",
        "            circularity = 0\n",
        "            extent = 0\n",
        "            num_contours = 0\n",
        "            avg_contour_size = 0\n",
        "            complexity = 0\n",
        "\n",
        "        # Tüm özellikleri birleştir\n",
        "        return {\n",
        "            \"image_id\": name_id,\n",
        "            \"category\": category,\n",
        "            \"anomaly_ratio\": round(anomaly_ratio, 6),\n",
        "            \"mean_intensity\": round(mean_intensity, 6),\n",
        "            \"max_intensity\": round(max_intensity, 6),\n",
        "            \"topk_mean\": round(topk_mean, 6),\n",
        "            \"std_intensity\": round(std_intensity, 6),\n",
        "            \"p25\": round(p25, 6),\n",
        "            \"p50\": round(p50, 6),\n",
        "            \"p75\": round(p75, 6),\n",
        "            \"p90\": round(p90, 6),\n",
        "            \"iqr\": round(iqr, 6),\n",
        "            \"skewness\": round(skewness, 6),\n",
        "            \"kurtosis\": round(kurtosis, 6),\n",
        "            \"entropy\": round(entropy, 6),\n",
        "            \"area_ratio\": round(area_ratio, 6),\n",
        "            \"largest_area\": round(largest_area / (img_size[0] * img_size[1]), 6),\n",
        "            \"circularity\": round(circularity, 6),\n",
        "            \"extent\": round(extent, 6),\n",
        "            \"num_contours\": num_contours,\n",
        "            \"avg_contour_size\": round(avg_contour_size / (img_size[0] * img_size[1]), 6) if num_contours > 0 else 0,\n",
        "            \"complexity\": round(complexity, 6)\n",
        "        }\n",
        "\n",
        "    log_message(\"🔍 Görüntüler işleniyor ve gelişmiş özellikler çıkarılıyor...\")\n",
        "\n",
        "    # Defect görsellerini işle\n",
        "    defect_files = sorted([f for f in os.listdir(test_defect_dir) if f.endswith(\".png\")])\n",
        "    for fname in tqdm(defect_files, desc=\"Defect Processing\"):\n",
        "        name_id = fname.replace(\".png\", \"\")\n",
        "        result = process_single_image(name_id, \"defect\")\n",
        "        if result:\n",
        "            results.append(result)\n",
        "\n",
        "    # Good görsellerini işle\n",
        "    good_files = sorted([f for f in os.listdir(test_good_dir) if f.endswith(\".png\")])\n",
        "    for fname in tqdm(good_files, desc=\"Good Processing\"):\n",
        "        name_id = fname.replace(\".png\", \"\")\n",
        "        result = process_single_image(name_id, \"good\")\n",
        "        if result:\n",
        "            results.append(result)\n",
        "\n",
        "    # DataFrame oluştur\n",
        "    df = pd.DataFrame(results)\n",
        "    df[\"true_label\"] = df[\"category\"].apply(lambda x: 1 if x == \"defect\" else 0)\n",
        "\n",
        "    log_message(f\"✅ Toplam {len(df)} görsel işlendi: {len(df[df['category']=='defect'])} defect, {len(df[df['category']=='good'])} good\")\n",
        "\n",
        "    return df\n",
        "\n",
        "# === Veri setini hazırla\n",
        "df = process_images_and_extract_features()\n",
        "\n",
        "# Tüm özellikleri çıkar\n",
        "feature_columns = [col for col in df.columns if col not in [\"image_id\", \"category\", \"true_label\"]]\n",
        "log_message(f\"🔍 Toplam {len(feature_columns)} özellik kullanılıyor:\")\n",
        "for i, feature in enumerate(feature_columns):\n",
        "    log_message(f\"  {i+1}. {feature}\")\n",
        "\n",
        "X = df[feature_columns].values\n",
        "y = df[\"true_label\"].values\n",
        "\n",
        "# DataFrame'i kaydet\n",
        "feature_csv_path = os.path.join(output_dir, \"extracted_features.csv\")\n",
        "df.to_csv(feature_csv_path, index=False)\n",
        "log_message(f\"📊 Çıkarılan özellikler kaydedildi: {feature_csv_path}\")\n",
        "\n",
        "# === GridSearchCV için hiperparametre arama alanları\n",
        "param_grids = {\n",
        "    \"DecisionTree\": {\n",
        "        \"model\": DecisionTreeClassifier(random_state=42),\n",
        "        \"params\": {\n",
        "            \"max_depth\": [3, 4, 5, 6, 7, 8, None],\n",
        "            \"min_samples_split\": [2, 5, 10],\n",
        "            \"min_samples_leaf\": [1, 2, 4, 8],\n",
        "            \"criterion\": [\"gini\", \"entropy\"]\n",
        "        }\n",
        "    },\n",
        "    \"RandomForest\": {\n",
        "        \"model\": RandomForestClassifier(random_state=42),\n",
        "        \"params\": {\n",
        "            \"n_estimators\": [50, 100, 200],\n",
        "            \"max_depth\": [3, 5, 7, None],\n",
        "            \"min_samples_split\": [2, 5, 10],\n",
        "            \"min_samples_leaf\": [1, 2, 4],\n",
        "            \"max_features\": [\"sqrt\", \"log2\", None]\n",
        "        }\n",
        "    },\n",
        "    \"GradientBoosting\": {\n",
        "        \"model\": GradientBoostingClassifier(random_state=42),\n",
        "        \"params\": {\n",
        "            \"n_estimators\": [50, 100, 200],\n",
        "            \"learning_rate\": [0.01, 0.05, 0.1, 0.2],\n",
        "            \"max_depth\": [3, 4, 5, 6],\n",
        "            \"min_samples_split\": [2, 5, 10],\n",
        "            \"subsample\": [0.8, 0.9, 1.0]\n",
        "        }\n",
        "    },\n",
        "    \"XGBoost\": {\n",
        "        \"model\": xgb.XGBClassifier(random_state=42, use_label_encoder=False, eval_metric='logloss'),\n",
        "        \"params\": {\n",
        "            \"n_estimators\": [50, 100, 200],\n",
        "            \"learning_rate\": [0.01, 0.05, 0.1, 0.2],\n",
        "            \"max_depth\": [3, 4, 5, 6],\n",
        "            \"colsample_bytree\": [0.7, 0.8, 0.9, 1.0],\n",
        "            \"subsample\": [0.8, 0.9, 1.0],\n",
        "            \"gamma\": [0, 0.1, 0.2]\n",
        "        }\n",
        "    },\n",
        "    \"AdaBoost\": {\n",
        "        \"model\": AdaBoostClassifier(random_state=42),\n",
        "        \"params\": {\n",
        "            \"n_estimators\": [50, 100, 200],\n",
        "            \"learning_rate\": [0.01, 0.1, 0.5, 1.0]\n",
        "        }\n",
        "    },\n",
        "    \"SVM\": {\n",
        "        \"model\": SVC(probability=True, random_state=42),\n",
        "        \"params\": {\n",
        "            \"C\": [0.1, 1, 10, 100],\n",
        "            \"gamma\": [\"scale\", \"auto\", 0.1, 0.01],\n",
        "            \"kernel\": [\"rbf\", \"poly\"]\n",
        "        }\n",
        "    }\n",
        "}\n",
        "\n",
        "# === GridSearchCV ile hiperparametre optimizasyonu\n",
        "log_message(\"\\n=== GridSearchCV ile Hiperparametre Optimizasyonu ===\")\n",
        "\n",
        "# F1 skoru hesaplayıcı\n",
        "f1_scorer = make_scorer(f1_score)\n",
        "\n",
        "# 5-katlı çapraz doğrulama\n",
        "cv = StratifiedKFold(n_splits=5, shuffle=True, random_state=42)\n",
        "\n",
        "# Sonuçları saklamak için liste\n",
        "grid_results = []\n",
        "\n",
        "# Her model için ayrı ayrı GridSearchCV uygula\n",
        "for model_name, model_info in param_grids.items():\n",
        "    log_message(f\"\\n🔍 {model_name} için hiperparametre optimizasyonu başlatılıyor...\")\n",
        "\n",
        "    grid_search = GridSearchCV(\n",
        "        estimator=model_info[\"model\"],\n",
        "        param_grid=model_info[\"params\"],\n",
        "        scoring=f1_scorer,\n",
        "        cv=cv,\n",
        "        n_jobs=-1,\n",
        "        verbose=1\n",
        "    )\n",
        "\n",
        "    try:\n",
        "        # Model eğitimi\n",
        "        grid_search.fit(X, y)\n",
        "\n",
        "        # En iyi parametreler ve skor\n",
        "        best_params = grid_search.best_params_\n",
        "        best_score = grid_search.best_score_\n",
        "\n",
        "        # Log ve kaydet\n",
        "        log_message(f\"✅ {model_name} en iyi parametreler: {best_params}\")\n",
        "        log_message(f\"✅ {model_name} en iyi F1 skoru: {best_score:.4f}\")\n",
        "\n",
        "        # En iyi modeli kaydet\n",
        "        best_model = grid_search.best_estimator_\n",
        "        model_path = os.path.join(model_dir, f\"{model_name}_best_model.pkl\")\n",
        "        joblib.dump(best_model, model_path)\n",
        "\n",
        "        # Sonuçları listeye ekle\n",
        "        grid_results.append({\n",
        "            \"model_name\": model_name,\n",
        "            \"best_params\": best_params,\n",
        "            \"best_score\": best_score,\n",
        "            \"best_model\": best_model\n",
        "        })\n",
        "    except Exception as e:\n",
        "        log_message(f\"❌ {model_name} hiperparametre optimizasyonu sırasında hata: {str(e)}\")\n",
        "\n",
        "# === Optuna ile XGBoost için ileri seviye optimizasyon\n",
        "log_message(\"\\n=== Optuna ile XGBoost İleri Seviye Optimizasyon ===\")\n",
        "\n",
        "def objective(trial):\n",
        "    \"\"\"Optuna deneme fonksiyonu\"\"\"\n",
        "    params = {\n",
        "        'n_estimators': trial.suggest_int('n_estimators', 50, 500),\n",
        "        'max_depth': trial.suggest_int('max_depth', 3, 10),\n",
        "        'learning_rate': trial.suggest_float('learning_rate', 0.01, 0.3, log=True),\n",
        "        'subsample': trial.suggest_float('subsample', 0.6, 1.0),\n",
        "        'colsample_bytree': trial.suggest_float('colsample_bytree', 0.6, 1.0),\n",
        "        'gamma': trial.suggest_float('gamma', 0.0, 0.5),\n",
        "        'min_child_weight': trial.suggest_int('min_child_weight', 1, 10),\n",
        "        'reg_alpha': trial.suggest_float('reg_alpha', 0.0, 1.0),\n",
        "        'reg_lambda': trial.suggest_float('reg_lambda', 0.0, 1.0),\n",
        "    }\n",
        "\n",
        "    model = xgb.XGBClassifier(\n",
        "        **params,\n",
        "        random_state=42,\n",
        "        use_label_encoder=False,\n",
        "        eval_metric='logloss'\n",
        "    )\n",
        "\n",
        "    scores = cross_val_score(model, X, y, cv=cv, scoring=f1_scorer)\n",
        "    return scores.mean()\n",
        "\n",
        "try:\n",
        "    # Optuna çalışması oluştur\n",
        "    study = optuna.create_study(direction='maximize')\n",
        "    study.optimize(objective, n_trials=50, show_progress_bar=True)\n",
        "\n",
        "    # En iyi parametreler\n",
        "    best_params = study.best_params\n",
        "    best_value = study.best_value\n",
        "\n",
        "    log_message(f\"⭐ Optuna ile XGBoost en iyi parametreler: {best_params}\")\n",
        "    log_message(f\"⭐ Optuna ile XGBoost en iyi F1 skoru: {best_value:.4f}\")\n",
        "\n",
        "    # En iyi modeli eğit ve kaydet\n",
        "    xgb_optuna = xgb.XGBClassifier(\n",
        "        **best_params,\n",
        "        random_state=42,\n",
        "        use_label_encoder=False,\n",
        "        eval_metric='logloss'\n",
        "    )\n",
        "    xgb_optuna.fit(X, y)\n",
        "\n",
        "    # Modeli kaydet\n",
        "    model_path = os.path.join(model_dir, \"XGBoost_optuna_best_model.pkl\")\n",
        "    joblib.dump(xgb_optuna, model_path)\n",
        "\n",
        "    # Optuna görselleştirmeleri\n",
        "    history_fig = plot_optimization_history(study)\n",
        "    history_fig.write_image(os.path.join(output_dir, \"optuna_history.png\"))\n",
        "\n",
        "    param_fig = plot_param_importances(study)\n",
        "    param_fig.write_image(os.path.join(output_dir, \"optuna_param_importance.png\"))\n",
        "\n",
        "    # Sonuçları listeye ekle\n",
        "    grid_results.append({\n",
        "        \"model_name\": \"XGBoost_Optuna\",\n",
        "        \"best_params\": best_params,\n",
        "        \"best_score\": best_value,\n",
        "        \"best_model\": xgb_optuna\n",
        "    })\n",
        "except Exception as e:\n",
        "    log_message(f\"❌ Optuna XGBoost optimizasyonu sırasında hata: {str(e)}\")\n",
        "\n",
        "# === Model Ansamble (Voting Classifier)\n",
        "log_message(\"\\n=== En İyi Performanslı Modelleri Tespit Ediliyor ===\")\n",
        "\n",
        "# Modelleri F1 skoruna göre sırala\n",
        "grid_results.sort(key=lambda x: x[\"best_score\"], reverse=True)\n",
        "\n",
        "# En iyi 3 modeli seç\n",
        "top_models = grid_results[:3]\n",
        "for i, model_result in enumerate(top_models):\n",
        "    log_message(f\"🥇 {i+1}. sırada {model_result['model_name']}: F1 Skoru = {model_result['best_score']:.4f}\")\n",
        "\n",
        "# En iyi model\n",
        "best_result = grid_results[0]\n",
        "best_model_name = best_result[\"model_name\"]\n",
        "best_model = best_result[\"best_model\"]\n",
        "best_score = best_result[\"best_score\"]\n",
        "\n",
        "# === En iyi model ile tahmin\n",
        "log_message(f\"\\n=== En İyi Model: {best_model_name} (F1: {best_score:.4f}) ===\")\n",
        "\n",
        "# Tahminler\n",
        "preds = best_model.predict(X)\n",
        "df[\"predicted_label\"] = preds\n",
        "df[\"prediction_correct\"] = df[\"true_label\"] == df[\"predicted_label\"]\n",
        "\n",
        "# Sınıflandırma raporu\n",
        "conf_matrix = confusion_matrix(y, preds)\n",
        "class_report = classification_report(y, preds, target_names=[\"Normal\", \"Defect\"])\n",
        "\n",
        "log_message(\"\\n📊 Sınıflandırma Raporu:\")\n",
        "log_message(class_report)\n",
        "\n",
        "# Confusion Matrix\n",
        "plt.figure(figsize=(10, 8))\n",
        "sns.heatmap(conf_matrix, annot=True, fmt='d', cmap='Blues',\n",
        "            xticklabels=[\"Normal\", \"Defect\"],\n",
        "            yticklabels=[\"Normal\", \"Defect\"])\n",
        "plt.ylabel('Gerçek Sınıf')\n",
        "plt.xlabel('Tahmin Edilen Sınıf')\n",
        "plt.title(f'Confusion Matrix - {best_model_name}')\n",
        "conf_matrix_path = os.path.join(output_dir, f\"conf_matrix_{best_model_name}.png\")\n",
        "plt.savefig(conf_matrix_path)\n",
        "plt.close()\n",
        "\n",
        "# Özellik önemleri (eğer model destekliyorsa)\n",
        "try:\n",
        "    if hasattr(best_model, 'feature_importances_'):\n",
        "        # Özellik önemlerini görselleştir\n",
        "        feature_importance = pd.DataFrame(\n",
        "            {'feature': feature_columns,\n",
        "             'importance': best_model.feature_importances_}\n",
        "        ).sort_values('importance', ascending=False)\n",
        "\n",
        "        plt.figure(figsize=(12, 8))\n",
        "        sns.barplot(x='importance', y='feature', data=feature_importance.head(20))\n",
        "        plt.title(f'En Önemli 20 Özellik - {best_model_name}')\n",
        "        plt.tight_layout()\n",
        "        feature_imp_path = os.path.join(output_dir, f\"feature_importance_{best_model_name}.png\")\n",
        "        plt.savefig(feature_imp_path)\n",
        "        plt.close()\n",
        "\n",
        "        log_message(\"\\n📊 En önemli 10 özellik:\")\n",
        "        for i, (feature, importance) in enumerate(zip(feature_importance['feature'].head(10),\n",
        "                                                   feature_importance['importance'].head(10))):\n",
        "            log_message(f\"  {i+1}. {feature}: {importance:.4f}\")\n",
        "except Exception as e:\n",
        "    log_message(f\"❌ Özellik önemleri görselleştirilirken hata: {str(e)}\")\n",
        "\n",
        "# === Sonuçları CSV olarak kaydet\n",
        "result_csv_path = os.path.join(output_dir, f\"predictions_{best_model_name}.csv\")\n",
        "df.to_csv(result_csv_path, index=False)\n",
        "\n",
        "# === Özet rapor oluştur\n",
        "with open(os.path.join(output_dir, \"optimization_summary.txt\"), \"w\") as f:\n",
        "    f.write(\"=== Hiperparametre Optimizasyonu Özet Raporu ===\\n\\n\")\n",
        "\n",
        "    f.write(\"Veri Seti Bilgileri:\\n\")\n",
        "    f.write(f\"  Toplam görsel sayısı: {len(df)}\\n\")\n",
        "    f.write(f\"  Defect görsel sayısı: {len(df[df['category']=='defect'])}\\n\")\n",
        "    f.write(f\"  Normal görsel sayısı: {len(df[df['category']=='good'])}\\n\\n\")\n",
        "\n",
        "    f.write(\"Model Performansları (F1 Skoru):\\n\")\n",
        "    for i, result in enumerate(grid_results):\n",
        "        f.write(f\"  {i+1}. {result['model_name']}: {result['best_score']:.4f}\\n\")\n",
        "\n",
        "    f.write(f\"\\nEn İyi Model: {best_model_name}\\n\")\n",
        "    f.write(f\"F1 Skoru: {best_score:.4f}\\n\\n\")\n",
        "\n",
        "    f.write(\"Sınıflandırma Raporu:\\n\")\n",
        "    f.write(class_report)\n",
        "    f.write(\"\\n\")\n",
        "\n",
        "    f.write(\"Confusion Matrix:\\n\")\n",
        "    tn, fp, fn, tp = conf_matrix.ravel()\n",
        "    f.write(f\"  True Negatives: {tn}\\n\")\n",
        "    f.write(f\"  False Positives: {fp}\\n\")\n",
        "    f.write(f\"  False Negatives: {fn}\\n\")\n",
        "    f.write(f\"  True Positives: {tp}\\n\\n\")\n",
        "\n",
        "    f.write(f\"Accuracy: {(tp + tn) / (tp + tn + fp + fn):.4f}\\n\")\n",
        "    f.write(f\"Precision: {tp / (tp + fp) if (tp + fp) > 0 else 0:.4f}\\n\")\n",
        "    f.write(f\"Recall: {tp / (tp + fn) if (tp + fn) > 0 else 0:.4f}\\n\")\n",
        "    f.write(f\"F1 Score: {2 * tp / (2 * tp + fp + fn) if (2 * tp + fp + fn) > 0 else 0:.4f}\\n\")\n",
        "\n",
        "log_message(f\"\\n✅ Tüm sonuçlar '{output_dir}' klasörüne kaydedildi.\")\n",
        "log_message(f\"📊 Tahminler: {result_csv_path}\")\n",
        "log_message(f\"📊 Confusion Matrix: {conf_matrix_path}\")\n",
        "log_message(f\"📊 Özet rapor: {os.path.join(output_dir, 'optimization_summary.txt')}\")\n",
        "\n",
        "print(\"\\n====== İŞLEM TAMAMLANDI ======\")"
      ],
      "metadata": {
        "colab": {
          "base_uri": "https://localhost:8080/",
          "height": 1000,
          "referenced_widgets": [
            "804cc641405347a7aa7914c858b37302",
            "edef8cedcea74b8aa536a13abb232d7f",
            "44e4b63897da498b9be8862e15d85460",
            "97cdc64c6cab47ebb6a72b5d2777e192",
            "9379c3f461744b3292f9e326dc1160bc",
            "bddb1ee9758940a2ad33adae070145e4",
            "0e39575363b84cd1bea476e20b0802a6",
            "ef2013d077f043b28bf890c23534af51",
            "8caa7d2dcdcb405496e615ca1b83be6f",
            "8c6aa172c3a34b1a9fd19c67e318651a",
            "211f0b4199c44ce0ac71d6b93b9c4c06"
          ]
        },
        "id": "2f5LXFivs3tM",
        "outputId": "2b568736-1ce3-48c1-a45b-2c903e594d07"
      },
      "execution_count": 21,
      "outputs": [
        {
          "output_type": "stream",
          "name": "stdout",
          "text": [
            "====== Hiperparametre Optimizasyonu Başlatılıyor (2025-05-20 17:49:23) ======\n",
            "Quantile Değeri: 0.56\n",
            "🔍 Görüntüler işleniyor ve gelişmiş özellikler çıkarılıyor...\n"
          ]
        },
        {
          "output_type": "stream",
          "name": "stderr",
          "text": [
            "Defect Processing: 100%|██████████| 71/71 [00:01<00:00, 45.53it/s]\n",
            "Good Processing: 100%|██████████| 70/70 [00:01<00:00, 45.68it/s]"
          ]
        },
        {
          "output_type": "stream",
          "name": "stdout",
          "text": [
            "✅ Toplam 141 görsel işlendi: 71 defect, 70 good\n",
            "🔍 Toplam 20 özellik kullanılıyor:\n",
            "  1. anomaly_ratio\n",
            "  2. mean_intensity\n",
            "  3. max_intensity\n",
            "  4. topk_mean\n",
            "  5. std_intensity\n",
            "  6. p25\n",
            "  7. p50\n",
            "  8. p75\n",
            "  9. p90\n",
            "  10. iqr\n",
            "  11. skewness\n",
            "  12. kurtosis\n",
            "  13. entropy\n",
            "  14. area_ratio\n",
            "  15. largest_area\n",
            "  16. circularity\n",
            "  17. extent\n",
            "  18. num_contours\n",
            "  19. avg_contour_size\n",
            "  20. complexity\n",
            "📊 Çıkarılan özellikler kaydedildi: /content/eval_outputs/extracted_features.csv\n",
            "\n",
            "=== GridSearchCV ile Hiperparametre Optimizasyonu ===\n",
            "\n",
            "🔍 DecisionTree için hiperparametre optimizasyonu başlatılıyor...\n",
            "Fitting 5 folds for each of 168 candidates, totalling 840 fits\n"
          ]
        },
        {
          "output_type": "stream",
          "name": "stderr",
          "text": [
            "\n"
          ]
        },
        {
          "output_type": "stream",
          "name": "stdout",
          "text": [
            "✅ DecisionTree en iyi parametreler: {'criterion': 'gini', 'max_depth': 3, 'min_samples_leaf': 1, 'min_samples_split': 2}\n",
            "✅ DecisionTree en iyi F1 skoru: 0.7216\n",
            "\n",
            "🔍 RandomForest için hiperparametre optimizasyonu başlatılıyor...\n",
            "Fitting 5 folds for each of 324 candidates, totalling 1620 fits\n",
            "✅ RandomForest en iyi parametreler: {'max_depth': 7, 'max_features': 'sqrt', 'min_samples_leaf': 1, 'min_samples_split': 10, 'n_estimators': 200}\n",
            "✅ RandomForest en iyi F1 skoru: 0.7154\n",
            "\n",
            "🔍 GradientBoosting için hiperparametre optimizasyonu başlatılıyor...\n",
            "Fitting 5 folds for each of 432 candidates, totalling 2160 fits\n",
            "✅ GradientBoosting en iyi parametreler: {'learning_rate': 0.2, 'max_depth': 4, 'min_samples_split': 5, 'n_estimators': 50, 'subsample': 1.0}\n",
            "✅ GradientBoosting en iyi F1 skoru: 0.7339\n",
            "\n",
            "🔍 XGBoost için hiperparametre optimizasyonu başlatılıyor...\n",
            "Fitting 5 folds for each of 1728 candidates, totalling 8640 fits\n",
            "✅ XGBoost en iyi parametreler: {'colsample_bytree': 1.0, 'gamma': 0.2, 'learning_rate': 0.01, 'max_depth': 6, 'n_estimators': 200, 'subsample': 1.0}\n",
            "✅ XGBoost en iyi F1 skoru: 0.7211\n",
            "\n",
            "🔍 AdaBoost için hiperparametre optimizasyonu başlatılıyor...\n",
            "Fitting 5 folds for each of 12 candidates, totalling 60 fits\n",
            "✅ AdaBoost en iyi parametreler: {'learning_rate': 0.1, 'n_estimators': 50}\n",
            "✅ AdaBoost en iyi F1 skoru: 0.6834\n",
            "\n",
            "🔍 SVM için hiperparametre optimizasyonu başlatılıyor...\n",
            "Fitting 5 folds for each of 32 candidates, totalling 160 fits\n"
          ]
        },
        {
          "output_type": "stream",
          "name": "stderr",
          "text": [
            "[I 2025-05-20 17:52:45,377] A new study created in memory with name: no-name-4f3219ee-af04-4575-b4c9-bb8ee0f67f37\n"
          ]
        },
        {
          "output_type": "stream",
          "name": "stdout",
          "text": [
            "✅ SVM en iyi parametreler: {'C': 0.1, 'gamma': 'scale', 'kernel': 'rbf'}\n",
            "✅ SVM en iyi F1 skoru: 0.6705\n",
            "\n",
            "=== Optuna ile XGBoost İleri Seviye Optimizasyon ===\n"
          ]
        },
        {
          "output_type": "display_data",
          "data": {
            "text/plain": [
              "  0%|          | 0/50 [00:00<?, ?it/s]"
            ],
            "application/vnd.jupyter.widget-view+json": {
              "version_major": 2,
              "version_minor": 0,
              "model_id": "804cc641405347a7aa7914c858b37302"
            }
          },
          "metadata": {}
        },
        {
          "output_type": "stream",
          "name": "stdout",
          "text": [
            "[I 2025-05-20 17:52:45,521] Trial 0 finished with value: 0.42800000000000005 and parameters: {'n_estimators': 171, 'max_depth': 3, 'learning_rate': 0.19242094995995102, 'subsample': 0.6039400898279338, 'colsample_bytree': 0.7346651404123804, 'gamma': 0.40658177223432973, 'min_child_weight': 10, 'reg_alpha': 0.848860731462165, 'reg_lambda': 0.41532524698019724}. Best is trial 0 with value: 0.42800000000000005.\n",
            "[I 2025-05-20 17:52:45,769] Trial 1 finished with value: 0.612109916367981 and parameters: {'n_estimators': 214, 'max_depth': 8, 'learning_rate': 0.03774658664852401, 'subsample': 0.632677975142065, 'colsample_bytree': 0.62095139599369, 'gamma': 0.3293570619828306, 'min_child_weight': 3, 'reg_alpha': 0.6022719430214316, 'reg_lambda': 0.16558415163777762}. Best is trial 1 with value: 0.612109916367981.\n",
            "[I 2025-05-20 17:52:46,055] Trial 2 finished with value: 0.6069164583396083 and parameters: {'n_estimators': 363, 'max_depth': 6, 'learning_rate': 0.06065011105255133, 'subsample': 0.629749333259552, 'colsample_bytree': 0.8485130951891271, 'gamma': 0.04395682630537745, 'min_child_weight': 6, 'reg_alpha': 0.5113635674797818, 'reg_lambda': 0.16478987668282197}. Best is trial 1 with value: 0.612109916367981.\n",
            "[I 2025-05-20 17:52:46,573] Trial 3 finished with value: 0.6552614915698081 and parameters: {'n_estimators': 420, 'max_depth': 6, 'learning_rate': 0.02826246346178568, 'subsample': 0.8503822288162801, 'colsample_bytree': 0.9366440651027446, 'gamma': 0.019512192516581317, 'min_child_weight': 3, 'reg_alpha': 0.5522200999927751, 'reg_lambda': 0.8384863400111395}. Best is trial 3 with value: 0.6552614915698081.\n",
            "[I 2025-05-20 17:52:46,672] Trial 4 finished with value: 0.6255868524834042 and parameters: {'n_estimators': 92, 'max_depth': 3, 'learning_rate': 0.19293387424652364, 'subsample': 0.6848315141475421, 'colsample_bytree': 0.8598070650292113, 'gamma': 0.4533029319737808, 'min_child_weight': 10, 'reg_alpha': 0.24473042919852217, 'reg_lambda': 0.1233368014034727}. Best is trial 3 with value: 0.6552614915698081.\n",
            "[I 2025-05-20 17:52:46,863] Trial 5 finished with value: 0.6268387096774194 and parameters: {'n_estimators': 172, 'max_depth': 7, 'learning_rate': 0.19527297629992146, 'subsample': 0.6792207302724308, 'colsample_bytree': 0.733347412099829, 'gamma': 0.18826692517930627, 'min_child_weight': 2, 'reg_alpha': 0.25058721852044763, 'reg_lambda': 0.18308753785667597}. Best is trial 3 with value: 0.6552614915698081.\n",
            "[I 2025-05-20 17:52:46,989] Trial 6 finished with value: 0.5798568098568099 and parameters: {'n_estimators': 112, 'max_depth': 9, 'learning_rate': 0.1695223043743522, 'subsample': 0.8563564202733738, 'colsample_bytree': 0.7231562140945051, 'gamma': 0.09119174865137869, 'min_child_weight': 6, 'reg_alpha': 0.2688126205687883, 'reg_lambda': 0.4730315406372384}. Best is trial 3 with value: 0.6552614915698081.\n",
            "[I 2025-05-20 17:52:47,178] Trial 7 finished with value: 0.6036065354523773 and parameters: {'n_estimators': 217, 'max_depth': 3, 'learning_rate': 0.0997884190112975, 'subsample': 0.6071523501006572, 'colsample_bytree': 0.9176403483940228, 'gamma': 0.2610534081565397, 'min_child_weight': 6, 'reg_alpha': 0.6900898260563479, 'reg_lambda': 0.13078671200479386}. Best is trial 3 with value: 0.6552614915698081.\n",
            "[I 2025-05-20 17:52:47,474] Trial 8 finished with value: 0.6566366536689118 and parameters: {'n_estimators': 250, 'max_depth': 7, 'learning_rate': 0.06119641753245731, 'subsample': 0.6282403046848469, 'colsample_bytree': 0.7849673765840444, 'gamma': 0.4260995901442911, 'min_child_weight': 2, 'reg_alpha': 0.9970175604834229, 'reg_lambda': 0.698284875498743}. Best is trial 8 with value: 0.6566366536689118.\n",
            "[I 2025-05-20 17:52:47,830] Trial 9 finished with value: 0.5884745410100379 and parameters: {'n_estimators': 450, 'max_depth': 10, 'learning_rate': 0.08100332822172963, 'subsample': 0.8551055707520954, 'colsample_bytree': 0.637334469126317, 'gamma': 0.45648086926501935, 'min_child_weight': 4, 'reg_alpha': 0.6121203848353789, 'reg_lambda': 0.15904315315222317}. Best is trial 8 with value: 0.6566366536689118.\n",
            "[I 2025-05-20 17:52:48,442] Trial 10 finished with value: 0.683403211545592 and parameters: {'n_estimators': 318, 'max_depth': 5, 'learning_rate': 0.010370837907846344, 'subsample': 0.9564574850092676, 'colsample_bytree': 0.9804341086571577, 'gamma': 0.33951589857269815, 'min_child_weight': 1, 'reg_alpha': 0.9883446722456003, 'reg_lambda': 0.8757872240010289}. Best is trial 10 with value: 0.683403211545592.\n",
            "[I 2025-05-20 17:52:48,940] Trial 11 finished with value: 0.6834425081366128 and parameters: {'n_estimators': 306, 'max_depth': 5, 'learning_rate': 0.012981099250128879, 'subsample': 0.9916391887682411, 'colsample_bytree': 0.9821525139036642, 'gamma': 0.3531259147702202, 'min_child_weight': 1, 'reg_alpha': 0.9903587712549747, 'reg_lambda': 0.8801969422857203}. Best is trial 11 with value: 0.6834425081366128.\n",
            "[I 2025-05-20 17:52:49,486] Trial 12 finished with value: 0.6839331326400291 and parameters: {'n_estimators': 333, 'max_depth': 4, 'learning_rate': 0.010567931088731742, 'subsample': 0.9846485494373672, 'colsample_bytree': 0.997405594448939, 'gamma': 0.3291051040257622, 'min_child_weight': 1, 'reg_alpha': 0.9833752493386505, 'reg_lambda': 0.9185320867910812}. Best is trial 12 with value: 0.6839331326400291.\n",
            "[I 2025-05-20 17:52:50,080] Trial 13 finished with value: 0.6850574712643678 and parameters: {'n_estimators': 321, 'max_depth': 5, 'learning_rate': 0.010107412869204952, 'subsample': 0.998996774120024, 'colsample_bytree': 0.9952053333696507, 'gamma': 0.23222803543178172, 'min_child_weight': 1, 'reg_alpha': 0.7830311855907526, 'reg_lambda': 0.9699122210090876}. Best is trial 13 with value: 0.6850574712643678.\n",
            "[I 2025-05-20 17:52:50,468] Trial 14 finished with value: 0.6221851851851852 and parameters: {'n_estimators': 383, 'max_depth': 4, 'learning_rate': 0.018282236973534913, 'subsample': 0.9345147273781119, 'colsample_bytree': 0.9985173268787639, 'gamma': 0.19477211428274885, 'min_child_weight': 8, 'reg_alpha': 0.7756777029977835, 'reg_lambda': 0.9958388891834395}. Best is trial 13 with value: 0.6850574712643678.\n",
            "[I 2025-05-20 17:52:51,030] Trial 15 finished with value: 0.6192244362566943 and parameters: {'n_estimators': 488, 'max_depth': 5, 'learning_rate': 0.018615317371245988, 'subsample': 0.9189548442153475, 'colsample_bytree': 0.8987690963288034, 'gamma': 0.2589444473987334, 'min_child_weight': 4, 'reg_alpha': 0.8282713559922383, 'reg_lambda': 0.6445648507972291}. Best is trial 13 with value: 0.6850574712643678.\n",
            "[I 2025-05-20 17:52:51,565] Trial 16 finished with value: 0.6696719576719576 and parameters: {'n_estimators': 341, 'max_depth': 4, 'learning_rate': 0.017888503214896073, 'subsample': 0.9980882931852606, 'colsample_bytree': 0.9430601889611854, 'gamma': 0.16067357386963185, 'min_child_weight': 1, 'reg_alpha': 0.3843381616457797, 'reg_lambda': 0.6682429159290404}. Best is trial 13 with value: 0.6850574712643678.\n",
            "[I 2025-05-20 17:52:51,886] Trial 17 finished with value: 0.614916743949002 and parameters: {'n_estimators': 274, 'max_depth': 4, 'learning_rate': 0.03748605357657794, 'subsample': 0.7790217440928967, 'colsample_bytree': 0.8643408151806656, 'gamma': 0.29011498288272686, 'min_child_weight': 4, 'reg_alpha': 0.0164988662119655, 'reg_lambda': 0.9976721416856494}. Best is trial 13 with value: 0.6850574712643678.\n",
            "[I 2025-05-20 17:52:52,628] Trial 18 finished with value: 0.695034595034595 and parameters: {'n_estimators': 424, 'max_depth': 5, 'learning_rate': 0.010391175827429948, 'subsample': 0.7665190532659917, 'colsample_bytree': 0.8088425327306011, 'gamma': 0.1436058950614424, 'min_child_weight': 2, 'reg_alpha': 0.8637088594587434, 'reg_lambda': 0.3309345195364539}. Best is trial 18 with value: 0.695034595034595.\n",
            "[I 2025-05-20 17:52:53,095] Trial 19 finished with value: 0.6578885869208448 and parameters: {'n_estimators': 399, 'max_depth': 6, 'learning_rate': 0.026394329689766034, 'subsample': 0.7613104812960979, 'colsample_bytree': 0.7972429736240014, 'gamma': 0.11755197383555843, 'min_child_weight': 3, 'reg_alpha': 0.7581990943084113, 'reg_lambda': 0.33987183449153785}. Best is trial 18 with value: 0.695034595034595.\n",
            "[I 2025-05-20 17:52:53,447] Trial 20 finished with value: 0.5919996351030834 and parameters: {'n_estimators': 496, 'max_depth': 8, 'learning_rate': 0.2903224237654179, 'subsample': 0.7463127236992821, 'colsample_bytree': 0.6718666400692985, 'gamma': 0.1148839145651197, 'min_child_weight': 8, 'reg_alpha': 0.883309143222091, 'reg_lambda': 0.30895028846646977}. Best is trial 18 with value: 0.695034595034595.\n",
            "[I 2025-05-20 17:52:54,096] Trial 21 finished with value: 0.684324870531767 and parameters: {'n_estimators': 437, 'max_depth': 5, 'learning_rate': 0.010521899455827224, 'subsample': 0.8999809616068402, 'colsample_bytree': 0.95853741966911, 'gamma': 0.21220391624296336, 'min_child_weight': 2, 'reg_alpha': 0.9278613668834196, 'reg_lambda': 0.5501634698785922}. Best is trial 18 with value: 0.695034595034595.\n",
            "[I 2025-05-20 17:52:54,740] Trial 22 finished with value: 0.6643809523809524 and parameters: {'n_estimators': 445, 'max_depth': 5, 'learning_rate': 0.014891341916484684, 'subsample': 0.8951122705271003, 'colsample_bytree': 0.9479609257637766, 'gamma': 0.19486074313922633, 'min_child_weight': 2, 'reg_alpha': 0.6911470270822073, 'reg_lambda': 0.020270412893093614}. Best is trial 18 with value: 0.695034595034595.\n",
            "[I 2025-05-20 17:52:55,525] Trial 23 finished with value: 0.6926007326007325 and parameters: {'n_estimators': 435, 'max_depth': 5, 'learning_rate': 0.013052779075484692, 'subsample': 0.8179772302908278, 'colsample_bytree': 0.8863072895025718, 'gamma': 0.22421017071174504, 'min_child_weight': 2, 'reg_alpha': 0.8925706201447708, 'reg_lambda': 0.5711033083451369}. Best is trial 18 with value: 0.695034595034595.\n",
            "[I 2025-05-20 17:52:57,551] Trial 24 finished with value: 0.5959239040529363 and parameters: {'n_estimators': 384, 'max_depth': 6, 'learning_rate': 0.01449062926158557, 'subsample': 0.8194705176778674, 'colsample_bytree': 0.8235603735584445, 'gamma': 0.14446809512880726, 'min_child_weight': 5, 'reg_alpha': 0.7258313143248981, 'reg_lambda': 0.5634962557567864}. Best is trial 18 with value: 0.695034595034595.\n",
            "[I 2025-05-20 17:52:58,931] Trial 25 finished with value: 0.6613756613756613 and parameters: {'n_estimators': 474, 'max_depth': 7, 'learning_rate': 0.024918575098949375, 'subsample': 0.7189393072560416, 'colsample_bytree': 0.8964458390431651, 'gamma': 0.07347662545118783, 'min_child_weight': 3, 'reg_alpha': 0.8198782814453394, 'reg_lambda': 0.7597176653207458}. Best is trial 18 with value: 0.695034595034595.\n",
            "[I 2025-05-20 17:52:59,687] Trial 26 finished with value: 0.6981179739800429 and parameters: {'n_estimators': 412, 'max_depth': 4, 'learning_rate': 0.013316421551547044, 'subsample': 0.8041407563609158, 'colsample_bytree': 0.8250151514139565, 'gamma': 0.22527790693090494, 'min_child_weight': 2, 'reg_alpha': 0.9138197111563866, 'reg_lambda': 0.29003911844062036}. Best is trial 26 with value: 0.6981179739800429.\n",
            "[I 2025-05-20 17:53:00,115] Trial 27 finished with value: 0.6184424225714549 and parameters: {'n_estimators': 417, 'max_depth': 4, 'learning_rate': 0.019220620530251944, 'subsample': 0.8003525977762366, 'colsample_bytree': 0.772602655687764, 'gamma': 0.14739056107885123, 'min_child_weight': 5, 'reg_alpha': 0.8993045411878622, 'reg_lambda': 0.2807012165344906}. Best is trial 26 with value: 0.6981179739800429.\n",
            "[I 2025-05-20 17:53:00,578] Trial 28 finished with value: 0.6861904761904761 and parameters: {'n_estimators': 462, 'max_depth': 3, 'learning_rate': 0.03552832299791063, 'subsample': 0.8122798557382074, 'colsample_bytree': 0.8315091835153123, 'gamma': 0.29538807979768256, 'min_child_weight': 2, 'reg_alpha': 0.9074208348929585, 'reg_lambda': 0.3792407135915335}. Best is trial 26 with value: 0.6981179739800429.\n",
            "[I 2025-05-20 17:53:01,024] Trial 29 finished with value: 0.6200900652513556 and parameters: {'n_estimators': 368, 'max_depth': 3, 'learning_rate': 0.013409906994208938, 'subsample': 0.7056083842428105, 'colsample_bytree': 0.7566992401175867, 'gamma': 0.3948163981468934, 'min_child_weight': 4, 'reg_alpha': 0.661768028876315, 'reg_lambda': 0.4600199692129371}. Best is trial 26 with value: 0.6981179739800429.\n",
            "[I 2025-05-20 17:53:01,400] Trial 30 finished with value: 0.6224751940269181 and parameters: {'n_estimators': 411, 'max_depth': 4, 'learning_rate': 0.024847713301136873, 'subsample': 0.8340886852876023, 'colsample_bytree': 0.705930246485506, 'gamma': 0.49645248529742736, 'min_child_weight': 8, 'reg_alpha': 0.8348176080710557, 'reg_lambda': 0.25790457554076385}. Best is trial 26 with value: 0.6981179739800429.\n",
            "[I 2025-05-20 17:53:01,887] Trial 31 finished with value: 0.6727553366174056 and parameters: {'n_estimators': 468, 'max_depth': 3, 'learning_rate': 0.04306781958278041, 'subsample': 0.7922552938058962, 'colsample_bytree': 0.832419986741259, 'gamma': 0.29274440025494625, 'min_child_weight': 2, 'reg_alpha': 0.9279292571025749, 'reg_lambda': 0.38183994577392993}. Best is trial 26 with value: 0.6981179739800429.\n",
            "[I 2025-05-20 17:53:02,362] Trial 32 finished with value: 0.6771765399351606 and parameters: {'n_estimators': 457, 'max_depth': 3, 'learning_rate': 0.032709001958695555, 'subsample': 0.7397557191903623, 'colsample_bytree': 0.8781582393992392, 'gamma': 0.23664689248129106, 'min_child_weight': 3, 'reg_alpha': 0.8965258989245486, 'reg_lambda': 0.3936620659117603}. Best is trial 26 with value: 0.6981179739800429.\n",
            "[I 2025-05-20 17:53:02,788] Trial 33 finished with value: 0.6762339418526031 and parameters: {'n_estimators': 363, 'max_depth': 4, 'learning_rate': 0.046493196338633705, 'subsample': 0.8079628409565542, 'colsample_bytree': 0.8234162040829393, 'gamma': 0.3058020834473179, 'min_child_weight': 2, 'reg_alpha': 0.4325575428221591, 'reg_lambda': 0.2344547848315397}. Best is trial 26 with value: 0.6981179739800429.\n",
            "[I 2025-05-20 17:53:03,343] Trial 34 finished with value: 0.6692187986305633 and parameters: {'n_estimators': 498, 'max_depth': 6, 'learning_rate': 0.02153915828187363, 'subsample': 0.769271246268106, 'colsample_bytree': 0.8075414315139114, 'gamma': 0.37865053740139143, 'min_child_weight': 3, 'reg_alpha': 0.8716855181500134, 'reg_lambda': 0.5299645580131671}. Best is trial 26 with value: 0.6981179739800429.\n",
            "[I 2025-05-20 17:53:03,838] Trial 35 finished with value: 0.6926007326007325 and parameters: {'n_estimators': 433, 'max_depth': 3, 'learning_rate': 0.012721211834640384, 'subsample': 0.8799413190790948, 'colsample_bytree': 0.8455341031827871, 'gamma': 0.27627675584670275, 'min_child_weight': 3, 'reg_alpha': 0.9329260505290713, 'reg_lambda': 0.44540758781013284}. Best is trial 26 with value: 0.6981179739800429.\n",
            "[I 2025-05-20 17:53:04,385] Trial 36 finished with value: 0.6926007326007325 and parameters: {'n_estimators': 423, 'max_depth': 5, 'learning_rate': 0.012365899511596707, 'subsample': 0.8770683728884283, 'colsample_bytree': 0.8487205136505992, 'gamma': 0.17920807541032596, 'min_child_weight': 3, 'reg_alpha': 0.6193227267870918, 'reg_lambda': 0.6018822362024411}. Best is trial 26 with value: 0.6981179739800429.\n",
            "[I 2025-05-20 17:53:04,991] Trial 37 finished with value: 0.6785389527458492 and parameters: {'n_estimators': 397, 'max_depth': 4, 'learning_rate': 0.015734550999535985, 'subsample': 0.8412542458168079, 'colsample_bytree': 0.8835228298211596, 'gamma': 0.21967775293772393, 'min_child_weight': 1, 'reg_alpha': 0.5210496427609316, 'reg_lambda': 0.45637092517052}. Best is trial 26 with value: 0.6981179739800429.\n",
            "[I 2025-05-20 17:53:05,384] Trial 38 finished with value: 0.6221851851851852 and parameters: {'n_estimators': 432, 'max_depth': 3, 'learning_rate': 0.012149551961271786, 'subsample': 0.8749817304928695, 'colsample_bytree': 0.7558785513007374, 'gamma': 0.2671284589541419, 'min_child_weight': 7, 'reg_alpha': 0.9505775500126669, 'reg_lambda': 0.06501395054321274}. Best is trial 26 with value: 0.6981179739800429.\n",
            "[I 2025-05-20 17:53:05,546] Trial 39 finished with value: 0.6521931328242688 and parameters: {'n_estimators': 136, 'max_depth': 6, 'learning_rate': 0.021471047895854963, 'subsample': 0.6687805629276175, 'colsample_bytree': 0.920281576834775, 'gamma': 0.11518394191101061, 'min_child_weight': 10, 'reg_alpha': 0.7995546550451518, 'reg_lambda': 0.4379492624223338}. Best is trial 26 with value: 0.6981179739800429.\n",
            "[I 2025-05-20 17:53:05,872] Trial 40 finished with value: 0.6141413473026376 and parameters: {'n_estimators': 287, 'max_depth': 8, 'learning_rate': 0.01662159076359159, 'subsample': 0.785040611313396, 'colsample_bytree': 0.8604790527203795, 'gamma': 0.007823901578215109, 'min_child_weight': 5, 'reg_alpha': 0.04460110170181619, 'reg_lambda': 0.20921986227952943}. Best is trial 26 with value: 0.6981179739800429.\n",
            "[I 2025-05-20 17:53:06,460] Trial 41 finished with value: 0.6754578754578755 and parameters: {'n_estimators': 427, 'max_depth': 5, 'learning_rate': 0.012375116114596787, 'subsample': 0.8811321798823661, 'colsample_bytree': 0.8479938867890441, 'gamma': 0.16789276280976695, 'min_child_weight': 3, 'reg_alpha': 0.6247725268140865, 'reg_lambda': 0.5681810520676468}. Best is trial 26 with value: 0.6981179739800429.\n",
            "[I 2025-05-20 17:53:07,086] Trial 42 finished with value: 0.6786666666666666 and parameters: {'n_estimators': 406, 'max_depth': 5, 'learning_rate': 0.011785862354043605, 'subsample': 0.8304857449035258, 'colsample_bytree': 0.8088723119311505, 'gamma': 0.19794258204613596, 'min_child_weight': 2, 'reg_alpha': 0.7337906349895462, 'reg_lambda': 0.608757382961725}. Best is trial 26 with value: 0.6981179739800429.\n",
            "[I 2025-05-20 17:53:07,569] Trial 43 finished with value: 0.6807488807488806 and parameters: {'n_estimators': 360, 'max_depth': 6, 'learning_rate': 0.014328823780761647, 'subsample': 0.8724018430584898, 'colsample_bytree': 0.8453885774720492, 'gamma': 0.06354257845511269, 'min_child_weight': 3, 'reg_alpha': 0.8539577605260261, 'reg_lambda': 0.7597647114562264}. Best is trial 26 with value: 0.6981179739800429.\n",
            "[I 2025-05-20 17:53:07,975] Trial 44 finished with value: 0.6098350451291628 and parameters: {'n_estimators': 441, 'max_depth': 4, 'learning_rate': 0.12785234318444286, 'subsample': 0.8569952856714036, 'colsample_bytree': 0.7755652133033525, 'gamma': 0.17749916892332068, 'min_child_weight': 4, 'reg_alpha': 0.33492616399068775, 'reg_lambda': 0.48651958317789945}. Best is trial 26 with value: 0.6981179739800429.\n",
            "[I 2025-05-20 17:53:08,136] Trial 45 finished with value: 0.6706428571428571 and parameters: {'n_estimators': 59, 'max_depth': 5, 'learning_rate': 0.011658321864100601, 'subsample': 0.9086573151860166, 'colsample_bytree': 0.9134334428085781, 'gamma': 0.24780706146070205, 'min_child_weight': 3, 'reg_alpha': 0.5596800410254201, 'reg_lambda': 0.3345324984292076}. Best is trial 26 with value: 0.6981179739800429.\n",
            "[I 2025-05-20 17:53:08,590] Trial 46 finished with value: 0.684324870531767 and parameters: {'n_estimators': 384, 'max_depth': 3, 'learning_rate': 0.016094374181750106, 'subsample': 0.9294848337358748, 'colsample_bytree': 0.8702148593716769, 'gamma': 0.22345838778523075, 'min_child_weight': 2, 'reg_alpha': 0.9540009169055405, 'reg_lambda': 0.5162428985342302}. Best is trial 26 with value: 0.6981179739800429.\n",
            "[I 2025-05-20 17:53:08,943] Trial 47 finished with value: 0.6739664159018999 and parameters: {'n_estimators': 229, 'max_depth': 4, 'learning_rate': 0.02984060631681443, 'subsample': 0.9653924217737933, 'colsample_bytree': 0.793974429809425, 'gamma': 0.2730903206234461, 'min_child_weight': 1, 'reg_alpha': 0.12178886454079374, 'reg_lambda': 0.7386392052642944}. Best is trial 26 with value: 0.6981179739800429.\n",
            "[I 2025-05-20 17:53:09,427] Trial 48 finished with value: 0.6167184539598332 and parameters: {'n_estimators': 353, 'max_depth': 5, 'learning_rate': 0.07316411905488297, 'subsample': 0.8599265176938417, 'colsample_bytree': 0.8937259470620638, 'gamma': 0.13560946591529507, 'min_child_weight': 4, 'reg_alpha': 0.6706624778116907, 'reg_lambda': 0.6145162601207829}. Best is trial 26 with value: 0.6981179739800429.\n",
            "[I 2025-05-20 17:53:12,108] Trial 49 finished with value: 0.684324870531767 and parameters: {'n_estimators': 479, 'max_depth': 7, 'learning_rate': 0.02115786660217031, 'subsample': 0.8215869816693084, 'colsample_bytree': 0.8477824617911978, 'gamma': 0.040200261175681457, 'min_child_weight': 1, 'reg_alpha': 0.8566720549799773, 'reg_lambda': 0.41502703600487106}. Best is trial 26 with value: 0.6981179739800429.\n",
            "⭐ Optuna ile XGBoost en iyi parametreler: {'n_estimators': 412, 'max_depth': 4, 'learning_rate': 0.013316421551547044, 'subsample': 0.8041407563609158, 'colsample_bytree': 0.8250151514139565, 'gamma': 0.22527790693090494, 'min_child_weight': 2, 'reg_alpha': 0.9138197111563866, 'reg_lambda': 0.29003911844062036}\n",
            "⭐ Optuna ile XGBoost en iyi F1 skoru: 0.6981\n",
            "❌ Optuna XGBoost optimizasyonu sırasında hata: \n",
            "Image export using the \"kaleido\" engine requires the kaleido package,\n",
            "which can be installed using pip:\n",
            "    $ pip install -U kaleido\n",
            "\n",
            "\n",
            "=== En İyi Performanslı Modelleri Tespit Ediliyor ===\n",
            "🥇 1. sırada GradientBoosting: F1 Skoru = 0.7339\n",
            "🥇 2. sırada DecisionTree: F1 Skoru = 0.7216\n",
            "🥇 3. sırada XGBoost: F1 Skoru = 0.7211\n",
            "\n",
            "=== En İyi Model: GradientBoosting (F1: 0.7339) ===\n",
            "\n",
            "📊 Sınıflandırma Raporu:\n",
            "              precision    recall  f1-score   support\n",
            "\n",
            "      Normal       0.97      0.96      0.96        70\n",
            "      Defect       0.96      0.97      0.97        71\n",
            "\n",
            "    accuracy                           0.96       141\n",
            "   macro avg       0.96      0.96      0.96       141\n",
            "weighted avg       0.96      0.96      0.96       141\n",
            "\n",
            "\n",
            "📊 En önemli 10 özellik:\n",
            "  1. p75: 0.1733\n",
            "  2. iqr: 0.1053\n",
            "  3. anomaly_ratio: 0.0944\n",
            "  4. entropy: 0.0832\n",
            "  5. max_intensity: 0.0724\n",
            "  6. std_intensity: 0.0713\n",
            "  7. p50: 0.0688\n",
            "  8. kurtosis: 0.0661\n",
            "  9. mean_intensity: 0.0613\n",
            "  10. area_ratio: 0.0548\n",
            "\n",
            "✅ Tüm sonuçlar '/content/eval_outputs' klasörüne kaydedildi.\n",
            "📊 Tahminler: /content/eval_outputs/predictions_GradientBoosting.csv\n",
            "📊 Confusion Matrix: /content/eval_outputs/conf_matrix_GradientBoosting.png\n",
            "📊 Özet rapor: /content/eval_outputs/optimization_summary.txt\n",
            "\n",
            "====== İŞLEM TAMAMLANDI ======\n"
          ]
        }
      ]
    }
  ]
}