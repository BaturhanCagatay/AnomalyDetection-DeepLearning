{
  "nbformat": 4,
  "nbformat_minor": 0,
  "metadata": {
    "colab": {
      "provenance": []
    },
    "kernelspec": {
      "name": "python3",
      "display_name": "Python 3"
    },
    "language_info": {
      "name": "python"
    }
  },
  "cells": [
    {
      "cell_type": "code",
      "execution_count": 3,
      "metadata": {
        "colab": {
          "base_uri": "https://localhost:8080/"
        },
        "id": "zgm4P46Al_9x",
        "outputId": "2ba408d8-4810-4e8b-d7a1-7fc041915824"
      },
      "outputs": [
        {
          "output_type": "stream",
          "name": "stdout",
          "text": [
            "Mounted at /content/drive\n"
          ]
        }
      ],
      "source": [
        "# 1. Gerekli kütüphaneleri içe aktarın\n",
        "import cv2\n",
        "import os\n",
        "import numpy as np\n",
        "from google.colab import drive\n",
        "\n",
        "# 2. Google Drive'ı bağlayın\n",
        "drive.mount('/content/drive')\n",
        "\n"
      ]
    },
    {
      "cell_type": "code",
      "source": [
        "# 3. Klasör yollarını tanımlayın\n",
        "image_dir = '/content/drive/MyDrive/Wood_Dataset/wood/train/good'\n",
        "output_dir = '/content/drive/MyDrive/Wood_Output/otsu_thresholding2'"
      ],
      "metadata": {
        "id": "pRoHFPTtmfo9"
      },
      "execution_count": 2,
      "outputs": []
    },
    {
      "cell_type": "code",
      "source": [
        "# 4. Çıktı klasörünü oluşturun\n",
        "os.makedirs(output_dir, exist_ok=True)\n"
      ],
      "metadata": {
        "id": "8JEflV5mmgpK"
      },
      "execution_count": 4,
      "outputs": []
    },
    {
      "cell_type": "code",
      "source": [
        "# 5. Hedef boyutu belirleyin\n",
        "target_size = (256, 256)  # (width, height)"
      ],
      "metadata": {
        "id": "0Mmz2TWImhcw"
      },
      "execution_count": 5,
      "outputs": []
    },
    {
      "cell_type": "code",
      "source": [
        "# 6. Resim işleme döngüsünü başlatın\n",
        "for filename in os.listdir(image_dir):\n",
        "    if filename.lower().endswith(('.png', '.jpg', '.jpeg', '.bmp', '.gif')):  # Sadece resim dosyalarını işle\n",
        "\n",
        "        # 7. Resmi yükleyin\n",
        "        image_path = os.path.join(image_dir, filename)\n",
        "        img = cv2.imread(image_path, cv2.IMREAD_GRAYSCALE)\n",
        "\n",
        "        if img is None:\n",
        "            print(f\"Skipping file {filename}, unable to read the image.\")\n",
        "            continue\n",
        "\n",
        "        # 8. Gaussian Blur ve Otsu eşikleme uygulayın\n",
        "        blur = cv2.GaussianBlur(img, (5, 5), 0)\n",
        "        _, thresh = cv2.threshold(blur, 0, 255, cv2.THRESH_BINARY + cv2.THRESH_OTSU)\n",
        "\n",
        "        # 9. Orijinal görüntüyü maskeleme\n",
        "        masked = cv2.bitwise_and(img, img, mask=thresh)\n",
        "\n",
        "        # 10. Yeniden boyutlandırma\n",
        "        resized = cv2.resize(masked, target_size, interpolation=cv2.INTER_AREA)\n",
        "\n",
        "        # 11. Normalize etme (0-1 aralığına)\n",
        "        normalized = resized.astype(np.float32) / 255.0\n",
        "\n",
        "        # 12. Tekrar 0-255 aralığına dönüştürme\n",
        "        output_img = (normalized * 255).astype(np.uint8)\n",
        "\n",
        "        # 13. Çıktı yolunu belirleyin\n",
        "        output_path = os.path.join(output_dir, filename)\n",
        "\n",
        "        if not os.path.exists(output_dir):\n",
        "            print(f\"Output directory {output_dir} does not exist!\")\n",
        "            continue\n",
        "\n",
        "        # 14. Çıktıyı kaydedin\n",
        "        if cv2.imwrite(output_path, output_img):\n",
        "            print(f\"Saved {filename} to {output_path}\")\n",
        "        else:\n",
        "            print(f\"Failed to save {filename}.\")\n",
        "\n",
        "print(\"Processing complete.\")"
      ],
      "metadata": {
        "colab": {
          "base_uri": "https://localhost:8080/"
        },
        "id": "MZjuGYQemkPe",
        "outputId": "49e65282-a1fd-4c77-fd7c-5ee4b0c4b924"
      },
      "execution_count": 6,
      "outputs": [
        {
          "output_type": "stream",
          "name": "stdout",
          "text": [
            "Saved 8.jpg to /content/drive/MyDrive/Wood_Output/otsu_thresholding2/8.jpg\n",
            "Saved 11.jpg to /content/drive/MyDrive/Wood_Output/otsu_thresholding2/11.jpg\n",
            "Saved 4.jpg to /content/drive/MyDrive/Wood_Output/otsu_thresholding2/4.jpg\n",
            "Saved 9.jpg to /content/drive/MyDrive/Wood_Output/otsu_thresholding2/9.jpg\n",
            "Saved 5.jpg to /content/drive/MyDrive/Wood_Output/otsu_thresholding2/5.jpg\n",
            "Saved 12.jpg to /content/drive/MyDrive/Wood_Output/otsu_thresholding2/12.jpg\n",
            "Saved 7.jpg to /content/drive/MyDrive/Wood_Output/otsu_thresholding2/7.jpg\n",
            "Saved 10.jpg to /content/drive/MyDrive/Wood_Output/otsu_thresholding2/10.jpg\n",
            "Saved 6.jpg to /content/drive/MyDrive/Wood_Output/otsu_thresholding2/6.jpg\n",
            "Saved 20.jpg to /content/drive/MyDrive/Wood_Output/otsu_thresholding2/20.jpg\n",
            "Saved 17.jpg to /content/drive/MyDrive/Wood_Output/otsu_thresholding2/17.jpg\n",
            "Saved 15.jpg to /content/drive/MyDrive/Wood_Output/otsu_thresholding2/15.jpg\n",
            "Saved 13.jpg to /content/drive/MyDrive/Wood_Output/otsu_thresholding2/13.jpg\n",
            "Saved 19.jpg to /content/drive/MyDrive/Wood_Output/otsu_thresholding2/19.jpg\n",
            "Saved 18.jpg to /content/drive/MyDrive/Wood_Output/otsu_thresholding2/18.jpg\n",
            "Saved 16.jpg to /content/drive/MyDrive/Wood_Output/otsu_thresholding2/16.jpg\n",
            "Saved 1.jpg to /content/drive/MyDrive/Wood_Output/otsu_thresholding2/1.jpg\n",
            "Saved 2.jpg to /content/drive/MyDrive/Wood_Output/otsu_thresholding2/2.jpg\n",
            "Saved 14.jpg to /content/drive/MyDrive/Wood_Output/otsu_thresholding2/14.jpg\n",
            "Saved 3.jpg to /content/drive/MyDrive/Wood_Output/otsu_thresholding2/3.jpg\n",
            "Processing complete.\n"
          ]
        }
      ]
    }
  ]
}