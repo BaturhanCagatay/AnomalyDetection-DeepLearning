{
  "nbformat": 4,
  "nbformat_minor": 0,
  "metadata": {
    "colab": {
      "provenance": [],
      "machine_shape": "hm",
      "gpuType": "A100"
    },
    "kernelspec": {
      "name": "python3",
      "display_name": "Python 3"
    },
    "language_info": {
      "name": "python"
    },
    "accelerator": "GPU"
  },
  "cells": [
    {
      "cell_type": "code",
      "source": [
        "from google.colab import drive\n",
        "drive.mount('/content/drive')"
      ],
      "metadata": {
        "colab": {
          "base_uri": "https://localhost:8080/"
        },
        "id": "ldPxCXXZzPnb",
        "outputId": "a68ef382-e54b-4485-b0b9-a3151ff25d3f"
      },
      "execution_count": 1,
      "outputs": [
        {
          "output_type": "stream",
          "name": "stdout",
          "text": [
            "Mounted at /content/drive\n"
          ]
        }
      ]
    },
    {
      "cell_type": "code",
      "execution_count": 2,
      "metadata": {
        "colab": {
          "base_uri": "https://localhost:8080/"
        },
        "id": "pxHQsiYmym6B",
        "outputId": "d139e628-3cc5-410e-d5b5-8f2588989b4f"
      },
      "outputs": [
        {
          "output_type": "stream",
          "name": "stdout",
          "text": [
            "Cloning into 'INP-Former'...\n",
            "remote: Enumerating objects: 363, done.\u001b[K\n",
            "remote: Counting objects: 100% (363/363), done.\u001b[K\n",
            "remote: Compressing objects: 100% (304/304), done.\u001b[K\n",
            "remote: Total 363 (delta 105), reused 258 (delta 48), pack-reused 0 (from 0)\u001b[K\n",
            "Receiving objects: 100% (363/363), 6.53 MiB | 27.72 MiB/s, done.\n",
            "Resolving deltas: 100% (105/105), done.\n"
          ]
        }
      ],
      "source": [
        "!git clone https://github.com/luow23/INP-Former.git"
      ]
    },
    {
      "cell_type": "code",
      "source": [
        "\"\"\"from PIL import Image\n",
        "import os\n",
        "from glob import glob\n",
        "\n",
        "def convert_to_png(directory):\n",
        "    image_paths = glob(os.path.join(directory, '*.jpg')) + glob(os.path.join(directory, '*.JPG'))\n",
        "    for img_path in image_paths:\n",
        "        img = Image.open(img_path).convert('RGB')\n",
        "        new_path = os.path.splitext(img_path)[0] + '.png'\n",
        "        img.save(new_path)\n",
        "        os.remove(img_path)  # orijinali sil\n",
        "\n",
        "# Ana yol\n",
        "base_path = \"/content/drive/MyDrive/wood_dataset/wood\"\n",
        "\n",
        "# İlgili alt dizinleri sırayla dön\n",
        "subfolders = [\n",
        "    \"train/good\",\n",
        "    \"test/good\",\n",
        "    \"test/defect\",\n",
        "    \"ground_truth/defect\"\n",
        "]\n",
        "\n",
        "for folder in subfolders:\n",
        "    convert_to_png(os.path.join(base_path, folder))\n",
        "\n",
        "print(\"✅ Tüm JPG dosyalar PNG formatına dönüştürüldü.\")\n",
        "\"\"\""
      ],
      "metadata": {
        "colab": {
          "base_uri": "https://localhost:8080/"
        },
        "id": "qNA2cukWKGCt",
        "outputId": "4a2c98f9-8ace-4987-87ec-82bf807a9989"
      },
      "execution_count": null,
      "outputs": [
        {
          "output_type": "stream",
          "name": "stdout",
          "text": [
            "✅ Tüm JPG dosyalar PNG formatına dönüştürüldü.\n"
          ]
        }
      ]
    },
    {
      "cell_type": "code",
      "source": [
        "# Mevcut problemli numpy ve pandas'ı kaldır\n",
        "!pip uninstall -y numpy pandas\n",
        "\n",
        "# Colab uyumlu pip kurulumu\n",
        "!pip install torch==2.0.1 torchvision==0.15.2\n",
        "!pip install matplotlib==3.5.3\n",
        "!pip install numpy==1.24.3 pandas==1.5.3\n",
        "!pip install opencv-python-headless==4.7.0.72\n",
        "!pip install Pillow==9.5.0\n",
        "!pip install scikit-image==0.19.3\n",
        "!pip install scikit-learn==1.1.3\n",
        "!pip install scipy==1.9.3\n",
        "!pip install tqdm==4.66.1\n",
        "!pip install tabulate==0.9.0\n",
        "!pip install timm==0.9.12\n",
        "\n"
      ],
      "metadata": {
        "colab": {
          "base_uri": "https://localhost:8080/",
          "height": 1000
        },
        "id": "zmSkj7XpqCol",
        "outputId": "0c2dcf31-277a-4f43-c45a-094b425552fa"
      },
      "execution_count": null,
      "outputs": [
        {
          "output_type": "stream",
          "name": "stdout",
          "text": [
            "Found existing installation: numpy 2.0.2\n",
            "Uninstalling numpy-2.0.2:\n",
            "  Successfully uninstalled numpy-2.0.2\n",
            "Found existing installation: pandas 2.2.2\n",
            "Uninstalling pandas-2.2.2:\n",
            "  Successfully uninstalled pandas-2.2.2\n",
            "Collecting torch==2.0.1\n",
            "  Downloading torch-2.0.1-cp311-cp311-manylinux1_x86_64.whl.metadata (24 kB)\n",
            "Collecting torchvision==0.15.2\n",
            "  Downloading torchvision-0.15.2-cp311-cp311-manylinux1_x86_64.whl.metadata (11 kB)\n",
            "Requirement already satisfied: filelock in /usr/local/lib/python3.11/dist-packages (from torch==2.0.1) (3.18.0)\n",
            "Requirement already satisfied: typing-extensions in /usr/local/lib/python3.11/dist-packages (from torch==2.0.1) (4.13.2)\n",
            "Requirement already satisfied: sympy in /usr/local/lib/python3.11/dist-packages (from torch==2.0.1) (1.13.1)\n",
            "Requirement already satisfied: networkx in /usr/local/lib/python3.11/dist-packages (from torch==2.0.1) (3.4.2)\n",
            "Requirement already satisfied: jinja2 in /usr/local/lib/python3.11/dist-packages (from torch==2.0.1) (3.1.6)\n",
            "Collecting nvidia-cuda-nvrtc-cu11==11.7.99 (from torch==2.0.1)\n",
            "  Downloading nvidia_cuda_nvrtc_cu11-11.7.99-2-py3-none-manylinux1_x86_64.whl.metadata (1.5 kB)\n",
            "Collecting nvidia-cuda-runtime-cu11==11.7.99 (from torch==2.0.1)\n",
            "  Downloading nvidia_cuda_runtime_cu11-11.7.99-py3-none-manylinux1_x86_64.whl.metadata (1.6 kB)\n",
            "Collecting nvidia-cuda-cupti-cu11==11.7.101 (from torch==2.0.1)\n",
            "  Downloading nvidia_cuda_cupti_cu11-11.7.101-py3-none-manylinux1_x86_64.whl.metadata (1.6 kB)\n",
            "Collecting nvidia-cudnn-cu11==8.5.0.96 (from torch==2.0.1)\n",
            "  Downloading nvidia_cudnn_cu11-8.5.0.96-2-py3-none-manylinux1_x86_64.whl.metadata (1.6 kB)\n",
            "Collecting nvidia-cublas-cu11==11.10.3.66 (from torch==2.0.1)\n",
            "  Downloading nvidia_cublas_cu11-11.10.3.66-py3-none-manylinux1_x86_64.whl.metadata (1.6 kB)\n",
            "Collecting nvidia-cufft-cu11==10.9.0.58 (from torch==2.0.1)\n",
            "  Downloading nvidia_cufft_cu11-10.9.0.58-py3-none-manylinux2014_x86_64.whl.metadata (1.5 kB)\n",
            "Collecting nvidia-curand-cu11==10.2.10.91 (from torch==2.0.1)\n",
            "  Downloading nvidia_curand_cu11-10.2.10.91-py3-none-manylinux1_x86_64.whl.metadata (1.6 kB)\n",
            "Collecting nvidia-cusolver-cu11==11.4.0.1 (from torch==2.0.1)\n",
            "  Downloading nvidia_cusolver_cu11-11.4.0.1-2-py3-none-manylinux1_x86_64.whl.metadata (1.6 kB)\n",
            "Collecting nvidia-cusparse-cu11==11.7.4.91 (from torch==2.0.1)\n",
            "  Downloading nvidia_cusparse_cu11-11.7.4.91-py3-none-manylinux1_x86_64.whl.metadata (1.6 kB)\n",
            "Collecting nvidia-nccl-cu11==2.14.3 (from torch==2.0.1)\n",
            "  Downloading nvidia_nccl_cu11-2.14.3-py3-none-manylinux1_x86_64.whl.metadata (1.8 kB)\n",
            "Collecting nvidia-nvtx-cu11==11.7.91 (from torch==2.0.1)\n",
            "  Downloading nvidia_nvtx_cu11-11.7.91-py3-none-manylinux1_x86_64.whl.metadata (1.7 kB)\n",
            "Collecting triton==2.0.0 (from torch==2.0.1)\n",
            "  Downloading triton-2.0.0-1-cp311-cp311-manylinux2014_x86_64.manylinux_2_17_x86_64.whl.metadata (1.0 kB)\n",
            "Collecting numpy (from torchvision==0.15.2)\n",
            "  Downloading numpy-2.2.5-cp311-cp311-manylinux_2_17_x86_64.manylinux2014_x86_64.whl.metadata (62 kB)\n",
            "\u001b[2K     \u001b[90m━━━━━━━━━━━━━━━━━━━━━━━━━━━━━━━━━━━━━━━━\u001b[0m \u001b[32m62.0/62.0 kB\u001b[0m \u001b[31m3.5 MB/s\u001b[0m eta \u001b[36m0:00:00\u001b[0m\n",
            "\u001b[?25hRequirement already satisfied: requests in /usr/local/lib/python3.11/dist-packages (from torchvision==0.15.2) (2.32.3)\n",
            "Requirement already satisfied: pillow!=8.3.*,>=5.3.0 in /usr/local/lib/python3.11/dist-packages (from torchvision==0.15.2) (11.2.1)\n",
            "Requirement already satisfied: setuptools in /usr/local/lib/python3.11/dist-packages (from nvidia-cublas-cu11==11.10.3.66->torch==2.0.1) (75.2.0)\n",
            "Requirement already satisfied: wheel in /usr/local/lib/python3.11/dist-packages (from nvidia-cublas-cu11==11.10.3.66->torch==2.0.1) (0.45.1)\n",
            "Requirement already satisfied: cmake in /usr/local/lib/python3.11/dist-packages (from triton==2.0.0->torch==2.0.1) (3.31.6)\n",
            "Collecting lit (from triton==2.0.0->torch==2.0.1)\n",
            "  Downloading lit-18.1.8-py3-none-any.whl.metadata (2.5 kB)\n",
            "Requirement already satisfied: MarkupSafe>=2.0 in /usr/local/lib/python3.11/dist-packages (from jinja2->torch==2.0.1) (3.0.2)\n",
            "Requirement already satisfied: charset-normalizer<4,>=2 in /usr/local/lib/python3.11/dist-packages (from requests->torchvision==0.15.2) (3.4.2)\n",
            "Requirement already satisfied: idna<4,>=2.5 in /usr/local/lib/python3.11/dist-packages (from requests->torchvision==0.15.2) (3.10)\n",
            "Requirement already satisfied: urllib3<3,>=1.21.1 in /usr/local/lib/python3.11/dist-packages (from requests->torchvision==0.15.2) (2.4.0)\n",
            "Requirement already satisfied: certifi>=2017.4.17 in /usr/local/lib/python3.11/dist-packages (from requests->torchvision==0.15.2) (2025.4.26)\n",
            "Requirement already satisfied: mpmath<1.4,>=1.1.0 in /usr/local/lib/python3.11/dist-packages (from sympy->torch==2.0.1) (1.3.0)\n",
            "Downloading torch-2.0.1-cp311-cp311-manylinux1_x86_64.whl (619.9 MB)\n",
            "\u001b[2K   \u001b[90m━━━━━━━━━━━━━━━━━━━━━━━━━━━━━━━━━━━━━━━━\u001b[0m \u001b[32m619.9/619.9 MB\u001b[0m \u001b[31m1.9 MB/s\u001b[0m eta \u001b[36m0:00:00\u001b[0m\n",
            "\u001b[?25hDownloading torchvision-0.15.2-cp311-cp311-manylinux1_x86_64.whl (6.0 MB)\n",
            "\u001b[2K   \u001b[90m━━━━━━━━━━━━━━━━━━━━━━━━━━━━━━━━━━━━━━━━\u001b[0m \u001b[32m6.0/6.0 MB\u001b[0m \u001b[31m110.9 MB/s\u001b[0m eta \u001b[36m0:00:00\u001b[0m\n",
            "\u001b[?25hDownloading nvidia_cublas_cu11-11.10.3.66-py3-none-manylinux1_x86_64.whl (317.1 MB)\n",
            "\u001b[2K   \u001b[90m━━━━━━━━━━━━━━━━━━━━━━━━━━━━━━━━━━━━━━━━\u001b[0m \u001b[32m317.1/317.1 MB\u001b[0m \u001b[31m3.4 MB/s\u001b[0m eta \u001b[36m0:00:00\u001b[0m\n",
            "\u001b[?25hDownloading nvidia_cuda_cupti_cu11-11.7.101-py3-none-manylinux1_x86_64.whl (11.8 MB)\n",
            "\u001b[2K   \u001b[90m━━━━━━━━━━━━━━━━━━━━━━━━━━━━━━━━━━━━━━━━\u001b[0m \u001b[32m11.8/11.8 MB\u001b[0m \u001b[31m130.2 MB/s\u001b[0m eta \u001b[36m0:00:00\u001b[0m\n",
            "\u001b[?25hDownloading nvidia_cuda_nvrtc_cu11-11.7.99-2-py3-none-manylinux1_x86_64.whl (21.0 MB)\n",
            "\u001b[2K   \u001b[90m━━━━━━━━━━━━━━━━━━━━━━━━━━━━━━━━━━━━━━━━\u001b[0m \u001b[32m21.0/21.0 MB\u001b[0m \u001b[31m109.0 MB/s\u001b[0m eta \u001b[36m0:00:00\u001b[0m\n",
            "\u001b[?25hDownloading nvidia_cuda_runtime_cu11-11.7.99-py3-none-manylinux1_x86_64.whl (849 kB)\n",
            "\u001b[2K   \u001b[90m━━━━━━━━━━━━━━━━━━━━━━━━━━━━━━━━━━━━━━━━\u001b[0m \u001b[32m849.3/849.3 kB\u001b[0m \u001b[31m68.7 MB/s\u001b[0m eta \u001b[36m0:00:00\u001b[0m\n",
            "\u001b[?25hDownloading nvidia_cudnn_cu11-8.5.0.96-2-py3-none-manylinux1_x86_64.whl (557.1 MB)\n",
            "\u001b[2K   \u001b[90m━━━━━━━━━━━━━━━━━━━━━━━━━━━━━━━━━━━━━━━━\u001b[0m \u001b[32m557.1/557.1 MB\u001b[0m \u001b[31m1.9 MB/s\u001b[0m eta \u001b[36m0:00:00\u001b[0m\n",
            "\u001b[?25hDownloading nvidia_cufft_cu11-10.9.0.58-py3-none-manylinux2014_x86_64.whl (168.4 MB)\n",
            "\u001b[2K   \u001b[90m━━━━━━━━━━━━━━━━━━━━━━━━━━━━━━━━━━━━━━━━\u001b[0m \u001b[32m168.4/168.4 MB\u001b[0m \u001b[31m14.7 MB/s\u001b[0m eta \u001b[36m0:00:00\u001b[0m\n",
            "\u001b[?25hDownloading nvidia_curand_cu11-10.2.10.91-py3-none-manylinux1_x86_64.whl (54.6 MB)\n",
            "\u001b[2K   \u001b[90m━━━━━━━━━━━━━━━━━━━━━━━━━━━━━━━━━━━━━━━━\u001b[0m \u001b[32m54.6/54.6 MB\u001b[0m \u001b[31m45.4 MB/s\u001b[0m eta \u001b[36m0:00:00\u001b[0m\n",
            "\u001b[?25hDownloading nvidia_cusolver_cu11-11.4.0.1-2-py3-none-manylinux1_x86_64.whl (102.6 MB)\n",
            "\u001b[2K   \u001b[90m━━━━━━━━━━━━━━━━━━━━━━━━━━━━━━━━━━━━━━━━\u001b[0m \u001b[32m102.6/102.6 MB\u001b[0m \u001b[31m25.6 MB/s\u001b[0m eta \u001b[36m0:00:00\u001b[0m\n",
            "\u001b[?25hDownloading nvidia_cusparse_cu11-11.7.4.91-py3-none-manylinux1_x86_64.whl (173.2 MB)\n",
            "\u001b[2K   \u001b[90m━━━━━━━━━━━━━━━━━━━━━━━━━━━━━━━━━━━━━━━━\u001b[0m \u001b[32m173.2/173.2 MB\u001b[0m \u001b[31m15.4 MB/s\u001b[0m eta \u001b[36m0:00:00\u001b[0m\n",
            "\u001b[?25hDownloading nvidia_nccl_cu11-2.14.3-py3-none-manylinux1_x86_64.whl (177.1 MB)\n",
            "\u001b[2K   \u001b[90m━━━━━━━━━━━━━━━━━━━━━━━━━━━━━━━━━━━━━━━━\u001b[0m \u001b[32m177.1/177.1 MB\u001b[0m \u001b[31m3.4 MB/s\u001b[0m eta \u001b[36m0:00:00\u001b[0m\n",
            "\u001b[?25hDownloading nvidia_nvtx_cu11-11.7.91-py3-none-manylinux1_x86_64.whl (98 kB)\n",
            "\u001b[2K   \u001b[90m━━━━━━━━━━━━━━━━━━━━━━━━━━━━━━━━━━━━━━━━\u001b[0m \u001b[32m98.6/98.6 kB\u001b[0m \u001b[31m10.6 MB/s\u001b[0m eta \u001b[36m0:00:00\u001b[0m\n",
            "\u001b[?25hDownloading triton-2.0.0-1-cp311-cp311-manylinux2014_x86_64.manylinux_2_17_x86_64.whl (63.3 MB)\n",
            "\u001b[2K   \u001b[90m━━━━━━━━━━━━━━━━━━━━━━━━━━━━━━━━━━━━━━━━\u001b[0m \u001b[32m63.3/63.3 MB\u001b[0m \u001b[31m38.6 MB/s\u001b[0m eta \u001b[36m0:00:00\u001b[0m\n",
            "\u001b[?25hDownloading numpy-2.2.5-cp311-cp311-manylinux_2_17_x86_64.manylinux2014_x86_64.whl (16.4 MB)\n",
            "\u001b[2K   \u001b[90m━━━━━━━━━━━━━━━━━━━━━━━━━━━━━━━━━━━━━━━━\u001b[0m \u001b[32m16.4/16.4 MB\u001b[0m \u001b[31m111.1 MB/s\u001b[0m eta \u001b[36m0:00:00\u001b[0m\n",
            "\u001b[?25hDownloading lit-18.1.8-py3-none-any.whl (96 kB)\n",
            "\u001b[2K   \u001b[90m━━━━━━━━━━━━━━━━━━━━━━━━━━━━━━━━━━━━━━━━\u001b[0m \u001b[32m96.4/96.4 kB\u001b[0m \u001b[31m11.1 MB/s\u001b[0m eta \u001b[36m0:00:00\u001b[0m\n",
            "\u001b[?25hInstalling collected packages: lit, nvidia-nvtx-cu11, nvidia-nccl-cu11, nvidia-cusparse-cu11, nvidia-curand-cu11, nvidia-cufft-cu11, nvidia-cuda-runtime-cu11, nvidia-cuda-nvrtc-cu11, nvidia-cuda-cupti-cu11, nvidia-cublas-cu11, numpy, nvidia-cusolver-cu11, nvidia-cudnn-cu11, triton, torch, torchvision\n",
            "  Attempting uninstall: triton\n",
            "    Found existing installation: triton 3.2.0\n",
            "    Uninstalling triton-3.2.0:\n",
            "      Successfully uninstalled triton-3.2.0\n",
            "  Attempting uninstall: torch\n",
            "    Found existing installation: torch 2.6.0+cu124\n",
            "    Uninstalling torch-2.6.0+cu124:\n",
            "      Successfully uninstalled torch-2.6.0+cu124\n",
            "  Attempting uninstall: torchvision\n",
            "    Found existing installation: torchvision 0.21.0+cu124\n",
            "    Uninstalling torchvision-0.21.0+cu124:\n",
            "      Successfully uninstalled torchvision-0.21.0+cu124\n",
            "\u001b[31mERROR: pip's dependency resolver does not currently take into account all the packages that are installed. This behaviour is the source of the following dependency conflicts.\n",
            "sklearn-pandas 2.2.0 requires pandas>=1.1.4, which is not installed.\n",
            "geemap 0.35.3 requires pandas, which is not installed.\n",
            "seaborn 0.13.2 requires pandas>=1.2, which is not installed.\n",
            "bqplot 0.12.44 requires pandas<3.0.0,>=1.0.0, which is not installed.\n",
            "cudf-cu12 25.2.1 requires pandas<2.2.4dev0,>=2.0, which is not installed.\n",
            "datasets 2.14.4 requires pandas, which is not installed.\n",
            "yfinance 0.2.61 requires pandas>=1.3.0, which is not installed.\n",
            "tsfresh 0.21.0 requires pandas>=0.25.0, which is not installed.\n",
            "libpysal 4.13.0 requires pandas>=1.4, which is not installed.\n",
            "shap 0.47.2 requires pandas, which is not installed.\n",
            "tensorflow-decision-forests 1.11.0 requires pandas, which is not installed.\n",
            "cmdstanpy 1.2.5 requires pandas, which is not installed.\n",
            "pymc 5.22.0 requires pandas>=0.24.0, which is not installed.\n",
            "fastai 2.7.19 requires pandas, which is not installed.\n",
            "bokeh 3.7.3 requires pandas>=1.2, which is not installed.\n",
            "arviz 0.21.0 requires pandas>=1.5.0, which is not installed.\n",
            "mizani 0.13.5 requires pandas>=2.2.0, which is not installed.\n",
            "dopamine-rl 4.1.2 requires pandas>=0.24.2, which is not installed.\n",
            "db-dtypes 1.4.3 requires pandas>=1.5.3, which is not installed.\n",
            "bigquery-magics 0.9.0 requires pandas>=1.1.0, which is not installed.\n",
            "dask-cuda 25.2.0 requires pandas>=1.3, which is not installed.\n",
            "cufflinks 0.17.3 requires pandas>=0.19.2, which is not installed.\n",
            "plotnine 0.14.5 requires pandas>=2.2.0, which is not installed.\n",
            "holoviews 1.20.2 requires pandas>=1.3, which is not installed.\n",
            "dask-cudf-cu12 25.2.2 requires pandas<2.2.4dev0,>=2.0, which is not installed.\n",
            "bigframes 2.4.0 requires pandas>=1.5.3, which is not installed.\n",
            "xarray 2025.3.1 requires pandas>=2.1, which is not installed.\n",
            "datascience 0.17.6 requires pandas, which is not installed.\n",
            "panel 1.6.3 requires pandas>=1.2, which is not installed.\n",
            "geopandas 1.0.1 requires pandas>=1.4.0, which is not installed.\n",
            "pandas-gbq 0.28.1 requires pandas>=1.1.4, which is not installed.\n",
            "statsmodels 0.14.4 requires pandas!=2.1.0,>=1.4, which is not installed.\n",
            "mlxtend 0.23.4 requires pandas>=0.24.2, which is not installed.\n",
            "prophet 1.1.6 requires pandas>=1.0.4, which is not installed.\n",
            "numba 0.60.0 requires numpy<2.1,>=1.22, but you have numpy 2.2.5 which is incompatible.\n",
            "tensorflow 2.18.0 requires numpy<2.1.0,>=1.26.0, but you have numpy 2.2.5 which is incompatible.\n",
            "torchaudio 2.6.0+cu124 requires torch==2.6.0, but you have torch 2.0.1 which is incompatible.\u001b[0m\u001b[31m\n",
            "\u001b[0mSuccessfully installed lit-18.1.8 numpy-2.2.5 nvidia-cublas-cu11-11.10.3.66 nvidia-cuda-cupti-cu11-11.7.101 nvidia-cuda-nvrtc-cu11-11.7.99 nvidia-cuda-runtime-cu11-11.7.99 nvidia-cudnn-cu11-8.5.0.96 nvidia-cufft-cu11-10.9.0.58 nvidia-curand-cu11-10.2.10.91 nvidia-cusolver-cu11-11.4.0.1 nvidia-cusparse-cu11-11.7.4.91 nvidia-nccl-cu11-2.14.3 nvidia-nvtx-cu11-11.7.91 torch-2.0.1 torchvision-0.15.2 triton-2.0.0\n",
            "Collecting matplotlib==3.5.3\n",
            "  Downloading matplotlib-3.5.3.tar.gz (35.2 MB)\n",
            "\u001b[2K     \u001b[90m━━━━━━━━━━━━━━━━━━━━━━━━━━━━━━━━━━━━━━━━\u001b[0m \u001b[32m35.2/35.2 MB\u001b[0m \u001b[31m70.7 MB/s\u001b[0m eta \u001b[36m0:00:00\u001b[0m\n",
            "\u001b[?25h  Preparing metadata (setup.py) ... \u001b[?25l\u001b[?25hdone\n",
            "Requirement already satisfied: cycler>=0.10 in /usr/local/lib/python3.11/dist-packages (from matplotlib==3.5.3) (0.12.1)\n",
            "Requirement already satisfied: fonttools>=4.22.0 in /usr/local/lib/python3.11/dist-packages (from matplotlib==3.5.3) (4.58.0)\n",
            "Requirement already satisfied: kiwisolver>=1.0.1 in /usr/local/lib/python3.11/dist-packages (from matplotlib==3.5.3) (1.4.8)\n",
            "Requirement already satisfied: numpy>=1.17 in /usr/local/lib/python3.11/dist-packages (from matplotlib==3.5.3) (2.2.5)\n",
            "Requirement already satisfied: packaging>=20.0 in /usr/local/lib/python3.11/dist-packages (from matplotlib==3.5.3) (24.2)\n",
            "Requirement already satisfied: pillow>=6.2.0 in /usr/local/lib/python3.11/dist-packages (from matplotlib==3.5.3) (11.2.1)\n",
            "Requirement already satisfied: pyparsing>=2.2.1 in /usr/local/lib/python3.11/dist-packages (from matplotlib==3.5.3) (3.2.3)\n",
            "Requirement already satisfied: python-dateutil>=2.7 in /usr/local/lib/python3.11/dist-packages (from matplotlib==3.5.3) (2.9.0.post0)\n",
            "Requirement already satisfied: six>=1.5 in /usr/local/lib/python3.11/dist-packages (from python-dateutil>=2.7->matplotlib==3.5.3) (1.17.0)\n",
            "Building wheels for collected packages: matplotlib\n",
            "  Building wheel for matplotlib (setup.py) ... \u001b[?25l\u001b[?25hdone\n",
            "  Created wheel for matplotlib: filename=matplotlib-3.5.3-cp311-cp311-linux_x86_64.whl size=11117193 sha256=eb2b53b1dc6c0a52aff39d31ce4ce5cd4a69ed8dcca85d9b7aa48cea23d9dd25\n",
            "  Stored in directory: /root/.cache/pip/wheels/5d/3b/87/b850f835f7a97bd28b0fb81fd73bdb17755122ea5ad71484f9\n",
            "Successfully built matplotlib\n",
            "Installing collected packages: matplotlib\n",
            "  Attempting uninstall: matplotlib\n",
            "    Found existing installation: matplotlib 3.10.0\n",
            "    Uninstalling matplotlib-3.10.0:\n",
            "      Successfully uninstalled matplotlib-3.10.0\n",
            "\u001b[31mERROR: pip's dependency resolver does not currently take into account all the packages that are installed. This behaviour is the source of the following dependency conflicts.\n",
            "geemap 0.35.3 requires pandas, which is not installed.\n",
            "seaborn 0.13.2 requires pandas>=1.2, which is not installed.\n",
            "fastai 2.7.19 requires pandas, which is not installed.\n",
            "arviz 0.21.0 requires pandas>=1.5.0, which is not installed.\n",
            "plotnine 0.14.5 requires pandas>=2.2.0, which is not installed.\n",
            "bigframes 2.4.0 requires pandas>=1.5.3, which is not installed.\n",
            "datascience 0.17.6 requires pandas, which is not installed.\n",
            "mlxtend 0.23.4 requires pandas>=0.24.2, which is not installed.\n",
            "prophet 1.1.6 requires pandas>=1.0.4, which is not installed.\n",
            "plotnine 0.14.5 requires matplotlib>=3.8.0, but you have matplotlib 3.5.3 which is incompatible.\n",
            "bigframes 2.4.0 requires matplotlib>=3.7.1, but you have matplotlib 3.5.3 which is incompatible.\u001b[0m\u001b[31m\n",
            "\u001b[0mSuccessfully installed matplotlib-3.5.3\n"
          ]
        },
        {
          "output_type": "display_data",
          "data": {
            "application/vnd.colab-display-data+json": {
              "pip_warning": {
                "packages": [
                  "matplotlib",
                  "mpl_toolkits"
                ]
              },
              "id": "7fc7a02dc2884276836f2452d0a8d345"
            }
          },
          "metadata": {}
        },
        {
          "output_type": "stream",
          "name": "stdout",
          "text": [
            "Collecting numpy==1.24.3\n",
            "  Downloading numpy-1.24.3-cp311-cp311-manylinux_2_17_x86_64.manylinux2014_x86_64.whl.metadata (5.6 kB)\n",
            "Collecting pandas==1.5.3\n",
            "  Downloading pandas-1.5.3-cp311-cp311-manylinux_2_17_x86_64.manylinux2014_x86_64.whl.metadata (11 kB)\n",
            "Requirement already satisfied: python-dateutil>=2.8.1 in /usr/local/lib/python3.11/dist-packages (from pandas==1.5.3) (2.9.0.post0)\n",
            "Requirement already satisfied: pytz>=2020.1 in /usr/local/lib/python3.11/dist-packages (from pandas==1.5.3) (2025.2)\n",
            "Requirement already satisfied: six>=1.5 in /usr/local/lib/python3.11/dist-packages (from python-dateutil>=2.8.1->pandas==1.5.3) (1.17.0)\n",
            "Downloading numpy-1.24.3-cp311-cp311-manylinux_2_17_x86_64.manylinux2014_x86_64.whl (17.3 MB)\n",
            "\u001b[2K   \u001b[90m━━━━━━━━━━━━━━━━━━━━━━━━━━━━━━━━━━━━━━━━\u001b[0m \u001b[32m17.3/17.3 MB\u001b[0m \u001b[31m120.4 MB/s\u001b[0m eta \u001b[36m0:00:00\u001b[0m\n",
            "\u001b[?25hDownloading pandas-1.5.3-cp311-cp311-manylinux_2_17_x86_64.manylinux2014_x86_64.whl (12.0 MB)\n",
            "\u001b[2K   \u001b[90m━━━━━━━━━━━━━━━━━━━━━━━━━━━━━━━━━━━━━━━━\u001b[0m \u001b[32m12.0/12.0 MB\u001b[0m \u001b[31m134.0 MB/s\u001b[0m eta \u001b[36m0:00:00\u001b[0m\n",
            "\u001b[?25hInstalling collected packages: numpy, pandas\n",
            "  Attempting uninstall: numpy\n",
            "    Found existing installation: numpy 2.2.5\n",
            "    Uninstalling numpy-2.2.5:\n",
            "      Successfully uninstalled numpy-2.2.5\n",
            "\u001b[31mERROR: pip's dependency resolver does not currently take into account all the packages that are installed. This behaviour is the source of the following dependency conflicts.\n",
            "google-colab 1.0.0 requires pandas==2.2.2, but you have pandas 1.5.3 which is incompatible.\n",
            "jax 0.5.2 requires numpy>=1.25, but you have numpy 1.24.3 which is incompatible.\n",
            "cudf-cu12 25.2.1 requires pandas<2.2.4dev0,>=2.0, but you have pandas 1.5.3 which is incompatible.\n",
            "thinc 8.3.6 requires numpy<3.0.0,>=2.0.0, but you have numpy 1.24.3 which is incompatible.\n",
            "treescope 0.1.9 requires numpy>=1.25.2, but you have numpy 1.24.3 which is incompatible.\n",
            "pymc 5.22.0 requires numpy>=1.25.0, but you have numpy 1.24.3 which is incompatible.\n",
            "dask-expr 1.1.21 requires pandas>=2, but you have pandas 1.5.3 which is incompatible.\n",
            "mizani 0.13.5 requires pandas>=2.2.0, but you have pandas 1.5.3 which is incompatible.\n",
            "albumentations 2.0.6 requires numpy>=1.24.4, but you have numpy 1.24.3 which is incompatible.\n",
            "plotnine 0.14.5 requires matplotlib>=3.8.0, but you have matplotlib 3.5.3 which is incompatible.\n",
            "plotnine 0.14.5 requires pandas>=2.2.0, but you have pandas 1.5.3 which is incompatible.\n",
            "blosc2 3.3.2 requires numpy>=1.26, but you have numpy 1.24.3 which is incompatible.\n",
            "dask-cudf-cu12 25.2.2 requires pandas<2.2.4dev0,>=2.0, but you have pandas 1.5.3 which is incompatible.\n",
            "bigframes 2.4.0 requires matplotlib>=3.7.1, but you have matplotlib 3.5.3 which is incompatible.\n",
            "albucore 0.0.24 requires numpy>=1.24.4, but you have numpy 1.24.3 which is incompatible.\n",
            "jaxlib 0.5.1 requires numpy>=1.25, but you have numpy 1.24.3 which is incompatible.\n",
            "xarray 2025.3.1 requires pandas>=2.1, but you have pandas 1.5.3 which is incompatible.\n",
            "tensorflow 2.18.0 requires numpy<2.1.0,>=1.26.0, but you have numpy 1.24.3 which is incompatible.\u001b[0m\u001b[31m\n",
            "\u001b[0mSuccessfully installed numpy-1.24.3 pandas-1.5.3\n"
          ]
        },
        {
          "output_type": "display_data",
          "data": {
            "application/vnd.colab-display-data+json": {
              "pip_warning": {
                "packages": [
                  "numpy"
                ]
              },
              "id": "e404a77ef8ea4ba1aec09e38e92b19d7"
            }
          },
          "metadata": {}
        },
        {
          "output_type": "stream",
          "name": "stdout",
          "text": [
            "Collecting opencv-python-headless==4.7.0.72\n",
            "  Downloading opencv_python_headless-4.7.0.72-cp37-abi3-manylinux_2_17_x86_64.manylinux2014_x86_64.whl.metadata (18 kB)\n",
            "Requirement already satisfied: numpy>=1.21.2 in /usr/local/lib/python3.11/dist-packages (from opencv-python-headless==4.7.0.72) (1.24.3)\n",
            "Downloading opencv_python_headless-4.7.0.72-cp37-abi3-manylinux_2_17_x86_64.manylinux2014_x86_64.whl (49.2 MB)\n",
            "\u001b[2K   \u001b[90m━━━━━━━━━━━━━━━━━━━━━━━━━━━━━━━━━━━━━━━━\u001b[0m \u001b[32m49.2/49.2 MB\u001b[0m \u001b[31m50.2 MB/s\u001b[0m eta \u001b[36m0:00:00\u001b[0m\n",
            "\u001b[?25hInstalling collected packages: opencv-python-headless\n",
            "  Attempting uninstall: opencv-python-headless\n",
            "    Found existing installation: opencv-python-headless 4.11.0.86\n",
            "    Uninstalling opencv-python-headless-4.11.0.86:\n",
            "      Successfully uninstalled opencv-python-headless-4.11.0.86\n",
            "\u001b[31mERROR: pip's dependency resolver does not currently take into account all the packages that are installed. This behaviour is the source of the following dependency conflicts.\n",
            "albumentations 2.0.6 requires numpy>=1.24.4, but you have numpy 1.24.3 which is incompatible.\n",
            "albumentations 2.0.6 requires opencv-python-headless>=4.9.0.80, but you have opencv-python-headless 4.7.0.72 which is incompatible.\n",
            "albucore 0.0.24 requires numpy>=1.24.4, but you have numpy 1.24.3 which is incompatible.\n",
            "albucore 0.0.24 requires opencv-python-headless>=4.9.0.80, but you have opencv-python-headless 4.7.0.72 which is incompatible.\u001b[0m\u001b[31m\n",
            "\u001b[0mSuccessfully installed opencv-python-headless-4.7.0.72\n",
            "Collecting Pillow==9.5.0\n",
            "  Downloading Pillow-9.5.0-cp311-cp311-manylinux_2_28_x86_64.whl.metadata (9.5 kB)\n",
            "Downloading Pillow-9.5.0-cp311-cp311-manylinux_2_28_x86_64.whl (3.4 MB)\n",
            "\u001b[2K   \u001b[90m━━━━━━━━━━━━━━━━━━━━━━━━━━━━━━━━━━━━━━━━\u001b[0m \u001b[32m3.4/3.4 MB\u001b[0m \u001b[31m32.7 MB/s\u001b[0m eta \u001b[36m0:00:00\u001b[0m\n",
            "\u001b[?25hInstalling collected packages: Pillow\n",
            "  Attempting uninstall: Pillow\n",
            "    Found existing installation: pillow 11.2.1\n",
            "    Uninstalling pillow-11.2.1:\n",
            "      Successfully uninstalled pillow-11.2.1\n",
            "\u001b[31mERROR: pip's dependency resolver does not currently take into account all the packages that are installed. This behaviour is the source of the following dependency conflicts.\n",
            "plotnine 0.14.5 requires matplotlib>=3.8.0, but you have matplotlib 3.5.3 which is incompatible.\n",
            "plotnine 0.14.5 requires pandas>=2.2.0, but you have pandas 1.5.3 which is incompatible.\n",
            "scikit-image 0.25.2 requires pillow>=10.1, but you have pillow 9.5.0 which is incompatible.\n",
            "bigframes 2.4.0 requires matplotlib>=3.7.1, but you have matplotlib 3.5.3 which is incompatible.\u001b[0m\u001b[31m\n",
            "\u001b[0mSuccessfully installed Pillow-9.5.0\n"
          ]
        },
        {
          "output_type": "display_data",
          "data": {
            "application/vnd.colab-display-data+json": {
              "pip_warning": {
                "packages": [
                  "PIL"
                ]
              },
              "id": "a36abd9a01f64a6fb723ec905223c3b5"
            }
          },
          "metadata": {}
        },
        {
          "output_type": "stream",
          "name": "stdout",
          "text": [
            "Collecting scikit-image==0.19.3\n",
            "  Downloading scikit-image-0.19.3.tar.gz (22.2 MB)\n",
            "\u001b[2K     \u001b[90m━━━━━━━━━━━━━━━━━━━━━━━━━━━━━━━━━━━━━━━\u001b[0m \u001b[32m22.2/22.2 MB\u001b[0m \u001b[31m105.0 MB/s\u001b[0m eta \u001b[36m0:00:00\u001b[0m\n",
            "\u001b[?25h^C\n",
            "^C\n",
            "^C\n",
            "^C\n"
          ]
        }
      ]
    },
    {
      "cell_type": "code",
      "source": [
        "!pip install kornia\n",
        "!pip install adeval"
      ],
      "metadata": {
        "colab": {
          "base_uri": "https://localhost:8080/"
        },
        "id": "BUog0btafaIs",
        "outputId": "df3a131b-5e43-473d-ee33-d10f8daf6b3e"
      },
      "execution_count": 1,
      "outputs": [
        {
          "output_type": "stream",
          "name": "stdout",
          "text": [
            "Collecting kornia\n",
            "  Downloading kornia-0.8.1-py2.py3-none-any.whl.metadata (17 kB)\n",
            "Collecting kornia_rs>=0.1.9 (from kornia)\n",
            "  Downloading kornia_rs-0.1.9-cp311-cp311-manylinux_2_17_x86_64.manylinux2014_x86_64.whl.metadata (11 kB)\n",
            "Requirement already satisfied: packaging in /usr/local/lib/python3.11/dist-packages (from kornia) (24.2)\n",
            "Requirement already satisfied: torch>=1.9.1 in /usr/local/lib/python3.11/dist-packages (from kornia) (2.0.1)\n",
            "Requirement already satisfied: filelock in /usr/local/lib/python3.11/dist-packages (from torch>=1.9.1->kornia) (3.18.0)\n",
            "Requirement already satisfied: typing-extensions in /usr/local/lib/python3.11/dist-packages (from torch>=1.9.1->kornia) (4.13.2)\n",
            "Requirement already satisfied: sympy in /usr/local/lib/python3.11/dist-packages (from torch>=1.9.1->kornia) (1.13.1)\n",
            "Requirement already satisfied: networkx in /usr/local/lib/python3.11/dist-packages (from torch>=1.9.1->kornia) (3.4.2)\n",
            "Requirement already satisfied: jinja2 in /usr/local/lib/python3.11/dist-packages (from torch>=1.9.1->kornia) (3.1.6)\n",
            "Requirement already satisfied: nvidia-cuda-nvrtc-cu11==11.7.99 in /usr/local/lib/python3.11/dist-packages (from torch>=1.9.1->kornia) (11.7.99)\n",
            "Requirement already satisfied: nvidia-cuda-runtime-cu11==11.7.99 in /usr/local/lib/python3.11/dist-packages (from torch>=1.9.1->kornia) (11.7.99)\n",
            "Requirement already satisfied: nvidia-cuda-cupti-cu11==11.7.101 in /usr/local/lib/python3.11/dist-packages (from torch>=1.9.1->kornia) (11.7.101)\n",
            "Requirement already satisfied: nvidia-cudnn-cu11==8.5.0.96 in /usr/local/lib/python3.11/dist-packages (from torch>=1.9.1->kornia) (8.5.0.96)\n",
            "Requirement already satisfied: nvidia-cublas-cu11==11.10.3.66 in /usr/local/lib/python3.11/dist-packages (from torch>=1.9.1->kornia) (11.10.3.66)\n",
            "Requirement already satisfied: nvidia-cufft-cu11==10.9.0.58 in /usr/local/lib/python3.11/dist-packages (from torch>=1.9.1->kornia) (10.9.0.58)\n",
            "Requirement already satisfied: nvidia-curand-cu11==10.2.10.91 in /usr/local/lib/python3.11/dist-packages (from torch>=1.9.1->kornia) (10.2.10.91)\n",
            "Requirement already satisfied: nvidia-cusolver-cu11==11.4.0.1 in /usr/local/lib/python3.11/dist-packages (from torch>=1.9.1->kornia) (11.4.0.1)\n",
            "Requirement already satisfied: nvidia-cusparse-cu11==11.7.4.91 in /usr/local/lib/python3.11/dist-packages (from torch>=1.9.1->kornia) (11.7.4.91)\n",
            "Requirement already satisfied: nvidia-nccl-cu11==2.14.3 in /usr/local/lib/python3.11/dist-packages (from torch>=1.9.1->kornia) (2.14.3)\n",
            "Requirement already satisfied: nvidia-nvtx-cu11==11.7.91 in /usr/local/lib/python3.11/dist-packages (from torch>=1.9.1->kornia) (11.7.91)\n",
            "Requirement already satisfied: triton==2.0.0 in /usr/local/lib/python3.11/dist-packages (from torch>=1.9.1->kornia) (2.0.0)\n",
            "Requirement already satisfied: setuptools in /usr/local/lib/python3.11/dist-packages (from nvidia-cublas-cu11==11.10.3.66->torch>=1.9.1->kornia) (75.2.0)\n",
            "Requirement already satisfied: wheel in /usr/local/lib/python3.11/dist-packages (from nvidia-cublas-cu11==11.10.3.66->torch>=1.9.1->kornia) (0.45.1)\n",
            "Requirement already satisfied: cmake in /usr/local/lib/python3.11/dist-packages (from triton==2.0.0->torch>=1.9.1->kornia) (3.31.6)\n",
            "Requirement already satisfied: lit in /usr/local/lib/python3.11/dist-packages (from triton==2.0.0->torch>=1.9.1->kornia) (18.1.8)\n",
            "Requirement already satisfied: MarkupSafe>=2.0 in /usr/local/lib/python3.11/dist-packages (from jinja2->torch>=1.9.1->kornia) (3.0.2)\n",
            "Requirement already satisfied: mpmath<1.4,>=1.1.0 in /usr/local/lib/python3.11/dist-packages (from sympy->torch>=1.9.1->kornia) (1.3.0)\n",
            "Downloading kornia-0.8.1-py2.py3-none-any.whl (1.1 MB)\n",
            "\u001b[2K   \u001b[90m━━━━━━━━━━━━━━━━━━━━━━━━━━━━━━━━━━━━━━━━\u001b[0m \u001b[32m1.1/1.1 MB\u001b[0m \u001b[31m16.7 MB/s\u001b[0m eta \u001b[36m0:00:00\u001b[0m\n",
            "\u001b[?25hDownloading kornia_rs-0.1.9-cp311-cp311-manylinux_2_17_x86_64.manylinux2014_x86_64.whl (2.8 MB)\n",
            "\u001b[2K   \u001b[90m━━━━━━━━━━━━━━━━━━━━━━━━━━━━━━━━━━━━━━━━\u001b[0m \u001b[32m2.8/2.8 MB\u001b[0m \u001b[31m89.6 MB/s\u001b[0m eta \u001b[36m0:00:00\u001b[0m\n",
            "\u001b[?25hInstalling collected packages: kornia_rs, kornia\n",
            "Successfully installed kornia-0.8.1 kornia_rs-0.1.9\n",
            "Collecting adeval\n",
            "  Downloading ADEval-1.1.0-py3-none-any.whl.metadata (8.7 kB)\n",
            "Requirement already satisfied: torch>=1.8.0 in /usr/local/lib/python3.11/dist-packages (from adeval) (2.0.1)\n",
            "Requirement already satisfied: numpy>=1.19 in /usr/local/lib/python3.11/dist-packages (from adeval) (1.24.3)\n",
            "Requirement already satisfied: opencv-python>=3.4 in /usr/local/lib/python3.11/dist-packages (from adeval) (4.11.0.86)\n",
            "Requirement already satisfied: Pillow>=4.0 in /usr/local/lib/python3.11/dist-packages (from adeval) (9.5.0)\n",
            "Requirement already satisfied: filelock in /usr/local/lib/python3.11/dist-packages (from torch>=1.8.0->adeval) (3.18.0)\n",
            "Requirement already satisfied: typing-extensions in /usr/local/lib/python3.11/dist-packages (from torch>=1.8.0->adeval) (4.13.2)\n",
            "Requirement already satisfied: sympy in /usr/local/lib/python3.11/dist-packages (from torch>=1.8.0->adeval) (1.13.1)\n",
            "Requirement already satisfied: networkx in /usr/local/lib/python3.11/dist-packages (from torch>=1.8.0->adeval) (3.4.2)\n",
            "Requirement already satisfied: jinja2 in /usr/local/lib/python3.11/dist-packages (from torch>=1.8.0->adeval) (3.1.6)\n",
            "Requirement already satisfied: nvidia-cuda-nvrtc-cu11==11.7.99 in /usr/local/lib/python3.11/dist-packages (from torch>=1.8.0->adeval) (11.7.99)\n",
            "Requirement already satisfied: nvidia-cuda-runtime-cu11==11.7.99 in /usr/local/lib/python3.11/dist-packages (from torch>=1.8.0->adeval) (11.7.99)\n",
            "Requirement already satisfied: nvidia-cuda-cupti-cu11==11.7.101 in /usr/local/lib/python3.11/dist-packages (from torch>=1.8.0->adeval) (11.7.101)\n",
            "Requirement already satisfied: nvidia-cudnn-cu11==8.5.0.96 in /usr/local/lib/python3.11/dist-packages (from torch>=1.8.0->adeval) (8.5.0.96)\n",
            "Requirement already satisfied: nvidia-cublas-cu11==11.10.3.66 in /usr/local/lib/python3.11/dist-packages (from torch>=1.8.0->adeval) (11.10.3.66)\n",
            "Requirement already satisfied: nvidia-cufft-cu11==10.9.0.58 in /usr/local/lib/python3.11/dist-packages (from torch>=1.8.0->adeval) (10.9.0.58)\n",
            "Requirement already satisfied: nvidia-curand-cu11==10.2.10.91 in /usr/local/lib/python3.11/dist-packages (from torch>=1.8.0->adeval) (10.2.10.91)\n",
            "Requirement already satisfied: nvidia-cusolver-cu11==11.4.0.1 in /usr/local/lib/python3.11/dist-packages (from torch>=1.8.0->adeval) (11.4.0.1)\n",
            "Requirement already satisfied: nvidia-cusparse-cu11==11.7.4.91 in /usr/local/lib/python3.11/dist-packages (from torch>=1.8.0->adeval) (11.7.4.91)\n",
            "Requirement already satisfied: nvidia-nccl-cu11==2.14.3 in /usr/local/lib/python3.11/dist-packages (from torch>=1.8.0->adeval) (2.14.3)\n",
            "Requirement already satisfied: nvidia-nvtx-cu11==11.7.91 in /usr/local/lib/python3.11/dist-packages (from torch>=1.8.0->adeval) (11.7.91)\n",
            "Requirement already satisfied: triton==2.0.0 in /usr/local/lib/python3.11/dist-packages (from torch>=1.8.0->adeval) (2.0.0)\n",
            "Requirement already satisfied: setuptools in /usr/local/lib/python3.11/dist-packages (from nvidia-cublas-cu11==11.10.3.66->torch>=1.8.0->adeval) (75.2.0)\n",
            "Requirement already satisfied: wheel in /usr/local/lib/python3.11/dist-packages (from nvidia-cublas-cu11==11.10.3.66->torch>=1.8.0->adeval) (0.45.1)\n",
            "Requirement already satisfied: cmake in /usr/local/lib/python3.11/dist-packages (from triton==2.0.0->torch>=1.8.0->adeval) (3.31.6)\n",
            "Requirement already satisfied: lit in /usr/local/lib/python3.11/dist-packages (from triton==2.0.0->torch>=1.8.0->adeval) (18.1.8)\n",
            "Requirement already satisfied: MarkupSafe>=2.0 in /usr/local/lib/python3.11/dist-packages (from jinja2->torch>=1.8.0->adeval) (3.0.2)\n",
            "Requirement already satisfied: mpmath<1.4,>=1.1.0 in /usr/local/lib/python3.11/dist-packages (from sympy->torch>=1.8.0->adeval) (1.3.0)\n",
            "Downloading ADEval-1.1.0-py3-none-any.whl (26 kB)\n",
            "Installing collected packages: adeval\n",
            "Successfully installed adeval-1.1.0\n"
          ]
        }
      ]
    },
    {
      "cell_type": "code",
      "source": [
        "!python /content/INP-Former/INP_Former_Single_Class.py \\\n",
        "  --dataset MVTec-AD \\\n",
        "  --data_path /content/drive/MyDrive/wood_dataset \\\n",
        "  --item wood \\\n",
        "  --batch_size 8\\\n",
        "  --total_epochs 100 \\\n",
        "  --phase train \\\n",
        "  --save_dir /content/inp_result \\\n",
        "  --encoder dinov2reg_vit_large_14 \\\n",
        "  --input_size 252 \\\n",
        "  --crop_size 252 \\\n",
        "  --INP_num 6\n"
      ],
      "metadata": {
        "id": "PF3HqqOr4cPB",
        "colab": {
          "base_uri": "https://localhost:8080/"
        },
        "outputId": "fc52513c-a4a9-4e6e-a1f6-45a1e3d1738f"
      },
      "execution_count": 3,
      "outputs": [
        {
          "output_type": "stream",
          "name": "stdout",
          "text": [
            "/usr/local/lib/python3.11/dist-packages/timm/models/layers/__init__.py:48: FutureWarning: Importing from timm.models.layers is deprecated, please import via timm.layers\n",
            "  warnings.warn(f\"Importing from {__name__} is deprecated, please import via timm.layers\", FutureWarning)\n",
            "100% 1.13G/1.13G [00:04<00:00, 298MB/s]\n",
            "train image number: 70\n",
            "INFO:INP-Former-Single-Class_dataset=MVTec-AD_Encoder=dinov2reg_vit_large_14_Resize=252_Crop=252_INP_num=6:train image number: 70\n",
            "100%|█████████████████████████████████████████████| 8/8 [00:09<00:00,  1.22s/it]\n",
            "epoch [1/100], loss: 0.9075\n",
            "INFO:INP-Former-Single-Class_dataset=MVTec-AD_Encoder=dinov2reg_vit_large_14_Resize=252_Crop=252_INP_num=6:epoch [1/100], loss: 0.9075\n",
            "Validation loss: 0.5541\n",
            "INFO:INP-Former-Single-Class_dataset=MVTec-AD_Encoder=dinov2reg_vit_large_14_Resize=252_Crop=252_INP_num=6:Validation loss: 0.5541\n",
            "100%|█████████████████████████████████████████████| 8/8 [00:03<00:00,  2.10it/s]\n",
            "epoch [2/100], loss: 0.5695\n",
            "INFO:INP-Former-Single-Class_dataset=MVTec-AD_Encoder=dinov2reg_vit_large_14_Resize=252_Crop=252_INP_num=6:epoch [2/100], loss: 0.5695\n",
            "Validation loss: 0.4871\n",
            "INFO:INP-Former-Single-Class_dataset=MVTec-AD_Encoder=dinov2reg_vit_large_14_Resize=252_Crop=252_INP_num=6:Validation loss: 0.4871\n",
            "100%|█████████████████████████████████████████████| 8/8 [00:03<00:00,  2.11it/s]\n",
            "epoch [3/100], loss: 0.4632\n",
            "INFO:INP-Former-Single-Class_dataset=MVTec-AD_Encoder=dinov2reg_vit_large_14_Resize=252_Crop=252_INP_num=6:epoch [3/100], loss: 0.4632\n",
            "Validation loss: 0.4833\n",
            "INFO:INP-Former-Single-Class_dataset=MVTec-AD_Encoder=dinov2reg_vit_large_14_Resize=252_Crop=252_INP_num=6:Validation loss: 0.4833\n",
            "100%|█████████████████████████████████████████████| 8/8 [00:03<00:00,  2.13it/s]\n",
            "epoch [4/100], loss: 0.4146\n",
            "INFO:INP-Former-Single-Class_dataset=MVTec-AD_Encoder=dinov2reg_vit_large_14_Resize=252_Crop=252_INP_num=6:epoch [4/100], loss: 0.4146\n",
            "Validation loss: 0.4244\n",
            "INFO:INP-Former-Single-Class_dataset=MVTec-AD_Encoder=dinov2reg_vit_large_14_Resize=252_Crop=252_INP_num=6:Validation loss: 0.4244\n",
            "100%|█████████████████████████████████████████████| 8/8 [00:03<00:00,  2.13it/s]\n",
            "epoch [5/100], loss: 0.3971\n",
            "INFO:INP-Former-Single-Class_dataset=MVTec-AD_Encoder=dinov2reg_vit_large_14_Resize=252_Crop=252_INP_num=6:epoch [5/100], loss: 0.3971\n",
            "Validation loss: 0.3711\n",
            "INFO:INP-Former-Single-Class_dataset=MVTec-AD_Encoder=dinov2reg_vit_large_14_Resize=252_Crop=252_INP_num=6:Validation loss: 0.3711\n",
            "100%|█████████████████████████████████████████████| 8/8 [00:03<00:00,  2.10it/s]\n",
            "epoch [6/100], loss: 0.3973\n",
            "INFO:INP-Former-Single-Class_dataset=MVTec-AD_Encoder=dinov2reg_vit_large_14_Resize=252_Crop=252_INP_num=6:epoch [6/100], loss: 0.3973\n",
            "Validation loss: 0.3339\n",
            "INFO:INP-Former-Single-Class_dataset=MVTec-AD_Encoder=dinov2reg_vit_large_14_Resize=252_Crop=252_INP_num=6:Validation loss: 0.3339\n",
            "100%|█████████████████████████████████████████████| 8/8 [00:03<00:00,  2.13it/s]\n",
            "epoch [7/100], loss: 0.3857\n",
            "INFO:INP-Former-Single-Class_dataset=MVTec-AD_Encoder=dinov2reg_vit_large_14_Resize=252_Crop=252_INP_num=6:epoch [7/100], loss: 0.3857\n",
            "Validation loss: 0.3163\n",
            "INFO:INP-Former-Single-Class_dataset=MVTec-AD_Encoder=dinov2reg_vit_large_14_Resize=252_Crop=252_INP_num=6:Validation loss: 0.3163\n",
            "100%|█████████████████████████████████████████████| 8/8 [00:03<00:00,  2.11it/s]\n",
            "epoch [8/100], loss: 0.3838\n",
            "INFO:INP-Former-Single-Class_dataset=MVTec-AD_Encoder=dinov2reg_vit_large_14_Resize=252_Crop=252_INP_num=6:epoch [8/100], loss: 0.3838\n",
            "Validation loss: 0.3449\n",
            "INFO:INP-Former-Single-Class_dataset=MVTec-AD_Encoder=dinov2reg_vit_large_14_Resize=252_Crop=252_INP_num=6:Validation loss: 0.3449\n",
            "100%|█████████████████████████████████████████████| 8/8 [00:03<00:00,  2.10it/s]\n",
            "epoch [9/100], loss: 0.3938\n",
            "INFO:INP-Former-Single-Class_dataset=MVTec-AD_Encoder=dinov2reg_vit_large_14_Resize=252_Crop=252_INP_num=6:epoch [9/100], loss: 0.3938\n",
            "Validation loss: 0.3090\n",
            "INFO:INP-Former-Single-Class_dataset=MVTec-AD_Encoder=dinov2reg_vit_large_14_Resize=252_Crop=252_INP_num=6:Validation loss: 0.3090\n",
            "100%|█████████████████████████████████████████████| 8/8 [00:03<00:00,  2.12it/s]\n",
            "epoch [10/100], loss: 0.3769\n",
            "INFO:INP-Former-Single-Class_dataset=MVTec-AD_Encoder=dinov2reg_vit_large_14_Resize=252_Crop=252_INP_num=6:epoch [10/100], loss: 0.3769\n",
            "Validation loss: 0.2775\n",
            "INFO:INP-Former-Single-Class_dataset=MVTec-AD_Encoder=dinov2reg_vit_large_14_Resize=252_Crop=252_INP_num=6:Validation loss: 0.2775\n",
            "100%|█████████████████████████████████████████████| 8/8 [00:03<00:00,  2.13it/s]\n",
            "epoch [11/100], loss: 0.3723\n",
            "INFO:INP-Former-Single-Class_dataset=MVTec-AD_Encoder=dinov2reg_vit_large_14_Resize=252_Crop=252_INP_num=6:epoch [11/100], loss: 0.3723\n",
            "Validation loss: 0.2647\n",
            "INFO:INP-Former-Single-Class_dataset=MVTec-AD_Encoder=dinov2reg_vit_large_14_Resize=252_Crop=252_INP_num=6:Validation loss: 0.2647\n",
            "100%|█████████████████████████████████████████████| 8/8 [00:03<00:00,  2.15it/s]\n",
            "epoch [12/100], loss: 0.3688\n",
            "INFO:INP-Former-Single-Class_dataset=MVTec-AD_Encoder=dinov2reg_vit_large_14_Resize=252_Crop=252_INP_num=6:epoch [12/100], loss: 0.3688\n",
            "Validation loss: 0.2768\n",
            "INFO:INP-Former-Single-Class_dataset=MVTec-AD_Encoder=dinov2reg_vit_large_14_Resize=252_Crop=252_INP_num=6:Validation loss: 0.2768\n",
            "100%|█████████████████████████████████████████████| 8/8 [00:03<00:00,  2.10it/s]\n",
            "epoch [13/100], loss: 0.3537\n",
            "INFO:INP-Former-Single-Class_dataset=MVTec-AD_Encoder=dinov2reg_vit_large_14_Resize=252_Crop=252_INP_num=6:epoch [13/100], loss: 0.3537\n",
            "Validation loss: 0.2508\n",
            "INFO:INP-Former-Single-Class_dataset=MVTec-AD_Encoder=dinov2reg_vit_large_14_Resize=252_Crop=252_INP_num=6:Validation loss: 0.2508\n",
            "100%|█████████████████████████████████████████████| 8/8 [00:03<00:00,  2.11it/s]\n",
            "epoch [14/100], loss: 0.3583\n",
            "INFO:INP-Former-Single-Class_dataset=MVTec-AD_Encoder=dinov2reg_vit_large_14_Resize=252_Crop=252_INP_num=6:epoch [14/100], loss: 0.3583\n",
            "Validation loss: 0.2462\n",
            "INFO:INP-Former-Single-Class_dataset=MVTec-AD_Encoder=dinov2reg_vit_large_14_Resize=252_Crop=252_INP_num=6:Validation loss: 0.2462\n",
            "100%|█████████████████████████████████████████████| 8/8 [00:03<00:00,  2.13it/s]\n",
            "epoch [15/100], loss: 0.3525\n",
            "INFO:INP-Former-Single-Class_dataset=MVTec-AD_Encoder=dinov2reg_vit_large_14_Resize=252_Crop=252_INP_num=6:epoch [15/100], loss: 0.3525\n",
            "Validation loss: 0.2366\n",
            "INFO:INP-Former-Single-Class_dataset=MVTec-AD_Encoder=dinov2reg_vit_large_14_Resize=252_Crop=252_INP_num=6:Validation loss: 0.2366\n",
            "100%|█████████████████████████████████████████████| 8/8 [00:03<00:00,  2.10it/s]\n",
            "epoch [16/100], loss: 0.3440\n",
            "INFO:INP-Former-Single-Class_dataset=MVTec-AD_Encoder=dinov2reg_vit_large_14_Resize=252_Crop=252_INP_num=6:epoch [16/100], loss: 0.3440\n",
            "Validation loss: 0.2341\n",
            "INFO:INP-Former-Single-Class_dataset=MVTec-AD_Encoder=dinov2reg_vit_large_14_Resize=252_Crop=252_INP_num=6:Validation loss: 0.2341\n",
            "100%|█████████████████████████████████████████████| 8/8 [00:03<00:00,  2.14it/s]\n",
            "epoch [17/100], loss: 0.3451\n",
            "INFO:INP-Former-Single-Class_dataset=MVTec-AD_Encoder=dinov2reg_vit_large_14_Resize=252_Crop=252_INP_num=6:epoch [17/100], loss: 0.3451\n",
            "Validation loss: 0.2209\n",
            "INFO:INP-Former-Single-Class_dataset=MVTec-AD_Encoder=dinov2reg_vit_large_14_Resize=252_Crop=252_INP_num=6:Validation loss: 0.2209\n",
            "100%|█████████████████████████████████████████████| 8/8 [00:03<00:00,  2.13it/s]\n",
            "epoch [18/100], loss: 0.3357\n",
            "INFO:INP-Former-Single-Class_dataset=MVTec-AD_Encoder=dinov2reg_vit_large_14_Resize=252_Crop=252_INP_num=6:epoch [18/100], loss: 0.3357\n",
            "Validation loss: 0.2040\n",
            "INFO:INP-Former-Single-Class_dataset=MVTec-AD_Encoder=dinov2reg_vit_large_14_Resize=252_Crop=252_INP_num=6:Validation loss: 0.2040\n",
            "100%|█████████████████████████████████████████████| 8/8 [00:03<00:00,  2.11it/s]\n",
            "epoch [19/100], loss: 0.3303\n",
            "INFO:INP-Former-Single-Class_dataset=MVTec-AD_Encoder=dinov2reg_vit_large_14_Resize=252_Crop=252_INP_num=6:epoch [19/100], loss: 0.3303\n",
            "Validation loss: 0.1955\n",
            "INFO:INP-Former-Single-Class_dataset=MVTec-AD_Encoder=dinov2reg_vit_large_14_Resize=252_Crop=252_INP_num=6:Validation loss: 0.1955\n",
            "100%|█████████████████████████████████████████████| 8/8 [00:03<00:00,  2.13it/s]\n",
            "epoch [20/100], loss: 0.3264\n",
            "INFO:INP-Former-Single-Class_dataset=MVTec-AD_Encoder=dinov2reg_vit_large_14_Resize=252_Crop=252_INP_num=6:epoch [20/100], loss: 0.3264\n",
            "Validation loss: 0.1996\n",
            "INFO:INP-Former-Single-Class_dataset=MVTec-AD_Encoder=dinov2reg_vit_large_14_Resize=252_Crop=252_INP_num=6:Validation loss: 0.1996\n",
            "100%|█████████████████████████████████████████████| 8/8 [00:03<00:00,  2.12it/s]\n",
            "epoch [21/100], loss: 0.3242\n",
            "INFO:INP-Former-Single-Class_dataset=MVTec-AD_Encoder=dinov2reg_vit_large_14_Resize=252_Crop=252_INP_num=6:epoch [21/100], loss: 0.3242\n",
            "Validation loss: 0.1923\n",
            "INFO:INP-Former-Single-Class_dataset=MVTec-AD_Encoder=dinov2reg_vit_large_14_Resize=252_Crop=252_INP_num=6:Validation loss: 0.1923\n",
            "100%|█████████████████████████████████████████████| 8/8 [00:03<00:00,  2.14it/s]\n",
            "epoch [22/100], loss: 0.3153\n",
            "INFO:INP-Former-Single-Class_dataset=MVTec-AD_Encoder=dinov2reg_vit_large_14_Resize=252_Crop=252_INP_num=6:epoch [22/100], loss: 0.3153\n",
            "Validation loss: 0.1865\n",
            "INFO:INP-Former-Single-Class_dataset=MVTec-AD_Encoder=dinov2reg_vit_large_14_Resize=252_Crop=252_INP_num=6:Validation loss: 0.1865\n",
            "100%|█████████████████████████████████████████████| 8/8 [00:03<00:00,  2.11it/s]\n",
            "epoch [23/100], loss: 0.3053\n",
            "INFO:INP-Former-Single-Class_dataset=MVTec-AD_Encoder=dinov2reg_vit_large_14_Resize=252_Crop=252_INP_num=6:epoch [23/100], loss: 0.3053\n",
            "Validation loss: 0.1813\n",
            "INFO:INP-Former-Single-Class_dataset=MVTec-AD_Encoder=dinov2reg_vit_large_14_Resize=252_Crop=252_INP_num=6:Validation loss: 0.1813\n",
            "100%|█████████████████████████████████████████████| 8/8 [00:03<00:00,  2.12it/s]\n",
            "epoch [24/100], loss: 0.3104\n",
            "INFO:INP-Former-Single-Class_dataset=MVTec-AD_Encoder=dinov2reg_vit_large_14_Resize=252_Crop=252_INP_num=6:epoch [24/100], loss: 0.3104\n",
            "Validation loss: 0.1836\n",
            "INFO:INP-Former-Single-Class_dataset=MVTec-AD_Encoder=dinov2reg_vit_large_14_Resize=252_Crop=252_INP_num=6:Validation loss: 0.1836\n",
            "100%|█████████████████████████████████████████████| 8/8 [00:03<00:00,  2.13it/s]\n",
            "epoch [25/100], loss: 0.3064\n",
            "INFO:INP-Former-Single-Class_dataset=MVTec-AD_Encoder=dinov2reg_vit_large_14_Resize=252_Crop=252_INP_num=6:epoch [25/100], loss: 0.3064\n",
            "Validation loss: 0.1854\n",
            "INFO:INP-Former-Single-Class_dataset=MVTec-AD_Encoder=dinov2reg_vit_large_14_Resize=252_Crop=252_INP_num=6:Validation loss: 0.1854\n",
            "100%|█████████████████████████████████████████████| 8/8 [00:03<00:00,  2.08it/s]\n",
            "epoch [26/100], loss: 0.3085\n",
            "INFO:INP-Former-Single-Class_dataset=MVTec-AD_Encoder=dinov2reg_vit_large_14_Resize=252_Crop=252_INP_num=6:epoch [26/100], loss: 0.3085\n",
            "Validation loss: 0.1748\n",
            "INFO:INP-Former-Single-Class_dataset=MVTec-AD_Encoder=dinov2reg_vit_large_14_Resize=252_Crop=252_INP_num=6:Validation loss: 0.1748\n",
            "100%|█████████████████████████████████████████████| 8/8 [00:03<00:00,  2.13it/s]\n",
            "epoch [27/100], loss: 0.2985\n",
            "INFO:INP-Former-Single-Class_dataset=MVTec-AD_Encoder=dinov2reg_vit_large_14_Resize=252_Crop=252_INP_num=6:epoch [27/100], loss: 0.2985\n",
            "Validation loss: 0.1757\n",
            "INFO:INP-Former-Single-Class_dataset=MVTec-AD_Encoder=dinov2reg_vit_large_14_Resize=252_Crop=252_INP_num=6:Validation loss: 0.1757\n",
            "100%|█████████████████████████████████████████████| 8/8 [00:03<00:00,  2.13it/s]\n",
            "epoch [28/100], loss: 0.3004\n",
            "INFO:INP-Former-Single-Class_dataset=MVTec-AD_Encoder=dinov2reg_vit_large_14_Resize=252_Crop=252_INP_num=6:epoch [28/100], loss: 0.3004\n",
            "Validation loss: 0.1738\n",
            "INFO:INP-Former-Single-Class_dataset=MVTec-AD_Encoder=dinov2reg_vit_large_14_Resize=252_Crop=252_INP_num=6:Validation loss: 0.1738\n",
            "100%|█████████████████████████████████████████████| 8/8 [00:03<00:00,  2.13it/s]\n",
            "epoch [29/100], loss: 0.2961\n",
            "INFO:INP-Former-Single-Class_dataset=MVTec-AD_Encoder=dinov2reg_vit_large_14_Resize=252_Crop=252_INP_num=6:epoch [29/100], loss: 0.2961\n",
            "Validation loss: 0.1746\n",
            "INFO:INP-Former-Single-Class_dataset=MVTec-AD_Encoder=dinov2reg_vit_large_14_Resize=252_Crop=252_INP_num=6:Validation loss: 0.1746\n",
            "100%|█████████████████████████████████████████████| 8/8 [00:03<00:00,  2.11it/s]\n",
            "epoch [30/100], loss: 0.2969\n",
            "INFO:INP-Former-Single-Class_dataset=MVTec-AD_Encoder=dinov2reg_vit_large_14_Resize=252_Crop=252_INP_num=6:epoch [30/100], loss: 0.2969\n",
            "Validation loss: 0.1731\n",
            "INFO:INP-Former-Single-Class_dataset=MVTec-AD_Encoder=dinov2reg_vit_large_14_Resize=252_Crop=252_INP_num=6:Validation loss: 0.1731\n",
            "100%|█████████████████████████████████████████████| 8/8 [00:03<00:00,  2.14it/s]\n",
            "epoch [31/100], loss: 0.2954\n",
            "INFO:INP-Former-Single-Class_dataset=MVTec-AD_Encoder=dinov2reg_vit_large_14_Resize=252_Crop=252_INP_num=6:epoch [31/100], loss: 0.2954\n",
            "Validation loss: 0.1687\n",
            "INFO:INP-Former-Single-Class_dataset=MVTec-AD_Encoder=dinov2reg_vit_large_14_Resize=252_Crop=252_INP_num=6:Validation loss: 0.1687\n",
            "100%|█████████████████████████████████████████████| 8/8 [00:03<00:00,  2.16it/s]\n",
            "epoch [32/100], loss: 0.2905\n",
            "INFO:INP-Former-Single-Class_dataset=MVTec-AD_Encoder=dinov2reg_vit_large_14_Resize=252_Crop=252_INP_num=6:epoch [32/100], loss: 0.2905\n",
            "Validation loss: 0.1687\n",
            "INFO:INP-Former-Single-Class_dataset=MVTec-AD_Encoder=dinov2reg_vit_large_14_Resize=252_Crop=252_INP_num=6:Validation loss: 0.1687\n",
            "100%|█████████████████████████████████████████████| 8/8 [00:03<00:00,  2.11it/s]\n",
            "epoch [33/100], loss: 0.2855\n",
            "INFO:INP-Former-Single-Class_dataset=MVTec-AD_Encoder=dinov2reg_vit_large_14_Resize=252_Crop=252_INP_num=6:epoch [33/100], loss: 0.2855\n",
            "Validation loss: 0.1686\n",
            "INFO:INP-Former-Single-Class_dataset=MVTec-AD_Encoder=dinov2reg_vit_large_14_Resize=252_Crop=252_INP_num=6:Validation loss: 0.1686\n",
            "100%|█████████████████████████████████████████████| 8/8 [00:03<00:00,  2.13it/s]\n",
            "epoch [34/100], loss: 0.2887\n",
            "INFO:INP-Former-Single-Class_dataset=MVTec-AD_Encoder=dinov2reg_vit_large_14_Resize=252_Crop=252_INP_num=6:epoch [34/100], loss: 0.2887\n",
            "Validation loss: 0.1690\n",
            "INFO:INP-Former-Single-Class_dataset=MVTec-AD_Encoder=dinov2reg_vit_large_14_Resize=252_Crop=252_INP_num=6:Validation loss: 0.1690\n",
            "100%|█████████████████████████████████████████████| 8/8 [00:03<00:00,  2.14it/s]\n",
            "epoch [35/100], loss: 0.2842\n",
            "INFO:INP-Former-Single-Class_dataset=MVTec-AD_Encoder=dinov2reg_vit_large_14_Resize=252_Crop=252_INP_num=6:epoch [35/100], loss: 0.2842\n",
            "Validation loss: 0.1652\n",
            "INFO:INP-Former-Single-Class_dataset=MVTec-AD_Encoder=dinov2reg_vit_large_14_Resize=252_Crop=252_INP_num=6:Validation loss: 0.1652\n",
            "100%|█████████████████████████████████████████████| 8/8 [00:03<00:00,  2.15it/s]\n",
            "epoch [36/100], loss: 0.2778\n",
            "INFO:INP-Former-Single-Class_dataset=MVTec-AD_Encoder=dinov2reg_vit_large_14_Resize=252_Crop=252_INP_num=6:epoch [36/100], loss: 0.2778\n",
            "Validation loss: 0.1645\n",
            "INFO:INP-Former-Single-Class_dataset=MVTec-AD_Encoder=dinov2reg_vit_large_14_Resize=252_Crop=252_INP_num=6:Validation loss: 0.1645\n",
            "100%|█████████████████████████████████████████████| 8/8 [00:03<00:00,  2.11it/s]\n",
            "epoch [37/100], loss: 0.2793\n",
            "INFO:INP-Former-Single-Class_dataset=MVTec-AD_Encoder=dinov2reg_vit_large_14_Resize=252_Crop=252_INP_num=6:epoch [37/100], loss: 0.2793\n",
            "Validation loss: 0.1660\n",
            "INFO:INP-Former-Single-Class_dataset=MVTec-AD_Encoder=dinov2reg_vit_large_14_Resize=252_Crop=252_INP_num=6:Validation loss: 0.1660\n",
            "100%|█████████████████████████████████████████████| 8/8 [00:03<00:00,  2.14it/s]\n",
            "epoch [38/100], loss: 0.2770\n",
            "INFO:INP-Former-Single-Class_dataset=MVTec-AD_Encoder=dinov2reg_vit_large_14_Resize=252_Crop=252_INP_num=6:epoch [38/100], loss: 0.2770\n",
            "Validation loss: 0.1645\n",
            "INFO:INP-Former-Single-Class_dataset=MVTec-AD_Encoder=dinov2reg_vit_large_14_Resize=252_Crop=252_INP_num=6:Validation loss: 0.1645\n",
            "100%|█████████████████████████████████████████████| 8/8 [00:03<00:00,  2.14it/s]\n",
            "epoch [39/100], loss: 0.2731\n",
            "INFO:INP-Former-Single-Class_dataset=MVTec-AD_Encoder=dinov2reg_vit_large_14_Resize=252_Crop=252_INP_num=6:epoch [39/100], loss: 0.2731\n",
            "Validation loss: 0.1624\n",
            "INFO:INP-Former-Single-Class_dataset=MVTec-AD_Encoder=dinov2reg_vit_large_14_Resize=252_Crop=252_INP_num=6:Validation loss: 0.1624\n",
            "100%|█████████████████████████████████████████████| 8/8 [00:03<00:00,  2.09it/s]\n",
            "epoch [40/100], loss: 0.2699\n",
            "INFO:INP-Former-Single-Class_dataset=MVTec-AD_Encoder=dinov2reg_vit_large_14_Resize=252_Crop=252_INP_num=6:epoch [40/100], loss: 0.2699\n",
            "Validation loss: 0.1643\n",
            "INFO:INP-Former-Single-Class_dataset=MVTec-AD_Encoder=dinov2reg_vit_large_14_Resize=252_Crop=252_INP_num=6:Validation loss: 0.1643\n",
            "100%|█████████████████████████████████████████████| 8/8 [00:03<00:00,  2.14it/s]\n",
            "epoch [41/100], loss: 0.2864\n",
            "INFO:INP-Former-Single-Class_dataset=MVTec-AD_Encoder=dinov2reg_vit_large_14_Resize=252_Crop=252_INP_num=6:epoch [41/100], loss: 0.2864\n",
            "Validation loss: 0.1898\n",
            "INFO:INP-Former-Single-Class_dataset=MVTec-AD_Encoder=dinov2reg_vit_large_14_Resize=252_Crop=252_INP_num=6:Validation loss: 0.1898\n",
            "100%|█████████████████████████████████████████████| 8/8 [00:03<00:00,  2.14it/s]\n",
            "epoch [42/100], loss: 0.2850\n",
            "INFO:INP-Former-Single-Class_dataset=MVTec-AD_Encoder=dinov2reg_vit_large_14_Resize=252_Crop=252_INP_num=6:epoch [42/100], loss: 0.2850\n",
            "Validation loss: 0.1796\n",
            "INFO:INP-Former-Single-Class_dataset=MVTec-AD_Encoder=dinov2reg_vit_large_14_Resize=252_Crop=252_INP_num=6:Validation loss: 0.1796\n",
            "100%|█████████████████████████████████████████████| 8/8 [00:03<00:00,  2.15it/s]\n",
            "epoch [43/100], loss: 0.2862\n",
            "INFO:INP-Former-Single-Class_dataset=MVTec-AD_Encoder=dinov2reg_vit_large_14_Resize=252_Crop=252_INP_num=6:epoch [43/100], loss: 0.2862\n",
            "Validation loss: 0.1933\n",
            "INFO:INP-Former-Single-Class_dataset=MVTec-AD_Encoder=dinov2reg_vit_large_14_Resize=252_Crop=252_INP_num=6:Validation loss: 0.1933\n",
            "100%|█████████████████████████████████████████████| 8/8 [00:03<00:00,  2.14it/s]\n",
            "epoch [44/100], loss: 0.2867\n",
            "INFO:INP-Former-Single-Class_dataset=MVTec-AD_Encoder=dinov2reg_vit_large_14_Resize=252_Crop=252_INP_num=6:epoch [44/100], loss: 0.2867\n",
            "Validation loss: 0.1818\n",
            "INFO:INP-Former-Single-Class_dataset=MVTec-AD_Encoder=dinov2reg_vit_large_14_Resize=252_Crop=252_INP_num=6:Validation loss: 0.1818\n",
            "100%|█████████████████████████████████████████████| 8/8 [00:03<00:00,  2.13it/s]\n",
            "epoch [45/100], loss: 0.2868\n",
            "INFO:INP-Former-Single-Class_dataset=MVTec-AD_Encoder=dinov2reg_vit_large_14_Resize=252_Crop=252_INP_num=6:epoch [45/100], loss: 0.2868\n",
            "Validation loss: 0.1907\n",
            "INFO:INP-Former-Single-Class_dataset=MVTec-AD_Encoder=dinov2reg_vit_large_14_Resize=252_Crop=252_INP_num=6:Validation loss: 0.1907\n",
            "100%|█████████████████████████████████████████████| 8/8 [00:03<00:00,  2.13it/s]\n",
            "epoch [46/100], loss: 0.2854\n",
            "INFO:INP-Former-Single-Class_dataset=MVTec-AD_Encoder=dinov2reg_vit_large_14_Resize=252_Crop=252_INP_num=6:epoch [46/100], loss: 0.2854\n",
            "Validation loss: 0.1829\n",
            "INFO:INP-Former-Single-Class_dataset=MVTec-AD_Encoder=dinov2reg_vit_large_14_Resize=252_Crop=252_INP_num=6:Validation loss: 0.1829\n",
            "100%|█████████████████████████████████████████████| 8/8 [00:03<00:00,  2.13it/s]\n",
            "epoch [47/100], loss: 0.2805\n",
            "INFO:INP-Former-Single-Class_dataset=MVTec-AD_Encoder=dinov2reg_vit_large_14_Resize=252_Crop=252_INP_num=6:epoch [47/100], loss: 0.2805\n",
            "Validation loss: 0.1763\n",
            "INFO:INP-Former-Single-Class_dataset=MVTec-AD_Encoder=dinov2reg_vit_large_14_Resize=252_Crop=252_INP_num=6:Validation loss: 0.1763\n",
            "100%|█████████████████████████████████████████████| 8/8 [00:03<00:00,  2.15it/s]\n",
            "epoch [48/100], loss: 0.2749\n",
            "INFO:INP-Former-Single-Class_dataset=MVTec-AD_Encoder=dinov2reg_vit_large_14_Resize=252_Crop=252_INP_num=6:epoch [48/100], loss: 0.2749\n",
            "Validation loss: 0.1713\n",
            "INFO:INP-Former-Single-Class_dataset=MVTec-AD_Encoder=dinov2reg_vit_large_14_Resize=252_Crop=252_INP_num=6:Validation loss: 0.1713\n",
            "100%|█████████████████████████████████████████████| 8/8 [00:03<00:00,  2.16it/s]\n",
            "epoch [49/100], loss: 0.2707\n",
            "INFO:INP-Former-Single-Class_dataset=MVTec-AD_Encoder=dinov2reg_vit_large_14_Resize=252_Crop=252_INP_num=6:epoch [49/100], loss: 0.2707\n",
            "Validation loss: 0.1687\n",
            "INFO:INP-Former-Single-Class_dataset=MVTec-AD_Encoder=dinov2reg_vit_large_14_Resize=252_Crop=252_INP_num=6:Validation loss: 0.1687\n",
            "100%|█████████████████████████████████████████████| 8/8 [00:03<00:00,  2.13it/s]\n",
            "epoch [50/100], loss: 0.2688\n",
            "INFO:INP-Former-Single-Class_dataset=MVTec-AD_Encoder=dinov2reg_vit_large_14_Resize=252_Crop=252_INP_num=6:epoch [50/100], loss: 0.2688\n",
            "Validation loss: 0.1675\n",
            "INFO:INP-Former-Single-Class_dataset=MVTec-AD_Encoder=dinov2reg_vit_large_14_Resize=252_Crop=252_INP_num=6:Validation loss: 0.1675\n",
            "100%|█████████████████████████████████████████████| 8/8 [00:03<00:00,  2.13it/s]\n",
            "epoch [51/100], loss: 0.2660\n",
            "INFO:INP-Former-Single-Class_dataset=MVTec-AD_Encoder=dinov2reg_vit_large_14_Resize=252_Crop=252_INP_num=6:epoch [51/100], loss: 0.2660\n",
            "Validation loss: 0.1664\n",
            "INFO:INP-Former-Single-Class_dataset=MVTec-AD_Encoder=dinov2reg_vit_large_14_Resize=252_Crop=252_INP_num=6:Validation loss: 0.1664\n",
            "100%|█████████████████████████████████████████████| 8/8 [00:03<00:00,  2.14it/s]\n",
            "epoch [52/100], loss: 0.2649\n",
            "INFO:INP-Former-Single-Class_dataset=MVTec-AD_Encoder=dinov2reg_vit_large_14_Resize=252_Crop=252_INP_num=6:epoch [52/100], loss: 0.2649\n",
            "Validation loss: 0.1656\n",
            "INFO:INP-Former-Single-Class_dataset=MVTec-AD_Encoder=dinov2reg_vit_large_14_Resize=252_Crop=252_INP_num=6:Validation loss: 0.1656\n",
            "100%|█████████████████████████████████████████████| 8/8 [00:03<00:00,  2.14it/s]\n",
            "epoch [53/100], loss: 0.2644\n",
            "INFO:INP-Former-Single-Class_dataset=MVTec-AD_Encoder=dinov2reg_vit_large_14_Resize=252_Crop=252_INP_num=6:epoch [53/100], loss: 0.2644\n",
            "Validation loss: 0.1704\n",
            "INFO:INP-Former-Single-Class_dataset=MVTec-AD_Encoder=dinov2reg_vit_large_14_Resize=252_Crop=252_INP_num=6:Validation loss: 0.1704\n",
            "100%|█████████████████████████████████████████████| 8/8 [00:03<00:00,  2.11it/s]\n",
            "epoch [54/100], loss: 0.2653\n",
            "INFO:INP-Former-Single-Class_dataset=MVTec-AD_Encoder=dinov2reg_vit_large_14_Resize=252_Crop=252_INP_num=6:epoch [54/100], loss: 0.2653\n",
            "Validation loss: 0.1671\n",
            "INFO:INP-Former-Single-Class_dataset=MVTec-AD_Encoder=dinov2reg_vit_large_14_Resize=252_Crop=252_INP_num=6:Validation loss: 0.1671\n",
            "100%|█████████████████████████████████████████████| 8/8 [00:03<00:00,  2.11it/s]\n",
            "epoch [55/100], loss: 0.2624\n",
            "INFO:INP-Former-Single-Class_dataset=MVTec-AD_Encoder=dinov2reg_vit_large_14_Resize=252_Crop=252_INP_num=6:epoch [55/100], loss: 0.2624\n",
            "Validation loss: 0.1661\n",
            "INFO:INP-Former-Single-Class_dataset=MVTec-AD_Encoder=dinov2reg_vit_large_14_Resize=252_Crop=252_INP_num=6:Validation loss: 0.1661\n",
            "100%|█████████████████████████████████████████████| 8/8 [00:03<00:00,  2.15it/s]\n",
            "epoch [56/100], loss: 0.2603\n",
            "INFO:INP-Former-Single-Class_dataset=MVTec-AD_Encoder=dinov2reg_vit_large_14_Resize=252_Crop=252_INP_num=6:epoch [56/100], loss: 0.2603\n",
            "Validation loss: 0.1646\n",
            "INFO:INP-Former-Single-Class_dataset=MVTec-AD_Encoder=dinov2reg_vit_large_14_Resize=252_Crop=252_INP_num=6:Validation loss: 0.1646\n",
            "100%|█████████████████████████████████████████████| 8/8 [00:03<00:00,  2.13it/s]\n",
            "epoch [57/100], loss: 0.2585\n",
            "INFO:INP-Former-Single-Class_dataset=MVTec-AD_Encoder=dinov2reg_vit_large_14_Resize=252_Crop=252_INP_num=6:epoch [57/100], loss: 0.2585\n",
            "Validation loss: 0.1639\n",
            "INFO:INP-Former-Single-Class_dataset=MVTec-AD_Encoder=dinov2reg_vit_large_14_Resize=252_Crop=252_INP_num=6:Validation loss: 0.1639\n",
            "100%|█████████████████████████████████████████████| 8/8 [00:03<00:00,  2.14it/s]\n",
            "epoch [58/100], loss: 0.2562\n",
            "INFO:INP-Former-Single-Class_dataset=MVTec-AD_Encoder=dinov2reg_vit_large_14_Resize=252_Crop=252_INP_num=6:epoch [58/100], loss: 0.2562\n",
            "Validation loss: 0.1632\n",
            "INFO:INP-Former-Single-Class_dataset=MVTec-AD_Encoder=dinov2reg_vit_large_14_Resize=252_Crop=252_INP_num=6:Validation loss: 0.1632\n",
            "100%|█████████████████████████████████████████████| 8/8 [00:03<00:00,  2.16it/s]\n",
            "epoch [59/100], loss: 0.2554\n",
            "INFO:INP-Former-Single-Class_dataset=MVTec-AD_Encoder=dinov2reg_vit_large_14_Resize=252_Crop=252_INP_num=6:epoch [59/100], loss: 0.2554\n",
            "Validation loss: 0.1631\n",
            "INFO:INP-Former-Single-Class_dataset=MVTec-AD_Encoder=dinov2reg_vit_large_14_Resize=252_Crop=252_INP_num=6:Validation loss: 0.1631\n",
            "100%|█████████████████████████████████████████████| 8/8 [00:03<00:00,  2.14it/s]\n",
            "epoch [60/100], loss: 0.2529\n",
            "INFO:INP-Former-Single-Class_dataset=MVTec-AD_Encoder=dinov2reg_vit_large_14_Resize=252_Crop=252_INP_num=6:epoch [60/100], loss: 0.2529\n",
            "Validation loss: 0.1625\n",
            "INFO:INP-Former-Single-Class_dataset=MVTec-AD_Encoder=dinov2reg_vit_large_14_Resize=252_Crop=252_INP_num=6:Validation loss: 0.1625\n",
            "100%|█████████████████████████████████████████████| 8/8 [00:03<00:00,  2.13it/s]\n",
            "epoch [61/100], loss: 0.2519\n",
            "INFO:INP-Former-Single-Class_dataset=MVTec-AD_Encoder=dinov2reg_vit_large_14_Resize=252_Crop=252_INP_num=6:epoch [61/100], loss: 0.2519\n",
            "Validation loss: 0.1622\n",
            "INFO:INP-Former-Single-Class_dataset=MVTec-AD_Encoder=dinov2reg_vit_large_14_Resize=252_Crop=252_INP_num=6:Validation loss: 0.1622\n",
            "100%|█████████████████████████████████████████████| 8/8 [00:03<00:00,  2.13it/s]\n",
            "epoch [62/100], loss: 0.2514\n",
            "INFO:INP-Former-Single-Class_dataset=MVTec-AD_Encoder=dinov2reg_vit_large_14_Resize=252_Crop=252_INP_num=6:epoch [62/100], loss: 0.2514\n",
            "Validation loss: 0.1619\n",
            "INFO:INP-Former-Single-Class_dataset=MVTec-AD_Encoder=dinov2reg_vit_large_14_Resize=252_Crop=252_INP_num=6:Validation loss: 0.1619\n",
            "100%|█████████████████████████████████████████████| 8/8 [00:03<00:00,  2.13it/s]\n",
            "epoch [63/100], loss: 0.2492\n",
            "INFO:INP-Former-Single-Class_dataset=MVTec-AD_Encoder=dinov2reg_vit_large_14_Resize=252_Crop=252_INP_num=6:epoch [63/100], loss: 0.2492\n",
            "Validation loss: 0.1618\n",
            "INFO:INP-Former-Single-Class_dataset=MVTec-AD_Encoder=dinov2reg_vit_large_14_Resize=252_Crop=252_INP_num=6:Validation loss: 0.1618\n",
            "100%|█████████████████████████████████████████████| 8/8 [00:03<00:00,  2.12it/s]\n",
            "epoch [64/100], loss: 0.2495\n",
            "INFO:INP-Former-Single-Class_dataset=MVTec-AD_Encoder=dinov2reg_vit_large_14_Resize=252_Crop=252_INP_num=6:epoch [64/100], loss: 0.2495\n",
            "Validation loss: 0.1617\n",
            "INFO:INP-Former-Single-Class_dataset=MVTec-AD_Encoder=dinov2reg_vit_large_14_Resize=252_Crop=252_INP_num=6:Validation loss: 0.1617\n",
            "100%|█████████████████████████████████████████████| 8/8 [00:03<00:00,  2.13it/s]\n",
            "epoch [65/100], loss: 0.2492\n",
            "INFO:INP-Former-Single-Class_dataset=MVTec-AD_Encoder=dinov2reg_vit_large_14_Resize=252_Crop=252_INP_num=6:epoch [65/100], loss: 0.2492\n",
            "Validation loss: 0.1615\n",
            "INFO:INP-Former-Single-Class_dataset=MVTec-AD_Encoder=dinov2reg_vit_large_14_Resize=252_Crop=252_INP_num=6:Validation loss: 0.1615\n",
            "100%|█████████████████████████████████████████████| 8/8 [00:03<00:00,  2.16it/s]\n",
            "epoch [66/100], loss: 0.2489\n",
            "INFO:INP-Former-Single-Class_dataset=MVTec-AD_Encoder=dinov2reg_vit_large_14_Resize=252_Crop=252_INP_num=6:epoch [66/100], loss: 0.2489\n",
            "Validation loss: 0.1613\n",
            "INFO:INP-Former-Single-Class_dataset=MVTec-AD_Encoder=dinov2reg_vit_large_14_Resize=252_Crop=252_INP_num=6:Validation loss: 0.1613\n",
            "100%|█████████████████████████████████████████████| 8/8 [00:03<00:00,  2.10it/s]\n",
            "epoch [67/100], loss: 0.2487\n",
            "INFO:INP-Former-Single-Class_dataset=MVTec-AD_Encoder=dinov2reg_vit_large_14_Resize=252_Crop=252_INP_num=6:epoch [67/100], loss: 0.2487\n",
            "Validation loss: 0.1615\n",
            "INFO:INP-Former-Single-Class_dataset=MVTec-AD_Encoder=dinov2reg_vit_large_14_Resize=252_Crop=252_INP_num=6:Validation loss: 0.1615\n",
            "100%|█████████████████████████████████████████████| 8/8 [00:03<00:00,  2.13it/s]\n",
            "epoch [68/100], loss: 0.2483\n",
            "INFO:INP-Former-Single-Class_dataset=MVTec-AD_Encoder=dinov2reg_vit_large_14_Resize=252_Crop=252_INP_num=6:epoch [68/100], loss: 0.2483\n",
            "Validation loss: 0.1638\n",
            "INFO:INP-Former-Single-Class_dataset=MVTec-AD_Encoder=dinov2reg_vit_large_14_Resize=252_Crop=252_INP_num=6:Validation loss: 0.1638\n",
            "100%|█████████████████████████████████████████████| 8/8 [00:03<00:00,  2.13it/s]\n",
            "epoch [69/100], loss: 0.2483\n",
            "INFO:INP-Former-Single-Class_dataset=MVTec-AD_Encoder=dinov2reg_vit_large_14_Resize=252_Crop=252_INP_num=6:epoch [69/100], loss: 0.2483\n",
            "Validation loss: 0.1630\n",
            "INFO:INP-Former-Single-Class_dataset=MVTec-AD_Encoder=dinov2reg_vit_large_14_Resize=252_Crop=252_INP_num=6:Validation loss: 0.1630\n",
            "100%|█████████████████████████████████████████████| 8/8 [00:03<00:00,  2.15it/s]\n",
            "epoch [70/100], loss: 0.2459\n",
            "INFO:INP-Former-Single-Class_dataset=MVTec-AD_Encoder=dinov2reg_vit_large_14_Resize=252_Crop=252_INP_num=6:epoch [70/100], loss: 0.2459\n",
            "Validation loss: 0.1623\n",
            "INFO:INP-Former-Single-Class_dataset=MVTec-AD_Encoder=dinov2reg_vit_large_14_Resize=252_Crop=252_INP_num=6:Validation loss: 0.1623\n",
            "100%|█████████████████████████████████████████████| 8/8 [00:03<00:00,  2.09it/s]\n",
            "epoch [71/100], loss: 0.2467\n",
            "INFO:INP-Former-Single-Class_dataset=MVTec-AD_Encoder=dinov2reg_vit_large_14_Resize=252_Crop=252_INP_num=6:epoch [71/100], loss: 0.2467\n",
            "Validation loss: 0.1615\n",
            "INFO:INP-Former-Single-Class_dataset=MVTec-AD_Encoder=dinov2reg_vit_large_14_Resize=252_Crop=252_INP_num=6:Validation loss: 0.1615\n",
            "100%|█████████████████████████████████████████████| 8/8 [00:03<00:00,  2.14it/s]\n",
            "epoch [72/100], loss: 0.2456\n",
            "INFO:INP-Former-Single-Class_dataset=MVTec-AD_Encoder=dinov2reg_vit_large_14_Resize=252_Crop=252_INP_num=6:epoch [72/100], loss: 0.2456\n",
            "Validation loss: 0.1612\n",
            "INFO:INP-Former-Single-Class_dataset=MVTec-AD_Encoder=dinov2reg_vit_large_14_Resize=252_Crop=252_INP_num=6:Validation loss: 0.1612\n",
            "100%|█████████████████████████████████████████████| 8/8 [00:03<00:00,  2.12it/s]\n",
            "epoch [73/100], loss: 0.2453\n",
            "INFO:INP-Former-Single-Class_dataset=MVTec-AD_Encoder=dinov2reg_vit_large_14_Resize=252_Crop=252_INP_num=6:epoch [73/100], loss: 0.2453\n",
            "Validation loss: 0.1610\n",
            "INFO:INP-Former-Single-Class_dataset=MVTec-AD_Encoder=dinov2reg_vit_large_14_Resize=252_Crop=252_INP_num=6:Validation loss: 0.1610\n",
            "100%|█████████████████████████████████████████████| 8/8 [00:03<00:00,  2.11it/s]\n",
            "epoch [74/100], loss: 0.2451\n",
            "INFO:INP-Former-Single-Class_dataset=MVTec-AD_Encoder=dinov2reg_vit_large_14_Resize=252_Crop=252_INP_num=6:epoch [74/100], loss: 0.2451\n",
            "Validation loss: 0.1608\n",
            "INFO:INP-Former-Single-Class_dataset=MVTec-AD_Encoder=dinov2reg_vit_large_14_Resize=252_Crop=252_INP_num=6:Validation loss: 0.1608\n",
            "100%|█████████████████████████████████████████████| 8/8 [00:03<00:00,  2.13it/s]\n",
            "epoch [75/100], loss: 0.2452\n",
            "INFO:INP-Former-Single-Class_dataset=MVTec-AD_Encoder=dinov2reg_vit_large_14_Resize=252_Crop=252_INP_num=6:epoch [75/100], loss: 0.2452\n",
            "Validation loss: 0.1607\n",
            "INFO:INP-Former-Single-Class_dataset=MVTec-AD_Encoder=dinov2reg_vit_large_14_Resize=252_Crop=252_INP_num=6:Validation loss: 0.1607\n",
            "100%|█████████████████████████████████████████████| 8/8 [00:03<00:00,  2.12it/s]\n",
            "epoch [76/100], loss: 0.2442\n",
            "INFO:INP-Former-Single-Class_dataset=MVTec-AD_Encoder=dinov2reg_vit_large_14_Resize=252_Crop=252_INP_num=6:epoch [76/100], loss: 0.2442\n",
            "Validation loss: 0.1606\n",
            "INFO:INP-Former-Single-Class_dataset=MVTec-AD_Encoder=dinov2reg_vit_large_14_Resize=252_Crop=252_INP_num=6:Validation loss: 0.1606\n",
            "100%|█████████████████████████████████████████████| 8/8 [00:03<00:00,  2.17it/s]\n",
            "epoch [77/100], loss: 0.2437\n",
            "INFO:INP-Former-Single-Class_dataset=MVTec-AD_Encoder=dinov2reg_vit_large_14_Resize=252_Crop=252_INP_num=6:epoch [77/100], loss: 0.2437\n",
            "Validation loss: 0.1605\n",
            "INFO:INP-Former-Single-Class_dataset=MVTec-AD_Encoder=dinov2reg_vit_large_14_Resize=252_Crop=252_INP_num=6:Validation loss: 0.1605\n",
            "100%|█████████████████████████████████████████████| 8/8 [00:03<00:00,  2.10it/s]\n",
            "epoch [78/100], loss: 0.2438\n",
            "INFO:INP-Former-Single-Class_dataset=MVTec-AD_Encoder=dinov2reg_vit_large_14_Resize=252_Crop=252_INP_num=6:epoch [78/100], loss: 0.2438\n",
            "Validation loss: 0.1605\n",
            "INFO:INP-Former-Single-Class_dataset=MVTec-AD_Encoder=dinov2reg_vit_large_14_Resize=252_Crop=252_INP_num=6:Validation loss: 0.1605\n",
            "100%|█████████████████████████████████████████████| 8/8 [00:03<00:00,  2.16it/s]\n",
            "epoch [79/100], loss: 0.2436\n",
            "INFO:INP-Former-Single-Class_dataset=MVTec-AD_Encoder=dinov2reg_vit_large_14_Resize=252_Crop=252_INP_num=6:epoch [79/100], loss: 0.2436\n",
            "Validation loss: 0.1604\n",
            "INFO:INP-Former-Single-Class_dataset=MVTec-AD_Encoder=dinov2reg_vit_large_14_Resize=252_Crop=252_INP_num=6:Validation loss: 0.1604\n",
            "100%|█████████████████████████████████████████████| 8/8 [00:03<00:00,  2.16it/s]\n",
            "epoch [80/100], loss: 0.2440\n",
            "INFO:INP-Former-Single-Class_dataset=MVTec-AD_Encoder=dinov2reg_vit_large_14_Resize=252_Crop=252_INP_num=6:epoch [80/100], loss: 0.2440\n",
            "Validation loss: 0.1603\n",
            "INFO:INP-Former-Single-Class_dataset=MVTec-AD_Encoder=dinov2reg_vit_large_14_Resize=252_Crop=252_INP_num=6:Validation loss: 0.1603\n",
            "100%|█████████████████████████████████████████████| 8/8 [00:03<00:00,  2.13it/s]\n",
            "epoch [81/100], loss: 0.2429\n",
            "INFO:INP-Former-Single-Class_dataset=MVTec-AD_Encoder=dinov2reg_vit_large_14_Resize=252_Crop=252_INP_num=6:epoch [81/100], loss: 0.2429\n",
            "Validation loss: 0.1603\n",
            "INFO:INP-Former-Single-Class_dataset=MVTec-AD_Encoder=dinov2reg_vit_large_14_Resize=252_Crop=252_INP_num=6:Validation loss: 0.1603\n",
            "100%|█████████████████████████████████████████████| 8/8 [00:03<00:00,  2.12it/s]\n",
            "epoch [82/100], loss: 0.2426\n",
            "INFO:INP-Former-Single-Class_dataset=MVTec-AD_Encoder=dinov2reg_vit_large_14_Resize=252_Crop=252_INP_num=6:epoch [82/100], loss: 0.2426\n",
            "Validation loss: 0.1602\n",
            "INFO:INP-Former-Single-Class_dataset=MVTec-AD_Encoder=dinov2reg_vit_large_14_Resize=252_Crop=252_INP_num=6:Validation loss: 0.1602\n",
            "100%|█████████████████████████████████████████████| 8/8 [00:03<00:00,  2.14it/s]\n",
            "epoch [83/100], loss: 0.2430\n",
            "INFO:INP-Former-Single-Class_dataset=MVTec-AD_Encoder=dinov2reg_vit_large_14_Resize=252_Crop=252_INP_num=6:epoch [83/100], loss: 0.2430\n",
            "Validation loss: 0.1602\n",
            "INFO:INP-Former-Single-Class_dataset=MVTec-AD_Encoder=dinov2reg_vit_large_14_Resize=252_Crop=252_INP_num=6:Validation loss: 0.1602\n",
            "100%|█████████████████████████████████████████████| 8/8 [00:03<00:00,  2.16it/s]\n",
            "epoch [84/100], loss: 0.2422\n",
            "INFO:INP-Former-Single-Class_dataset=MVTec-AD_Encoder=dinov2reg_vit_large_14_Resize=252_Crop=252_INP_num=6:epoch [84/100], loss: 0.2422\n",
            "Validation loss: 0.1602\n",
            "INFO:INP-Former-Single-Class_dataset=MVTec-AD_Encoder=dinov2reg_vit_large_14_Resize=252_Crop=252_INP_num=6:Validation loss: 0.1602\n",
            "100%|█████████████████████████████████████████████| 8/8 [00:03<00:00,  2.14it/s]\n",
            "epoch [85/100], loss: 0.2414\n",
            "INFO:INP-Former-Single-Class_dataset=MVTec-AD_Encoder=dinov2reg_vit_large_14_Resize=252_Crop=252_INP_num=6:epoch [85/100], loss: 0.2414\n",
            "Validation loss: 0.1602\n",
            "INFO:INP-Former-Single-Class_dataset=MVTec-AD_Encoder=dinov2reg_vit_large_14_Resize=252_Crop=252_INP_num=6:Validation loss: 0.1602\n",
            "100%|█████████████████████████████████████████████| 8/8 [00:03<00:00,  2.15it/s]\n",
            "epoch [86/100], loss: 0.2413\n",
            "INFO:INP-Former-Single-Class_dataset=MVTec-AD_Encoder=dinov2reg_vit_large_14_Resize=252_Crop=252_INP_num=6:epoch [86/100], loss: 0.2413\n",
            "Validation loss: 0.1601\n",
            "INFO:INP-Former-Single-Class_dataset=MVTec-AD_Encoder=dinov2reg_vit_large_14_Resize=252_Crop=252_INP_num=6:Validation loss: 0.1601\n",
            "100%|█████████████████████████████████████████████| 8/8 [00:03<00:00,  2.11it/s]\n",
            "epoch [87/100], loss: 0.2421\n",
            "INFO:INP-Former-Single-Class_dataset=MVTec-AD_Encoder=dinov2reg_vit_large_14_Resize=252_Crop=252_INP_num=6:epoch [87/100], loss: 0.2421\n",
            "Validation loss: 0.1601\n",
            "INFO:INP-Former-Single-Class_dataset=MVTec-AD_Encoder=dinov2reg_vit_large_14_Resize=252_Crop=252_INP_num=6:Validation loss: 0.1601\n",
            "100%|█████████████████████████████████████████████| 8/8 [00:03<00:00,  2.10it/s]\n",
            "epoch [88/100], loss: 0.2414\n",
            "INFO:INP-Former-Single-Class_dataset=MVTec-AD_Encoder=dinov2reg_vit_large_14_Resize=252_Crop=252_INP_num=6:epoch [88/100], loss: 0.2414\n",
            "Validation loss: 0.1601\n",
            "INFO:INP-Former-Single-Class_dataset=MVTec-AD_Encoder=dinov2reg_vit_large_14_Resize=252_Crop=252_INP_num=6:Validation loss: 0.1601\n",
            "100%|█████████████████████████████████████████████| 8/8 [00:03<00:00,  2.15it/s]\n",
            "epoch [89/100], loss: 0.2416\n",
            "INFO:INP-Former-Single-Class_dataset=MVTec-AD_Encoder=dinov2reg_vit_large_14_Resize=252_Crop=252_INP_num=6:epoch [89/100], loss: 0.2416\n",
            "Validation loss: 0.1601\n",
            "INFO:INP-Former-Single-Class_dataset=MVTec-AD_Encoder=dinov2reg_vit_large_14_Resize=252_Crop=252_INP_num=6:Validation loss: 0.1601\n",
            "100%|█████████████████████████████████████████████| 8/8 [00:03<00:00,  2.15it/s]\n",
            "epoch [90/100], loss: 0.2410\n",
            "INFO:INP-Former-Single-Class_dataset=MVTec-AD_Encoder=dinov2reg_vit_large_14_Resize=252_Crop=252_INP_num=6:epoch [90/100], loss: 0.2410\n",
            "Validation loss: 0.1601\n",
            "INFO:INP-Former-Single-Class_dataset=MVTec-AD_Encoder=dinov2reg_vit_large_14_Resize=252_Crop=252_INP_num=6:Validation loss: 0.1601\n",
            "100%|█████████████████████████████████████████████| 8/8 [00:03<00:00,  2.09it/s]\n",
            "epoch [91/100], loss: 0.2412\n",
            "INFO:INP-Former-Single-Class_dataset=MVTec-AD_Encoder=dinov2reg_vit_large_14_Resize=252_Crop=252_INP_num=6:epoch [91/100], loss: 0.2412\n",
            "Validation loss: 0.1600\n",
            "INFO:INP-Former-Single-Class_dataset=MVTec-AD_Encoder=dinov2reg_vit_large_14_Resize=252_Crop=252_INP_num=6:Validation loss: 0.1600\n",
            "100%|█████████████████████████████████████████████| 8/8 [00:03<00:00,  2.12it/s]\n",
            "epoch [92/100], loss: 0.2404\n",
            "INFO:INP-Former-Single-Class_dataset=MVTec-AD_Encoder=dinov2reg_vit_large_14_Resize=252_Crop=252_INP_num=6:epoch [92/100], loss: 0.2404\n",
            "Validation loss: 0.1600\n",
            "INFO:INP-Former-Single-Class_dataset=MVTec-AD_Encoder=dinov2reg_vit_large_14_Resize=252_Crop=252_INP_num=6:Validation loss: 0.1600\n",
            "100%|█████████████████████████████████████████████| 8/8 [00:03<00:00,  2.15it/s]\n",
            "epoch [93/100], loss: 0.2410\n",
            "INFO:INP-Former-Single-Class_dataset=MVTec-AD_Encoder=dinov2reg_vit_large_14_Resize=252_Crop=252_INP_num=6:epoch [93/100], loss: 0.2410\n",
            "Validation loss: 0.1600\n",
            "INFO:INP-Former-Single-Class_dataset=MVTec-AD_Encoder=dinov2reg_vit_large_14_Resize=252_Crop=252_INP_num=6:Validation loss: 0.1600\n",
            "100%|█████████████████████████████████████████████| 8/8 [00:03<00:00,  2.15it/s]\n",
            "epoch [94/100], loss: 0.2403\n",
            "INFO:INP-Former-Single-Class_dataset=MVTec-AD_Encoder=dinov2reg_vit_large_14_Resize=252_Crop=252_INP_num=6:epoch [94/100], loss: 0.2403\n",
            "Validation loss: 0.1600\n",
            "INFO:INP-Former-Single-Class_dataset=MVTec-AD_Encoder=dinov2reg_vit_large_14_Resize=252_Crop=252_INP_num=6:Validation loss: 0.1600\n",
            "100%|█████████████████████████████████████████████| 8/8 [00:03<00:00,  2.15it/s]\n",
            "epoch [95/100], loss: 0.2406\n",
            "INFO:INP-Former-Single-Class_dataset=MVTec-AD_Encoder=dinov2reg_vit_large_14_Resize=252_Crop=252_INP_num=6:epoch [95/100], loss: 0.2406\n",
            "Validation loss: 0.1600\n",
            "INFO:INP-Former-Single-Class_dataset=MVTec-AD_Encoder=dinov2reg_vit_large_14_Resize=252_Crop=252_INP_num=6:Validation loss: 0.1600\n",
            "100%|█████████████████████████████████████████████| 8/8 [00:03<00:00,  2.15it/s]\n",
            "epoch [96/100], loss: 0.2405\n",
            "INFO:INP-Former-Single-Class_dataset=MVTec-AD_Encoder=dinov2reg_vit_large_14_Resize=252_Crop=252_INP_num=6:epoch [96/100], loss: 0.2405\n",
            "Validation loss: 0.1600\n",
            "INFO:INP-Former-Single-Class_dataset=MVTec-AD_Encoder=dinov2reg_vit_large_14_Resize=252_Crop=252_INP_num=6:Validation loss: 0.1600\n",
            "100%|█████████████████████████████████████████████| 8/8 [00:03<00:00,  2.13it/s]\n",
            "epoch [97/100], loss: 0.2402\n",
            "INFO:INP-Former-Single-Class_dataset=MVTec-AD_Encoder=dinov2reg_vit_large_14_Resize=252_Crop=252_INP_num=6:epoch [97/100], loss: 0.2402\n",
            "Validation loss: 0.1600\n",
            "INFO:INP-Former-Single-Class_dataset=MVTec-AD_Encoder=dinov2reg_vit_large_14_Resize=252_Crop=252_INP_num=6:Validation loss: 0.1600\n",
            "100%|█████████████████████████████████████████████| 8/8 [00:03<00:00,  2.11it/s]\n",
            "epoch [98/100], loss: 0.2394\n",
            "INFO:INP-Former-Single-Class_dataset=MVTec-AD_Encoder=dinov2reg_vit_large_14_Resize=252_Crop=252_INP_num=6:epoch [98/100], loss: 0.2394\n",
            "Validation loss: 0.1600\n",
            "INFO:INP-Former-Single-Class_dataset=MVTec-AD_Encoder=dinov2reg_vit_large_14_Resize=252_Crop=252_INP_num=6:Validation loss: 0.1600\n",
            "100%|█████████████████████████████████████████████| 8/8 [00:03<00:00,  2.13it/s]\n",
            "epoch [99/100], loss: 0.2405\n",
            "INFO:INP-Former-Single-Class_dataset=MVTec-AD_Encoder=dinov2reg_vit_large_14_Resize=252_Crop=252_INP_num=6:epoch [99/100], loss: 0.2405\n",
            "Validation loss: 0.1600\n",
            "INFO:INP-Former-Single-Class_dataset=MVTec-AD_Encoder=dinov2reg_vit_large_14_Resize=252_Crop=252_INP_num=6:Validation loss: 0.1600\n",
            "100%|█████████████████████████████████████████████| 8/8 [00:03<00:00,  2.13it/s]\n",
            "epoch [100/100], loss: 0.2392\n",
            "INFO:INP-Former-Single-Class_dataset=MVTec-AD_Encoder=dinov2reg_vit_large_14_Resize=252_Crop=252_INP_num=6:epoch [100/100], loss: 0.2392\n",
            "Validation loss: 0.1600\n",
            "INFO:INP-Former-Single-Class_dataset=MVTec-AD_Encoder=dinov2reg_vit_large_14_Resize=252_Crop=252_INP_num=6:Validation loss: 0.1600\n",
            "100%|███████████████████████████████████████████| 18/18 [00:04<00:00,  3.64it/s]\n",
            "wood: I-Auroc:0.8590, I-AP:0.8026, I-F1:0.8354, P-AUROC:0.9385, P-AP:0.1932, P-F1:0.2993, P-AUPRO:0.7516\n",
            "INFO:INP-Former-Single-Class_dataset=MVTec-AD_Encoder=dinov2reg_vit_large_14_Resize=252_Crop=252_INP_num=6:wood: I-Auroc:0.8590, I-AP:0.8026, I-F1:0.8354, P-AUROC:0.9385, P-AP:0.1932, P-F1:0.2993, P-AUPRO:0.7516\n"
          ]
        }
      ]
    },
    {
      "cell_type": "code",
      "source": [
        "# Eğitim başarılı olduysa test yapın\n",
        "!python /content/INP-Former/INP_Former_Single_Class.py \\\n",
        "  --dataset MVTec-AD \\\n",
        "  --data_path /content/drive/MyDrive/wood_dataset \\\n",
        "  --item wood \\\n",
        "  --batch_size 8 \\\n",
        "  --phase test \\\n",
        "  --save_dir /content/inp_result \\\n",
        "  --encoder dinov2reg_vit_large_14 \\\n",
        "  --input_size 252 \\\n",
        "  --crop_size 252 \\\n",
        "  --INP_num 6"
      ],
      "metadata": {
        "colab": {
          "base_uri": "https://localhost:8080/"
        },
        "id": "B0B0KxeLQriC",
        "outputId": "8b947938-e3bc-48b2-aeff-f0039696de14"
      },
      "execution_count": 4,
      "outputs": [
        {
          "output_type": "stream",
          "name": "stdout",
          "text": [
            "/usr/local/lib/python3.11/dist-packages/timm/models/layers/__init__.py:48: FutureWarning: Importing from timm.models.layers is deprecated, please import via timm.layers\n",
            "  warnings.warn(f\"Importing from {__name__} is deprecated, please import via timm.layers\", FutureWarning)\n",
            "100%|███████████████████████████████████████████| 18/18 [00:06<00:00,  2.88it/s]\n"
          ]
        }
      ]
    },
    {
      "cell_type": "code",
      "source": [],
      "metadata": {
        "id": "ZRAg9001mKxR"
      },
      "execution_count": null,
      "outputs": []
    },
    {
      "cell_type": "code",
      "source": [
        "!rm -rf /content/anomaly_results\n"
      ],
      "metadata": {
        "id": "SYPPpiVBZImc"
      },
      "execution_count": 21,
      "outputs": []
    },
    {
      "cell_type": "code",
      "source": [
        "import os\n",
        "import sys\n",
        "import cv2\n",
        "import torch\n",
        "import numpy as np\n",
        "import matplotlib.pyplot as plt\n",
        "from PIL import Image\n",
        "from tqdm import tqdm\n",
        "from torchvision import transforms\n",
        "from functools import partial\n",
        "import torch.nn as nn\n",
        "\n",
        "# INP-Former dizinini Python yoluna ekle\n",
        "sys.path.append(\"/content/INP-Former\")\n",
        "\n",
        "# Modülleri yükle\n",
        "from models import vit_encoder\n",
        "from models.uad import INP_Former\n",
        "from models.vision_transformer import Mlp, Aggregation_Block, Prototype_Block\n",
        "from utils import get_gaussian_kernel, cal_anomaly_maps\n",
        "\n",
        "# === DİZİN AYARLARI ===\n",
        "defect_test_dir = \"/content/drive/MyDrive/wood_dataset/wood/test/defect\"\n",
        "good_test_dir = \"/content/drive/MyDrive/wood_dataset/wood/test/good\"\n",
        "gt_dir = \"/content/drive/MyDrive/wood_dataset/wood/ground_truth/defect\"\n",
        "model_path = \"/content/inp_result/INP-Former-Single-Class_dataset=MVTec-AD_Encoder=dinov2reg_vit_large_14_Resize=252_Crop=252_INP_num=6/wood/model.pth\"\n",
        "output_dir = \"/content/anomaly_results\"\n",
        "\n",
        "# Output dizini oluştur\n",
        "os.makedirs(output_dir, exist_ok=True)\n",
        "\n",
        "# === MODEL YÜKLEME ===\n",
        "device = 'cuda' if torch.cuda.is_available() else 'cpu'\n",
        "print(f\"Cihaz: {device}\")\n",
        "\n",
        "# Eğitimde kullanılan parametreler\n",
        "INP_num = 6\n",
        "embed_dim = 1024\n",
        "num_heads = 16\n",
        "target_layers = [2, 3, 4, 5, 6, 7, 8, 9]\n",
        "fuse_layer_encoder = [[0, 1, 2, 3], [4, 5, 6, 7]]\n",
        "fuse_layer_decoder = [[0, 1, 2, 3], [4, 5, 6, 7]]\n",
        "\n",
        "# Model bileşenlerini oluştur\n",
        "encoder = vit_encoder.load('dinov2reg_vit_large_14')\n",
        "Bottleneck = nn.ModuleList([Mlp(embed_dim, embed_dim * 4, embed_dim, drop=0.)])\n",
        "INP = nn.ParameterList([nn.Parameter(torch.randn(INP_num, embed_dim))])\n",
        "INP_Extractor = nn.ModuleList([\n",
        "    Aggregation_Block(dim=embed_dim, num_heads=num_heads, mlp_ratio=4., qkv_bias=True,\n",
        "                     norm_layer=partial(nn.LayerNorm, eps=1e-8))\n",
        "])\n",
        "INP_Guided_Decoder = nn.ModuleList([\n",
        "    Prototype_Block(dim=embed_dim, num_heads=num_heads, mlp_ratio=4., qkv_bias=True,\n",
        "                   norm_layer=partial(nn.LayerNorm, eps=1e-8)) for _ in range(8)\n",
        "])\n",
        "\n",
        "# Modeli oluştur\n",
        "model = INP_Former(\n",
        "    encoder=encoder,\n",
        "    bottleneck=Bottleneck,\n",
        "    aggregation=INP_Extractor,\n",
        "    decoder=INP_Guided_Decoder,\n",
        "    target_layers=target_layers,\n",
        "    remove_class_token=True,\n",
        "    fuse_layer_encoder=fuse_layer_encoder,\n",
        "    fuse_layer_decoder=fuse_layer_decoder,\n",
        "    prototype_token=INP\n",
        ").to(device)\n",
        "\n",
        "# Eğitilmiş modeli yükle\n",
        "checkpoint = torch.load(model_path, map_location=device)\n",
        "model.load_state_dict(checkpoint)\n",
        "print(\"✅ Doğrudan state_dict yüklendi.\")\n",
        "\n",
        "model.eval()\n",
        "print(\"Model yüklendi!\")\n",
        "\n",
        "# === DÖNÜŞÜMLER ===\n",
        "transform = transforms.Compose([\n",
        "    transforms.Resize((252, 252)),\n",
        "    transforms.ToTensor(),\n",
        "    transforms.Normalize(mean=[0.485, 0.456, 0.406], std=[0.229, 0.224, 0.225])\n",
        "])\n",
        "\n",
        "# === ANOMALİ HARİTASI FONKSİYONU ===\n",
        "def generate_anomaly_map(img_path):\n",
        "    image = Image.open(img_path).convert('RGB')\n",
        "    input_tensor = transform(image).unsqueeze(0).to(device)\n",
        "\n",
        "    with torch.no_grad():\n",
        "        en, de, _ = model(input_tensor)\n",
        "        anomaly_map, anomaly_score = cal_anomaly_maps(en, de, input_tensor.shape[-1])\n",
        "        gaussian_kernel = get_gaussian_kernel(kernel_size=5, sigma=4).to(device)\n",
        "        anomaly_map = gaussian_kernel(anomaly_map)\n",
        "\n",
        "    anomaly_map_np = anomaly_map.squeeze().cpu().numpy()\n",
        "    anomaly_map_norm = anomaly_map_np  # normalize ETME\n",
        "\n",
        "    flat_map = anomaly_map_np.flatten()\n",
        "    top_k = np.percentile(flat_map, 98)  # ya da 95\n",
        "    score_value = flat_map[flat_map >= top_k].mean()\n",
        "\n",
        "\n",
        "\n",
        "    return anomaly_map_norm, score_value, np.max(anomaly_map_np)\n",
        "\n",
        "\n",
        "# === GÖRSELLERI IŞLE VE GÖRSELLESTIR ===\n",
        "def process_image(img_path, is_defect=True, threshold=None):\n",
        "    \"\"\"Görüntüyü işle ve sonuçları görselleştir\"\"\"\n",
        "    img_name = os.path.basename(img_path)\n",
        "    img_basename = os.path.splitext(img_name)[0]\n",
        "\n",
        "    # Anomali haritasını oluştur\n",
        "    anomaly_map, anomaly_score, max_value = generate_anomaly_map(img_path)\n",
        "\n",
        "    # Orijinal görüntü\n",
        "    orig_img = np.array(Image.open(img_path).convert('RGB').resize((252, 252)))\n",
        "\n",
        "    # Ground truth (sadece defect görüntüler için)\n",
        "    gt_mask = None\n",
        "    if is_defect:\n",
        "        gt_path = os.path.join(gt_dir, f\"{img_basename}.png\")\n",
        "        if os.path.exists(gt_path):\n",
        "            gt = cv2.imread(gt_path, cv2.IMREAD_GRAYSCALE)\n",
        "            gt = cv2.resize(gt, (252, 252))\n",
        "            gt_mask = (gt > 127).astype(np.uint8)\n",
        "\n",
        "    # Anomali maskesi (eşik değeri kullanarak)\n",
        "    if threshold is not None:\n",
        "        binary_mask = (anomaly_map > threshold).astype(np.uint8)\n",
        "\n",
        "        # Morfolojik işlemler (gürültü temizleme)\n",
        "        kernel = np.ones((3, 3), np.uint8)\n",
        "        binary_mask = cv2.morphologyEx(binary_mask, cv2.MORPH_OPEN, kernel)\n",
        "        binary_mask = cv2.morphologyEx(binary_mask, cv2.MORPH_CLOSE, kernel)\n",
        "    else:\n",
        "        binary_mask = np.zeros_like(anomaly_map, dtype=np.uint8)\n",
        "\n",
        "    # Overlay görüntüsü\n",
        "    overlay = orig_img.copy()\n",
        "\n",
        "    # Anomali konturları\n",
        "    contours, _ = cv2.findContours(binary_mask, cv2.RETR_EXTERNAL, cv2.CHAIN_APPROX_SIMPLE)\n",
        "    cv2.drawContours(overlay, contours, -1, (0, 255, 0), 2)\n",
        "\n",
        "    # Ground truth konturları (sadece defect görüntüler için)\n",
        "    if gt_mask is not None:\n",
        "        gt_contours, _ = cv2.findContours(gt_mask, cv2.RETR_EXTERNAL, cv2.CHAIN_APPROX_SIMPLE)\n",
        "        cv2.drawContours(overlay, gt_contours, -1, (255, 0, 0), 1)\n",
        "\n",
        "    # Eşik değerini argüman olarak geçiyoruz ya, onu kullan:\n",
        "    prediction = \"Anomali\" if anomaly_score > threshold else \"Normal\"\n",
        "\n",
        "\n",
        "    # Görselleştirme\n",
        "    fig, axs = plt.subplots(1, 4, figsize=(18, 4))\n",
        "\n",
        "    # Orijinal görüntü\n",
        "    axs[0].imshow(orig_img, cmap='gray')\n",
        "    axs[0].set_title(f\"{img_name} ({'defect' if is_defect else 'good'}) - Original\")\n",
        "    axs[0].axis('off')\n",
        "\n",
        "    # Anomali haritası\n",
        "    axs[1].imshow(anomaly_map, cmap='jet')\n",
        "    axs[1].set_title(f\"Anomaly Map (.tiff) - Max: {max_value:.3f}\")\n",
        "    axs[1].axis('off')\n",
        "\n",
        "    # Overlay\n",
        "    axs[2].imshow(overlay)\n",
        "    axs[2].set_title(f\"Overlay (Tahmin: {prediction})\")\n",
        "    axs[2].axis('off')\n",
        "\n",
        "    # Ground truth\n",
        "    if gt_mask is not None:\n",
        "        axs[3].imshow(gt_mask, cmap='gray')\n",
        "    else:\n",
        "        axs[3].imshow(np.zeros((252, 252)), cmap='gray')\n",
        "    axs[3].set_title(\"Ground Truth\")\n",
        "    axs[3].axis('off')\n",
        "\n",
        "    plt.tight_layout()\n",
        "\n",
        "    # Sonuçları kaydet\n",
        "    plt.savefig(os.path.join(output_dir, f\"{img_basename}_analysis.jpg\"), dpi=150)\n",
        "    plt.close()\n",
        "\n",
        "    # TIFF formatında anomali haritasını kaydet\n",
        "    # Burada normalize edilmemiş orijinal değerleri kaydet\n",
        "    anomaly_tiff = (anomaly_map * 255).astype(np.uint8)\n",
        "    cv2.imwrite(os.path.join(output_dir, f\"{img_basename}_anomaly_map.tiff\"), anomaly_tiff)\n",
        "\n",
        "    return anomaly_map, anomaly_score, binary_mask\n",
        "\n",
        "from sklearn.metrics import f1_score, confusion_matrix\n",
        "import pandas as pd\n",
        "import numpy as np\n",
        "\n",
        "def sweep_thresholds(results_df, start=0.55, end=0.65, step=0.005):\n",
        "    best_f1 = 0\n",
        "    best_thresh = 0\n",
        "    results = []\n",
        "\n",
        "    thresholds = np.arange(start, end + step, step)\n",
        "\n",
        "    for thresh in thresholds:\n",
        "        preds = results_df[\"Anomaly Score\"] > thresh\n",
        "        f1 = f1_score(results_df[\"True Label\"], preds)\n",
        "        tn, fp, fn, tp = confusion_matrix(results_df[\"True Label\"], preds).ravel()\n",
        "\n",
        "        results.append({\n",
        "            \"Threshold\": round(thresh, 4),\n",
        "            \"F1 Score\": round(f1, 4),\n",
        "            \"TP\": tp,\n",
        "            \"TN\": tn,\n",
        "            \"FP\": fp,\n",
        "            \"FN\": fn\n",
        "        })\n",
        "\n",
        "        if f1 > best_f1:\n",
        "            best_f1 = f1\n",
        "            best_thresh = thresh\n",
        "\n",
        "    results_df_out = pd.DataFrame(results)\n",
        "    print(f\"📌 En iyi threshold: {best_thresh:.4f} (F1 = {best_f1:.4f})\")\n",
        "    return results_df_out, best_thresh\n",
        "\n",
        "# === TÜM GÖRÜNTÜLERI IŞLE ===\n",
        "def process_dataset():\n",
        "    print(\"\\n=== DEFECT GÖRÜNTÜLERİNİ İŞLEME ===\")\n",
        "\n",
        "    # Defect ve good görüntü yollarını topla\n",
        "    defect_paths = sorted([\n",
        "        os.path.join(defect_test_dir, f)\n",
        "        for f in os.listdir(defect_test_dir)\n",
        "        if f.lower().endswith(('.png', '.jpg', '.jpeg'))\n",
        "    ])\n",
        "    good_paths = sorted([\n",
        "        os.path.join(good_test_dir, f)\n",
        "        for f in os.listdir(good_test_dir)\n",
        "        if f.lower().endswith(('.png', '.jpg', '.jpeg'))\n",
        "    ])\n",
        "\n",
        "    # Tüm anomaly score'ları ve true label'ları hesapla\n",
        "    print(\"\\n🔍 Threshold aralığı belirlemek için tüm görüntüler taranıyor...\")\n",
        "    scores, labels, names = [], [], []\n",
        "\n",
        "    for img_path in tqdm(defect_paths + good_paths):\n",
        "        is_defect = img_path in defect_paths\n",
        "        _, anomaly_score, _ = generate_anomaly_map(img_path)\n",
        "        scores.append(anomaly_score)\n",
        "        labels.append(1 if is_defect else 0)\n",
        "        names.append(os.path.basename(img_path))\n",
        "\n",
        "    # VeriFrame'e çevir\n",
        "    df_scores = pd.DataFrame({\n",
        "        \"Image\": names,\n",
        "        \"Anomaly Score\": scores,\n",
        "        \"True Label\": labels\n",
        "    })\n",
        "\n",
        "    # En iyi threshold'u bul\n",
        "    thresholds_df, best_threshold = sweep_thresholds(df_scores, start=0.53, end=0.63, step=0.002)\n",
        "\n",
        "    print(f\"\\n🎯 En iyi threshold ile görüntüler yeniden işleniyor: {best_threshold:.4f}\")\n",
        "\n",
        "    # Görselleri en iyi threshold ile işle\n",
        "    image_paths = defect_paths + good_paths\n",
        "    all_preds, all_ious = [], []\n",
        "    for img_path in tqdm(image_paths):\n",
        "        is_defect = img_path in defect_paths\n",
        "        img_name = os.path.basename(img_path)\n",
        "        anomaly_map, anomaly_score, binary_mask = process_image(img_path, is_defect=is_defect, threshold=best_threshold)\n",
        "\n",
        "        # IOU hesapla (varsa)\n",
        "        gt_mask = None\n",
        "        if is_defect:\n",
        "            gt_path = os.path.join(gt_dir, f\"{os.path.splitext(img_name)[0]}.png\")\n",
        "            if os.path.exists(gt_path):\n",
        "                gt = cv2.imread(gt_path, cv2.IMREAD_GRAYSCALE)\n",
        "                gt = cv2.resize(gt, (252, 252))\n",
        "                gt_mask = (gt > 127).astype(np.uint8)\n",
        "\n",
        "        if gt_mask is not None:\n",
        "            intersection = np.logical_and(binary_mask, gt_mask).sum()\n",
        "            union = np.logical_or(binary_mask, gt_mask).sum()\n",
        "            iou = intersection / union if union != 0 else 0.0\n",
        "        else:\n",
        "            iou = np.nan\n",
        "\n",
        "        all_preds.append(1 if anomaly_score > best_threshold else 0)\n",
        "        all_ious.append(iou)\n",
        "\n",
        "        print(f\"{img_name}: Anomaly Score = {anomaly_score:.4f}, IOU = {iou:.4f}\")\n",
        "\n",
        "    # Final değerlendirme\n",
        "    df_scores[\"Predicted Label\"] = all_preds\n",
        "    df_scores[\"IoU\"] = all_ious\n",
        "\n",
        "    print(\"\\n📄 Sonuç Tablosu:\")\n",
        "    print(df_scores)\n",
        "\n",
        "    f1 = f1_score(df_scores[\"True Label\"], df_scores[\"Predicted Label\"])\n",
        "    cm = confusion_matrix(df_scores[\"True Label\"], df_scores[\"Predicted Label\"])\n",
        "    print(f\"\\n🎯 Final F1 Skoru: {f1:.4f}\")\n",
        "    print(\"Confusion Matrix:\")\n",
        "    print(cm)\n",
        "\n",
        "    print(f\"\\n✅ En iyi threshold değeriyle tüm analiz tamamlandı! ({best_threshold:.4f})\")\n",
        "\n",
        "# === DEĞERLENDİRME ===\n",
        "from sklearn.metrics import f1_score, confusion_matrix\n",
        "import pandas as pd\n",
        "\n",
        "def evaluate_results(defect_paths, good_paths, q95_threshold):\n",
        "    all_scores = []\n",
        "    all_labels = []\n",
        "    all_preds = []\n",
        "    all_ious = []\n",
        "    image_names = []\n",
        "\n",
        "    for img_path in tqdm(defect_paths + good_paths):\n",
        "        is_defect = img_path in defect_paths\n",
        "        img_name = os.path.basename(img_path)\n",
        "        image_names.append(img_name)\n",
        "        anomaly_map, anomaly_score, binary_mask = process_image(img_path, is_defect=is_defect, threshold=q95_threshold)\n",
        "\n",
        "        # Ground truth mask varsa IOU hesapla\n",
        "        gt_mask = None\n",
        "        if is_defect:\n",
        "            gt_path = os.path.join(gt_dir, f\"{os.path.splitext(img_name)[0]}.png\")\n",
        "            if os.path.exists(gt_path):\n",
        "                gt = cv2.imread(gt_path, cv2.IMREAD_GRAYSCALE)\n",
        "                gt = cv2.resize(gt, (252, 252))\n",
        "                gt_mask = (gt > 127).astype(np.uint8)\n",
        "\n",
        "        if gt_mask is not None:\n",
        "            intersection = np.logical_and(binary_mask, gt_mask).sum()\n",
        "            union = np.logical_or(binary_mask, gt_mask).sum()\n",
        "            iou = intersection / union if union != 0 else 0.0\n",
        "        else:\n",
        "            iou = np.nan\n",
        "\n",
        "        all_scores.append(anomaly_score)\n",
        "        all_labels.append(1 if is_defect else 0)\n",
        "        all_preds.append(1 if anomaly_score > q95_threshold else 0)\n",
        "        all_ious.append(iou)\n",
        "\n",
        "        print(f\"{img_name}: Anomaly Score = {anomaly_score:.4f}, IOU = {iou:.4f}\")\n",
        "\n",
        "    # Skorları yazdır\n",
        "    df = pd.DataFrame({\n",
        "        \"Image\": image_names,\n",
        "        \"Anomaly Score\": all_scores,\n",
        "        \"True Label\": all_labels,\n",
        "        \"Predicted Label\": all_preds,\n",
        "        \"IoU\": all_ious\n",
        "    })\n",
        "    print(\"\\n📄 Sonuç Tablosu:\")\n",
        "    print(df)\n",
        "\n",
        "    f1 = f1_score(all_labels, all_preds)\n",
        "    cm = confusion_matrix(all_labels, all_preds)\n",
        "    print(f\"\\n🎯 F1 Skoru: {f1:.4f}\")\n",
        "    print(\"Confusion Matrix:\")\n",
        "    print(cm)\n",
        "\n",
        "# Ana fonksiyonu çağır\n",
        "process_dataset()\n",
        ""
      ],
      "metadata": {
        "id": "cwubOEZQmemg",
        "colab": {
          "base_uri": "https://localhost:8080/"
        },
        "outputId": "1d37fd68-22a8-4079-85e6-223d9649e4df"
      },
      "execution_count": 22,
      "outputs": [
        {
          "output_type": "stream",
          "name": "stdout",
          "text": [
            "Cihaz: cuda\n",
            "✅ Doğrudan state_dict yüklendi.\n",
            "Model yüklendi!\n",
            "\n",
            "=== DEFECT GÖRÜNTÜLERİNİ İŞLEME ===\n",
            "\n",
            "🔍 Threshold aralığı belirlemek için tüm görüntüler taranıyor...\n"
          ]
        },
        {
          "output_type": "stream",
          "name": "stderr",
          "text": [
            "100%|██████████| 141/141 [00:18<00:00,  7.82it/s]\n"
          ]
        },
        {
          "output_type": "stream",
          "name": "stdout",
          "text": [
            "📌 En iyi threshold: 0.5840 (F1 = 0.8116)\n",
            "\n",
            "🎯 En iyi threshold ile görüntüler yeniden işleniyor: 0.5840\n"
          ]
        },
        {
          "output_type": "stream",
          "name": "stderr",
          "text": [
            "  1%|          | 1/141 [00:00<01:05,  2.14it/s]"
          ]
        },
        {
          "output_type": "stream",
          "name": "stdout",
          "text": [
            "100000000.png: Anomaly Score = 0.5883, IOU = 0.2231\n"
          ]
        },
        {
          "output_type": "stream",
          "name": "stderr",
          "text": [
            "\r  1%|▏         | 2/141 [00:02<02:50,  1.23s/it]"
          ]
        },
        {
          "output_type": "stream",
          "name": "stdout",
          "text": [
            "100000003.png: Anomaly Score = 0.6310, IOU = 0.1381\n"
          ]
        },
        {
          "output_type": "stream",
          "name": "stderr",
          "text": [
            "\r  2%|▏         | 3/141 [00:02<02:01,  1.14it/s]"
          ]
        },
        {
          "output_type": "stream",
          "name": "stdout",
          "text": [
            "100000006.png: Anomaly Score = 0.6404, IOU = 0.1335\n"
          ]
        },
        {
          "output_type": "stream",
          "name": "stderr",
          "text": [
            "\r  3%|▎         | 4/141 [00:03<01:38,  1.40it/s]"
          ]
        },
        {
          "output_type": "stream",
          "name": "stdout",
          "text": [
            "100000007.png: Anomaly Score = 0.7167, IOU = 0.3003\n"
          ]
        },
        {
          "output_type": "stream",
          "name": "stderr",
          "text": [
            "\r  4%|▎         | 5/141 [00:03<01:25,  1.59it/s]"
          ]
        },
        {
          "output_type": "stream",
          "name": "stdout",
          "text": [
            "100000008.png: Anomaly Score = 0.5843, IOU = 0.3354\n"
          ]
        },
        {
          "output_type": "stream",
          "name": "stderr",
          "text": [
            "\r  4%|▍         | 6/141 [00:04<01:17,  1.75it/s]"
          ]
        },
        {
          "output_type": "stream",
          "name": "stdout",
          "text": [
            "100000009.png: Anomaly Score = 0.5755, IOU = 0.2418\n"
          ]
        },
        {
          "output_type": "stream",
          "name": "stderr",
          "text": [
            "\r  5%|▍         | 7/141 [00:04<01:11,  1.86it/s]"
          ]
        },
        {
          "output_type": "stream",
          "name": "stdout",
          "text": [
            "100000012.png: Anomaly Score = 0.5978, IOU = 0.2779\n"
          ]
        },
        {
          "output_type": "stream",
          "name": "stderr",
          "text": [
            "\r  6%|▌         | 8/141 [00:05<01:08,  1.94it/s]"
          ]
        },
        {
          "output_type": "stream",
          "name": "stdout",
          "text": [
            "100000014.png: Anomaly Score = 0.6509, IOU = 0.4794\n"
          ]
        },
        {
          "output_type": "stream",
          "name": "stderr",
          "text": [
            "\r  6%|▋         | 9/141 [00:05<01:06,  2.00it/s]"
          ]
        },
        {
          "output_type": "stream",
          "name": "stdout",
          "text": [
            "100000016.png: Anomaly Score = 0.6021, IOU = 0.1446\n"
          ]
        },
        {
          "output_type": "stream",
          "name": "stderr",
          "text": [
            "\r  7%|▋         | 10/141 [00:05<01:04,  2.04it/s]"
          ]
        },
        {
          "output_type": "stream",
          "name": "stdout",
          "text": [
            "100000018.png: Anomaly Score = 0.6151, IOU = 0.4076\n"
          ]
        },
        {
          "output_type": "stream",
          "name": "stderr",
          "text": [
            "\r  8%|▊         | 11/141 [00:06<01:02,  2.07it/s]"
          ]
        },
        {
          "output_type": "stream",
          "name": "stdout",
          "text": [
            "100000020.png: Anomaly Score = 0.5783, IOU = 0.0000\n"
          ]
        },
        {
          "output_type": "stream",
          "name": "stderr",
          "text": [
            "\r  9%|▊         | 12/141 [00:06<01:01,  2.09it/s]"
          ]
        },
        {
          "output_type": "stream",
          "name": "stdout",
          "text": [
            "100000021.png: Anomaly Score = 0.6388, IOU = 0.3460\n"
          ]
        },
        {
          "output_type": "stream",
          "name": "stderr",
          "text": [
            "\r  9%|▉         | 13/141 [00:07<01:00,  2.10it/s]"
          ]
        },
        {
          "output_type": "stream",
          "name": "stdout",
          "text": [
            "100000056.png: Anomaly Score = 0.6385, IOU = 0.2429\n"
          ]
        },
        {
          "output_type": "stream",
          "name": "stderr",
          "text": [
            "\r 10%|▉         | 14/141 [00:07<01:00,  2.10it/s]"
          ]
        },
        {
          "output_type": "stream",
          "name": "stdout",
          "text": [
            "100000069.png: Anomaly Score = 0.6166, IOU = 0.0448\n"
          ]
        },
        {
          "output_type": "stream",
          "name": "stderr",
          "text": [
            "\r 11%|█         | 15/141 [00:08<00:59,  2.12it/s]"
          ]
        },
        {
          "output_type": "stream",
          "name": "stdout",
          "text": [
            "100000071.png: Anomaly Score = 0.5781, IOU = 0.0000\n"
          ]
        },
        {
          "output_type": "stream",
          "name": "stderr",
          "text": [
            "\r 11%|█▏        | 16/141 [00:08<00:58,  2.12it/s]"
          ]
        },
        {
          "output_type": "stream",
          "name": "stdout",
          "text": [
            "100000073.png: Anomaly Score = 0.6978, IOU = 0.1889\n"
          ]
        },
        {
          "output_type": "stream",
          "name": "stderr",
          "text": [
            "\r 12%|█▏        | 17/141 [00:09<00:58,  2.12it/s]"
          ]
        },
        {
          "output_type": "stream",
          "name": "stdout",
          "text": [
            "100100002.png: Anomaly Score = 0.6476, IOU = 0.1374\n"
          ]
        },
        {
          "output_type": "stream",
          "name": "stderr",
          "text": [
            "\r 13%|█▎        | 18/141 [00:09<00:57,  2.12it/s]"
          ]
        },
        {
          "output_type": "stream",
          "name": "stdout",
          "text": [
            "100100003.png: Anomaly Score = 0.5676, IOU = 0.1326\n"
          ]
        },
        {
          "output_type": "stream",
          "name": "stderr",
          "text": [
            "\r 13%|█▎        | 19/141 [00:10<00:58,  2.10it/s]"
          ]
        },
        {
          "output_type": "stream",
          "name": "stdout",
          "text": [
            "100100004.png: Anomaly Score = 0.6219, IOU = 0.2457\n"
          ]
        },
        {
          "output_type": "stream",
          "name": "stderr",
          "text": [
            "\r 14%|█▍        | 20/141 [00:10<01:06,  1.81it/s]"
          ]
        },
        {
          "output_type": "stream",
          "name": "stdout",
          "text": [
            "100100005.png: Anomaly Score = 0.5529, IOU = 0.0000\n"
          ]
        },
        {
          "output_type": "stream",
          "name": "stderr",
          "text": [
            "\r 15%|█▍        | 21/141 [00:11<01:03,  1.88it/s]"
          ]
        },
        {
          "output_type": "stream",
          "name": "stdout",
          "text": [
            "100100008.png: Anomaly Score = 0.6562, IOU = 0.2833\n"
          ]
        },
        {
          "output_type": "stream",
          "name": "stderr",
          "text": [
            "\r 16%|█▌        | 22/141 [00:11<01:01,  1.95it/s]"
          ]
        },
        {
          "output_type": "stream",
          "name": "stdout",
          "text": [
            "100100026.png: Anomaly Score = 0.6057, IOU = 0.3116\n"
          ]
        },
        {
          "output_type": "stream",
          "name": "stderr",
          "text": [
            "\r 16%|█▋        | 23/141 [00:12<00:58,  2.00it/s]"
          ]
        },
        {
          "output_type": "stream",
          "name": "stdout",
          "text": [
            "100100027.png: Anomaly Score = 0.6032, IOU = 0.1869\n"
          ]
        },
        {
          "output_type": "stream",
          "name": "stderr",
          "text": [
            "\r 17%|█▋        | 24/141 [00:12<00:57,  2.04it/s]"
          ]
        },
        {
          "output_type": "stream",
          "name": "stdout",
          "text": [
            "100100033.png: Anomaly Score = 0.6585, IOU = 0.2342\n"
          ]
        },
        {
          "output_type": "stream",
          "name": "stderr",
          "text": [
            "\r 18%|█▊        | 25/141 [00:13<00:55,  2.07it/s]"
          ]
        },
        {
          "output_type": "stream",
          "name": "stdout",
          "text": [
            "100100034.png: Anomaly Score = 0.5452, IOU = 0.0000\n"
          ]
        },
        {
          "output_type": "stream",
          "name": "stderr",
          "text": [
            "\r 18%|█▊        | 26/141 [00:13<00:55,  2.09it/s]"
          ]
        },
        {
          "output_type": "stream",
          "name": "stdout",
          "text": [
            "100100035.png: Anomaly Score = 0.6187, IOU = 0.1823\n"
          ]
        },
        {
          "output_type": "stream",
          "name": "stderr",
          "text": [
            "\r 19%|█▉        | 27/141 [00:14<00:54,  2.08it/s]"
          ]
        },
        {
          "output_type": "stream",
          "name": "stdout",
          "text": [
            "100100036.png: Anomaly Score = 0.5752, IOU = 0.1250\n"
          ]
        },
        {
          "output_type": "stream",
          "name": "stderr",
          "text": [
            "\r 20%|█▉        | 28/141 [00:14<00:53,  2.10it/s]"
          ]
        },
        {
          "output_type": "stream",
          "name": "stdout",
          "text": [
            "100100037.png: Anomaly Score = 0.6298, IOU = 0.2568\n"
          ]
        },
        {
          "output_type": "stream",
          "name": "stderr",
          "text": [
            "\r 21%|██        | 29/141 [00:15<00:53,  2.11it/s]"
          ]
        },
        {
          "output_type": "stream",
          "name": "stdout",
          "text": [
            "100100038.png: Anomaly Score = 0.5677, IOU = 0.3130\n"
          ]
        },
        {
          "output_type": "stream",
          "name": "stderr",
          "text": [
            "\r 21%|██▏       | 30/141 [00:15<00:52,  2.13it/s]"
          ]
        },
        {
          "output_type": "stream",
          "name": "stdout",
          "text": [
            "100100039.png: Anomaly Score = 0.5851, IOU = 0.0294\n"
          ]
        },
        {
          "output_type": "stream",
          "name": "stderr",
          "text": [
            "\r 22%|██▏       | 31/141 [00:16<00:51,  2.13it/s]"
          ]
        },
        {
          "output_type": "stream",
          "name": "stdout",
          "text": [
            "100100043.png: Anomaly Score = 0.6205, IOU = 0.2319\n"
          ]
        },
        {
          "output_type": "stream",
          "name": "stderr",
          "text": [
            "\r 23%|██▎       | 32/141 [00:16<00:51,  2.13it/s]"
          ]
        },
        {
          "output_type": "stream",
          "name": "stdout",
          "text": [
            "100100048.png: Anomaly Score = 0.6013, IOU = 0.2117\n"
          ]
        },
        {
          "output_type": "stream",
          "name": "stderr",
          "text": [
            "\r 23%|██▎       | 33/141 [00:17<00:50,  2.13it/s]"
          ]
        },
        {
          "output_type": "stream",
          "name": "stdout",
          "text": [
            "100100071.png: Anomaly Score = 0.5884, IOU = 0.0093\n"
          ]
        },
        {
          "output_type": "stream",
          "name": "stderr",
          "text": [
            "\r 24%|██▍       | 34/141 [00:17<00:50,  2.13it/s]"
          ]
        },
        {
          "output_type": "stream",
          "name": "stdout",
          "text": [
            "100400000.png: Anomaly Score = 0.6770, IOU = 0.3959\n"
          ]
        },
        {
          "output_type": "stream",
          "name": "stderr",
          "text": [
            "\r 25%|██▍       | 35/141 [00:17<00:49,  2.14it/s]"
          ]
        },
        {
          "output_type": "stream",
          "name": "stdout",
          "text": [
            "100500011.png: Anomaly Score = 0.5772, IOU = 0.0278\n"
          ]
        },
        {
          "output_type": "stream",
          "name": "stderr",
          "text": [
            "\r 26%|██▌       | 36/141 [00:18<00:49,  2.12it/s]"
          ]
        },
        {
          "output_type": "stream",
          "name": "stdout",
          "text": [
            "100500053.png: Anomaly Score = 0.6443, IOU = 0.0000\n"
          ]
        },
        {
          "output_type": "stream",
          "name": "stderr",
          "text": [
            "\r 26%|██▌       | 37/141 [00:18<00:48,  2.13it/s]"
          ]
        },
        {
          "output_type": "stream",
          "name": "stdout",
          "text": [
            "100700037.png: Anomaly Score = 0.5736, IOU = 0.0000\n"
          ]
        },
        {
          "output_type": "stream",
          "name": "stderr",
          "text": [
            "\r 27%|██▋       | 38/141 [00:19<00:49,  2.06it/s]"
          ]
        },
        {
          "output_type": "stream",
          "name": "stdout",
          "text": [
            "100700054.png: Anomaly Score = 0.6397, IOU = 0.0286\n"
          ]
        },
        {
          "output_type": "stream",
          "name": "stderr",
          "text": [
            "\r 28%|██▊       | 39/141 [00:19<00:48,  2.09it/s]"
          ]
        },
        {
          "output_type": "stream",
          "name": "stdout",
          "text": [
            "101100012.png: Anomaly Score = 0.5944, IOU = 0.1031\n"
          ]
        },
        {
          "output_type": "stream",
          "name": "stderr",
          "text": [
            "\r 28%|██▊       | 40/141 [00:20<00:48,  2.08it/s]"
          ]
        },
        {
          "output_type": "stream",
          "name": "stdout",
          "text": [
            "101100013.png: Anomaly Score = 0.6420, IOU = 0.0429\n"
          ]
        },
        {
          "output_type": "stream",
          "name": "stderr",
          "text": [
            "\r 29%|██▉       | 41/141 [00:20<00:48,  2.06it/s]"
          ]
        },
        {
          "output_type": "stream",
          "name": "stdout",
          "text": [
            "101100052.png: Anomaly Score = 0.6825, IOU = 0.0151\n"
          ]
        },
        {
          "output_type": "stream",
          "name": "stderr",
          "text": [
            "\r 30%|██▉       | 42/141 [00:21<00:58,  1.70it/s]"
          ]
        },
        {
          "output_type": "stream",
          "name": "stdout",
          "text": [
            "101100059.png: Anomaly Score = 0.7403, IOU = 0.0173\n"
          ]
        },
        {
          "output_type": "stream",
          "name": "stderr",
          "text": [
            "\r 30%|███       | 43/141 [00:22<00:54,  1.81it/s]"
          ]
        },
        {
          "output_type": "stream",
          "name": "stdout",
          "text": [
            "101100062.png: Anomaly Score = 0.6532, IOU = 0.1438\n"
          ]
        },
        {
          "output_type": "stream",
          "name": "stderr",
          "text": [
            "\r 31%|███       | 44/141 [00:22<00:51,  1.89it/s]"
          ]
        },
        {
          "output_type": "stream",
          "name": "stdout",
          "text": [
            "101100083.png: Anomaly Score = 0.6345, IOU = 0.2115\n"
          ]
        },
        {
          "output_type": "stream",
          "name": "stderr",
          "text": [
            "\r 32%|███▏      | 45/141 [00:23<00:49,  1.96it/s]"
          ]
        },
        {
          "output_type": "stream",
          "name": "stdout",
          "text": [
            "101500001.png: Anomaly Score = 0.5748, IOU = 0.0391\n"
          ]
        },
        {
          "output_type": "stream",
          "name": "stderr",
          "text": [
            "\r 33%|███▎      | 46/141 [00:23<00:47,  1.99it/s]"
          ]
        },
        {
          "output_type": "stream",
          "name": "stdout",
          "text": [
            "101500002.png: Anomaly Score = 0.5767, IOU = 0.0481\n"
          ]
        },
        {
          "output_type": "stream",
          "name": "stderr",
          "text": [
            "\r 33%|███▎      | 47/141 [00:24<00:46,  2.00it/s]"
          ]
        },
        {
          "output_type": "stream",
          "name": "stdout",
          "text": [
            "101500054.png: Anomaly Score = 0.5806, IOU = 0.1233\n"
          ]
        },
        {
          "output_type": "stream",
          "name": "stderr",
          "text": [
            "\r 34%|███▍      | 48/141 [00:24<00:45,  2.04it/s]"
          ]
        },
        {
          "output_type": "stream",
          "name": "stdout",
          "text": [
            "101700027.png: Anomaly Score = 0.6417, IOU = 0.2659\n"
          ]
        },
        {
          "output_type": "stream",
          "name": "stderr",
          "text": [
            "\r 35%|███▍      | 49/141 [00:25<00:44,  2.07it/s]"
          ]
        },
        {
          "output_type": "stream",
          "name": "stdout",
          "text": [
            "101800000.png: Anomaly Score = 0.6059, IOU = 0.3548\n"
          ]
        },
        {
          "output_type": "stream",
          "name": "stderr",
          "text": [
            "\r 35%|███▌      | 50/141 [00:25<00:43,  2.08it/s]"
          ]
        },
        {
          "output_type": "stream",
          "name": "stdout",
          "text": [
            "101800003.png: Anomaly Score = 0.6611, IOU = 0.2461\n"
          ]
        },
        {
          "output_type": "stream",
          "name": "stderr",
          "text": [
            "\r 36%|███▌      | 51/141 [00:25<00:42,  2.10it/s]"
          ]
        },
        {
          "output_type": "stream",
          "name": "stdout",
          "text": [
            "101900001.png: Anomaly Score = 0.6132, IOU = 0.1858\n"
          ]
        },
        {
          "output_type": "stream",
          "name": "stderr",
          "text": [
            "\r 37%|███▋      | 52/141 [00:26<00:42,  2.11it/s]"
          ]
        },
        {
          "output_type": "stream",
          "name": "stdout",
          "text": [
            "101900002.png: Anomaly Score = 0.5990, IOU = 0.1644\n"
          ]
        },
        {
          "output_type": "stream",
          "name": "stderr",
          "text": [
            "\r 38%|███▊      | 53/141 [00:26<00:41,  2.12it/s]"
          ]
        },
        {
          "output_type": "stream",
          "name": "stdout",
          "text": [
            "101900003.png: Anomaly Score = 0.5910, IOU = 0.0056\n"
          ]
        },
        {
          "output_type": "stream",
          "name": "stderr",
          "text": [
            "\r 38%|███▊      | 54/141 [00:27<00:40,  2.13it/s]"
          ]
        },
        {
          "output_type": "stream",
          "name": "stdout",
          "text": [
            "101900004.png: Anomaly Score = 0.5844, IOU = 0.1044\n"
          ]
        },
        {
          "output_type": "stream",
          "name": "stderr",
          "text": [
            "\r 39%|███▉      | 55/141 [00:27<00:40,  2.13it/s]"
          ]
        },
        {
          "output_type": "stream",
          "name": "stdout",
          "text": [
            "101900005.png: Anomaly Score = 0.6107, IOU = 0.1659\n"
          ]
        },
        {
          "output_type": "stream",
          "name": "stderr",
          "text": [
            "\r 40%|███▉      | 56/141 [00:28<00:39,  2.13it/s]"
          ]
        },
        {
          "output_type": "stream",
          "name": "stdout",
          "text": [
            "101900007.png: Anomaly Score = 0.6167, IOU = 0.3483\n"
          ]
        },
        {
          "output_type": "stream",
          "name": "stderr",
          "text": [
            "\r 40%|████      | 57/141 [00:28<00:39,  2.14it/s]"
          ]
        },
        {
          "output_type": "stream",
          "name": "stdout",
          "text": [
            "101900009.png: Anomaly Score = 0.5662, IOU = 0.0000\n"
          ]
        },
        {
          "output_type": "stream",
          "name": "stderr",
          "text": [
            "\r 41%|████      | 58/141 [00:29<00:38,  2.14it/s]"
          ]
        },
        {
          "output_type": "stream",
          "name": "stdout",
          "text": [
            "101900010.png: Anomaly Score = 0.5996, IOU = 0.2175\n"
          ]
        },
        {
          "output_type": "stream",
          "name": "stderr",
          "text": [
            "\r 42%|████▏     | 59/141 [00:29<00:38,  2.15it/s]"
          ]
        },
        {
          "output_type": "stream",
          "name": "stdout",
          "text": [
            "101900012.png: Anomaly Score = 0.5924, IOU = 0.1040\n"
          ]
        },
        {
          "output_type": "stream",
          "name": "stderr",
          "text": [
            "\r 43%|████▎     | 60/141 [00:30<00:37,  2.14it/s]"
          ]
        },
        {
          "output_type": "stream",
          "name": "stdout",
          "text": [
            "101900013.png: Anomaly Score = 0.6207, IOU = 0.0018\n"
          ]
        },
        {
          "output_type": "stream",
          "name": "stderr",
          "text": [
            "\r 43%|████▎     | 61/141 [00:30<00:37,  2.13it/s]"
          ]
        },
        {
          "output_type": "stream",
          "name": "stdout",
          "text": [
            "101900016.png: Anomaly Score = 0.6327, IOU = 0.2156\n"
          ]
        },
        {
          "output_type": "stream",
          "name": "stderr",
          "text": [
            "\r 44%|████▍     | 62/141 [00:31<00:37,  2.13it/s]"
          ]
        },
        {
          "output_type": "stream",
          "name": "stdout",
          "text": [
            "101900017.png: Anomaly Score = 0.6153, IOU = 0.1288\n"
          ]
        },
        {
          "output_type": "stream",
          "name": "stderr",
          "text": [
            "\r 45%|████▍     | 63/141 [00:31<00:36,  2.13it/s]"
          ]
        },
        {
          "output_type": "stream",
          "name": "stdout",
          "text": [
            "103200049.png: Anomaly Score = 0.6366, IOU = 0.1011\n"
          ]
        },
        {
          "output_type": "stream",
          "name": "stderr",
          "text": [
            "\r 45%|████▌     | 64/141 [00:32<00:36,  2.13it/s]"
          ]
        },
        {
          "output_type": "stream",
          "name": "stdout",
          "text": [
            "103200050.png: Anomaly Score = 0.5547, IOU = 0.0000\n"
          ]
        },
        {
          "output_type": "stream",
          "name": "stderr",
          "text": [
            "\r 46%|████▌     | 65/141 [00:32<00:35,  2.15it/s]"
          ]
        },
        {
          "output_type": "stream",
          "name": "stdout",
          "text": [
            "103200067.png: Anomaly Score = 0.6730, IOU = 0.2445\n"
          ]
        },
        {
          "output_type": "stream",
          "name": "stderr",
          "text": [
            "\r 47%|████▋     | 66/141 [00:32<00:35,  2.14it/s]"
          ]
        },
        {
          "output_type": "stream",
          "name": "stdout",
          "text": [
            "103200070.png: Anomaly Score = 0.6553, IOU = 0.2367\n"
          ]
        },
        {
          "output_type": "stream",
          "name": "stderr",
          "text": [
            "\r 48%|████▊     | 67/141 [00:33<00:34,  2.14it/s]"
          ]
        },
        {
          "output_type": "stream",
          "name": "stdout",
          "text": [
            "103400051.png: Anomaly Score = 0.6507, IOU = 0.4466\n"
          ]
        },
        {
          "output_type": "stream",
          "name": "stderr",
          "text": [
            "\r 48%|████▊     | 68/141 [00:33<00:34,  2.14it/s]"
          ]
        },
        {
          "output_type": "stream",
          "name": "stdout",
          "text": [
            "103400075.png: Anomaly Score = 0.5935, IOU = 0.1438\n"
          ]
        },
        {
          "output_type": "stream",
          "name": "stderr",
          "text": [
            "\r 49%|████▉     | 69/141 [00:34<00:33,  2.13it/s]"
          ]
        },
        {
          "output_type": "stream",
          "name": "stdout",
          "text": [
            "103400076.png: Anomaly Score = 0.6165, IOU = 0.2283\n"
          ]
        },
        {
          "output_type": "stream",
          "name": "stderr",
          "text": [
            "\r 50%|████▉     | 70/141 [00:35<00:43,  1.64it/s]"
          ]
        },
        {
          "output_type": "stream",
          "name": "stdout",
          "text": [
            "103500050.png: Anomaly Score = 0.5956, IOU = 0.2856\n"
          ]
        },
        {
          "output_type": "stream",
          "name": "stderr",
          "text": [
            "\r 50%|█████     | 71/141 [00:35<00:39,  1.76it/s]"
          ]
        },
        {
          "output_type": "stream",
          "name": "stdout",
          "text": [
            "99900015.png: Anomaly Score = 0.5908, IOU = 0.0829\n"
          ]
        },
        {
          "output_type": "stream",
          "name": "stderr",
          "text": [
            "\r 51%|█████     | 72/141 [00:36<00:38,  1.80it/s]"
          ]
        },
        {
          "output_type": "stream",
          "name": "stdout",
          "text": [
            "100.png: Anomaly Score = 0.5353, IOU = nan\n"
          ]
        },
        {
          "output_type": "stream",
          "name": "stderr",
          "text": [
            "\r 52%|█████▏    | 73/141 [00:36<00:37,  1.83it/s]"
          ]
        },
        {
          "output_type": "stream",
          "name": "stdout",
          "text": [
            "101.png: Anomaly Score = 0.7460, IOU = nan\n"
          ]
        },
        {
          "output_type": "stream",
          "name": "stderr",
          "text": [
            "\r 52%|█████▏    | 74/141 [00:37<00:36,  1.85it/s]"
          ]
        },
        {
          "output_type": "stream",
          "name": "stdout",
          "text": [
            "102.png: Anomaly Score = 0.5682, IOU = nan\n"
          ]
        },
        {
          "output_type": "stream",
          "name": "stderr",
          "text": [
            "\r 53%|█████▎    | 75/141 [00:37<00:35,  1.87it/s]"
          ]
        },
        {
          "output_type": "stream",
          "name": "stdout",
          "text": [
            "103.png: Anomaly Score = 0.5703, IOU = nan\n"
          ]
        },
        {
          "output_type": "stream",
          "name": "stderr",
          "text": [
            "\r 54%|█████▍    | 76/141 [00:38<00:34,  1.88it/s]"
          ]
        },
        {
          "output_type": "stream",
          "name": "stdout",
          "text": [
            "104.png: Anomaly Score = 0.5419, IOU = nan\n"
          ]
        },
        {
          "output_type": "stream",
          "name": "stderr",
          "text": [
            "\r 55%|█████▍    | 77/141 [00:38<00:33,  1.89it/s]"
          ]
        },
        {
          "output_type": "stream",
          "name": "stdout",
          "text": [
            "105.png: Anomaly Score = 0.5474, IOU = nan\n"
          ]
        },
        {
          "output_type": "stream",
          "name": "stderr",
          "text": [
            "\r 55%|█████▌    | 78/141 [00:39<00:33,  1.89it/s]"
          ]
        },
        {
          "output_type": "stream",
          "name": "stdout",
          "text": [
            "106.png: Anomaly Score = 0.5461, IOU = nan\n"
          ]
        },
        {
          "output_type": "stream",
          "name": "stderr",
          "text": [
            "\r 56%|█████▌    | 79/141 [00:40<00:32,  1.90it/s]"
          ]
        },
        {
          "output_type": "stream",
          "name": "stdout",
          "text": [
            "107.png: Anomaly Score = 0.5644, IOU = nan\n"
          ]
        },
        {
          "output_type": "stream",
          "name": "stderr",
          "text": [
            "\r 57%|█████▋    | 80/141 [00:40<00:32,  1.90it/s]"
          ]
        },
        {
          "output_type": "stream",
          "name": "stdout",
          "text": [
            "108.png: Anomaly Score = 0.5677, IOU = nan\n"
          ]
        },
        {
          "output_type": "stream",
          "name": "stderr",
          "text": [
            "\r 57%|█████▋    | 81/141 [00:41<00:31,  1.89it/s]"
          ]
        },
        {
          "output_type": "stream",
          "name": "stdout",
          "text": [
            "109.png: Anomaly Score = 0.5304, IOU = nan\n"
          ]
        },
        {
          "output_type": "stream",
          "name": "stderr",
          "text": [
            "\r 58%|█████▊    | 82/141 [00:41<00:31,  1.89it/s]"
          ]
        },
        {
          "output_type": "stream",
          "name": "stdout",
          "text": [
            "110.png: Anomaly Score = 0.5386, IOU = nan\n"
          ]
        },
        {
          "output_type": "stream",
          "name": "stderr",
          "text": [
            "\r 59%|█████▉    | 83/141 [00:42<00:30,  1.89it/s]"
          ]
        },
        {
          "output_type": "stream",
          "name": "stdout",
          "text": [
            "111.png: Anomaly Score = 0.5610, IOU = nan\n"
          ]
        },
        {
          "output_type": "stream",
          "name": "stderr",
          "text": [
            "\r 60%|█████▉    | 84/141 [00:42<00:30,  1.89it/s]"
          ]
        },
        {
          "output_type": "stream",
          "name": "stdout",
          "text": [
            "112.png: Anomaly Score = 0.5564, IOU = nan\n"
          ]
        },
        {
          "output_type": "stream",
          "name": "stderr",
          "text": [
            "\r 60%|██████    | 85/141 [00:43<00:29,  1.89it/s]"
          ]
        },
        {
          "output_type": "stream",
          "name": "stdout",
          "text": [
            "113.png: Anomaly Score = 0.5698, IOU = nan\n"
          ]
        },
        {
          "output_type": "stream",
          "name": "stderr",
          "text": [
            "\r 61%|██████    | 86/141 [00:43<00:29,  1.89it/s]"
          ]
        },
        {
          "output_type": "stream",
          "name": "stdout",
          "text": [
            "114.png: Anomaly Score = 0.5720, IOU = nan\n"
          ]
        },
        {
          "output_type": "stream",
          "name": "stderr",
          "text": [
            "\r 62%|██████▏   | 87/141 [00:44<00:28,  1.89it/s]"
          ]
        },
        {
          "output_type": "stream",
          "name": "stdout",
          "text": [
            "115.png: Anomaly Score = 0.5603, IOU = nan\n"
          ]
        },
        {
          "output_type": "stream",
          "name": "stderr",
          "text": [
            "\r 62%|██████▏   | 88/141 [00:44<00:27,  1.90it/s]"
          ]
        },
        {
          "output_type": "stream",
          "name": "stdout",
          "text": [
            "116.png: Anomaly Score = 0.5616, IOU = nan\n"
          ]
        },
        {
          "output_type": "stream",
          "name": "stderr",
          "text": [
            "\r 63%|██████▎   | 89/141 [00:45<00:27,  1.90it/s]"
          ]
        },
        {
          "output_type": "stream",
          "name": "stdout",
          "text": [
            "117.png: Anomaly Score = 0.5618, IOU = nan\n"
          ]
        },
        {
          "output_type": "stream",
          "name": "stderr",
          "text": [
            "\r 64%|██████▍   | 90/141 [00:45<00:26,  1.90it/s]"
          ]
        },
        {
          "output_type": "stream",
          "name": "stdout",
          "text": [
            "118.png: Anomaly Score = 0.6042, IOU = nan\n"
          ]
        },
        {
          "output_type": "stream",
          "name": "stderr",
          "text": [
            "\r 65%|██████▍   | 91/141 [00:46<00:26,  1.90it/s]"
          ]
        },
        {
          "output_type": "stream",
          "name": "stdout",
          "text": [
            "119.png: Anomaly Score = 0.5767, IOU = nan\n"
          ]
        },
        {
          "output_type": "stream",
          "name": "stderr",
          "text": [
            "\r 65%|██████▌   | 92/141 [00:46<00:25,  1.90it/s]"
          ]
        },
        {
          "output_type": "stream",
          "name": "stdout",
          "text": [
            "120.png: Anomaly Score = 0.5936, IOU = nan\n"
          ]
        },
        {
          "output_type": "stream",
          "name": "stderr",
          "text": [
            "\r 66%|██████▌   | 93/141 [00:47<00:25,  1.90it/s]"
          ]
        },
        {
          "output_type": "stream",
          "name": "stdout",
          "text": [
            "121.png: Anomaly Score = 0.5746, IOU = nan\n"
          ]
        },
        {
          "output_type": "stream",
          "name": "stderr",
          "text": [
            "\r 67%|██████▋   | 94/141 [00:47<00:25,  1.88it/s]"
          ]
        },
        {
          "output_type": "stream",
          "name": "stdout",
          "text": [
            "122.png: Anomaly Score = 0.5658, IOU = nan\n"
          ]
        },
        {
          "output_type": "stream",
          "name": "stderr",
          "text": [
            "\r 67%|██████▋   | 95/141 [00:48<00:24,  1.89it/s]"
          ]
        },
        {
          "output_type": "stream",
          "name": "stdout",
          "text": [
            "123.png: Anomaly Score = 0.5557, IOU = nan\n"
          ]
        },
        {
          "output_type": "stream",
          "name": "stderr",
          "text": [
            "\r 68%|██████▊   | 96/141 [00:48<00:23,  1.90it/s]"
          ]
        },
        {
          "output_type": "stream",
          "name": "stdout",
          "text": [
            "124.png: Anomaly Score = 0.6968, IOU = nan\n"
          ]
        },
        {
          "output_type": "stream",
          "name": "stderr",
          "text": [
            "\r 69%|██████▉   | 97/141 [00:49<00:23,  1.90it/s]"
          ]
        },
        {
          "output_type": "stream",
          "name": "stdout",
          "text": [
            "125.png: Anomaly Score = 0.5835, IOU = nan\n"
          ]
        },
        {
          "output_type": "stream",
          "name": "stderr",
          "text": [
            "\r 70%|██████▉   | 98/141 [00:50<00:22,  1.89it/s]"
          ]
        },
        {
          "output_type": "stream",
          "name": "stdout",
          "text": [
            "126.png: Anomaly Score = 0.5759, IOU = nan\n"
          ]
        },
        {
          "output_type": "stream",
          "name": "stderr",
          "text": [
            "\r 70%|███████   | 99/141 [00:50<00:22,  1.89it/s]"
          ]
        },
        {
          "output_type": "stream",
          "name": "stdout",
          "text": [
            "127.png: Anomaly Score = 0.5694, IOU = nan\n"
          ]
        },
        {
          "output_type": "stream",
          "name": "stderr",
          "text": [
            "\r 71%|███████   | 100/141 [00:51<00:21,  1.88it/s]"
          ]
        },
        {
          "output_type": "stream",
          "name": "stdout",
          "text": [
            "128.png: Anomaly Score = 0.6197, IOU = nan\n"
          ]
        },
        {
          "output_type": "stream",
          "name": "stderr",
          "text": [
            "\r 72%|███████▏  | 101/141 [00:51<00:21,  1.89it/s]"
          ]
        },
        {
          "output_type": "stream",
          "name": "stdout",
          "text": [
            "129.png: Anomaly Score = 0.6099, IOU = nan\n"
          ]
        },
        {
          "output_type": "stream",
          "name": "stderr",
          "text": [
            "\r 72%|███████▏  | 102/141 [00:52<00:20,  1.90it/s]"
          ]
        },
        {
          "output_type": "stream",
          "name": "stdout",
          "text": [
            "130.png: Anomaly Score = 0.5774, IOU = nan\n"
          ]
        },
        {
          "output_type": "stream",
          "name": "stderr",
          "text": [
            "\r 73%|███████▎  | 103/141 [00:52<00:20,  1.90it/s]"
          ]
        },
        {
          "output_type": "stream",
          "name": "stdout",
          "text": [
            "131.png: Anomaly Score = 0.5760, IOU = nan\n"
          ]
        },
        {
          "output_type": "stream",
          "name": "stderr",
          "text": [
            "\r 74%|███████▍  | 104/141 [00:53<00:19,  1.90it/s]"
          ]
        },
        {
          "output_type": "stream",
          "name": "stdout",
          "text": [
            "132.png: Anomaly Score = 0.5623, IOU = nan\n"
          ]
        },
        {
          "output_type": "stream",
          "name": "stderr",
          "text": [
            "\r 74%|███████▍  | 105/141 [00:54<00:25,  1.43it/s]"
          ]
        },
        {
          "output_type": "stream",
          "name": "stdout",
          "text": [
            "133.png: Anomaly Score = 0.5845, IOU = nan\n"
          ]
        },
        {
          "output_type": "stream",
          "name": "stderr",
          "text": [
            "\r 75%|███████▌  | 106/141 [00:54<00:22,  1.54it/s]"
          ]
        },
        {
          "output_type": "stream",
          "name": "stdout",
          "text": [
            "134.png: Anomaly Score = 0.5837, IOU = nan\n"
          ]
        },
        {
          "output_type": "stream",
          "name": "stderr",
          "text": [
            "\r 76%|███████▌  | 107/141 [00:55<00:20,  1.63it/s]"
          ]
        },
        {
          "output_type": "stream",
          "name": "stdout",
          "text": [
            "135.png: Anomaly Score = 0.5863, IOU = nan\n"
          ]
        },
        {
          "output_type": "stream",
          "name": "stderr",
          "text": [
            "\r 77%|███████▋  | 108/141 [00:55<00:19,  1.70it/s]"
          ]
        },
        {
          "output_type": "stream",
          "name": "stdout",
          "text": [
            "136.png: Anomaly Score = 0.5804, IOU = nan\n"
          ]
        },
        {
          "output_type": "stream",
          "name": "stderr",
          "text": [
            "\r 77%|███████▋  | 109/141 [00:56<00:18,  1.76it/s]"
          ]
        },
        {
          "output_type": "stream",
          "name": "stdout",
          "text": [
            "137.png: Anomaly Score = 0.5692, IOU = nan\n"
          ]
        },
        {
          "output_type": "stream",
          "name": "stderr",
          "text": [
            "\r 78%|███████▊  | 110/141 [00:56<00:17,  1.80it/s]"
          ]
        },
        {
          "output_type": "stream",
          "name": "stdout",
          "text": [
            "138.png: Anomaly Score = 0.5637, IOU = nan\n"
          ]
        },
        {
          "output_type": "stream",
          "name": "stderr",
          "text": [
            "\r 79%|███████▊  | 111/141 [00:57<00:16,  1.83it/s]"
          ]
        },
        {
          "output_type": "stream",
          "name": "stdout",
          "text": [
            "139.png: Anomaly Score = 0.5967, IOU = nan\n"
          ]
        },
        {
          "output_type": "stream",
          "name": "stderr",
          "text": [
            "\r 79%|███████▉  | 112/141 [00:57<00:15,  1.85it/s]"
          ]
        },
        {
          "output_type": "stream",
          "name": "stdout",
          "text": [
            "140.png: Anomaly Score = 0.5268, IOU = nan\n"
          ]
        },
        {
          "output_type": "stream",
          "name": "stderr",
          "text": [
            "\r 80%|████████  | 113/141 [00:58<00:15,  1.86it/s]"
          ]
        },
        {
          "output_type": "stream",
          "name": "stdout",
          "text": [
            "71.png: Anomaly Score = 0.5272, IOU = nan\n"
          ]
        },
        {
          "output_type": "stream",
          "name": "stderr",
          "text": [
            "\r 81%|████████  | 114/141 [00:59<00:14,  1.87it/s]"
          ]
        },
        {
          "output_type": "stream",
          "name": "stdout",
          "text": [
            "72.png: Anomaly Score = 0.5451, IOU = nan\n"
          ]
        },
        {
          "output_type": "stream",
          "name": "stderr",
          "text": [
            "\r 82%|████████▏ | 115/141 [00:59<00:13,  1.87it/s]"
          ]
        },
        {
          "output_type": "stream",
          "name": "stdout",
          "text": [
            "73.png: Anomaly Score = 0.5614, IOU = nan\n"
          ]
        },
        {
          "output_type": "stream",
          "name": "stderr",
          "text": [
            "\r 82%|████████▏ | 116/141 [01:00<00:13,  1.85it/s]"
          ]
        },
        {
          "output_type": "stream",
          "name": "stdout",
          "text": [
            "74.png: Anomaly Score = 0.5529, IOU = nan\n"
          ]
        },
        {
          "output_type": "stream",
          "name": "stderr",
          "text": [
            "\r 83%|████████▎ | 117/141 [01:00<00:12,  1.87it/s]"
          ]
        },
        {
          "output_type": "stream",
          "name": "stdout",
          "text": [
            "75.png: Anomaly Score = 0.5682, IOU = nan\n"
          ]
        },
        {
          "output_type": "stream",
          "name": "stderr",
          "text": [
            "\r 84%|████████▎ | 118/141 [01:01<00:12,  1.87it/s]"
          ]
        },
        {
          "output_type": "stream",
          "name": "stdout",
          "text": [
            "76.png: Anomaly Score = 0.5770, IOU = nan\n"
          ]
        },
        {
          "output_type": "stream",
          "name": "stderr",
          "text": [
            "\r 84%|████████▍ | 119/141 [01:01<00:11,  1.88it/s]"
          ]
        },
        {
          "output_type": "stream",
          "name": "stdout",
          "text": [
            "77.png: Anomaly Score = 0.5799, IOU = nan\n"
          ]
        },
        {
          "output_type": "stream",
          "name": "stderr",
          "text": [
            "\r 85%|████████▌ | 120/141 [01:02<00:11,  1.89it/s]"
          ]
        },
        {
          "output_type": "stream",
          "name": "stdout",
          "text": [
            "78.png: Anomaly Score = 0.5474, IOU = nan\n"
          ]
        },
        {
          "output_type": "stream",
          "name": "stderr",
          "text": [
            "\r 86%|████████▌ | 121/141 [01:02<00:10,  1.88it/s]"
          ]
        },
        {
          "output_type": "stream",
          "name": "stdout",
          "text": [
            "79.png: Anomaly Score = 0.5623, IOU = nan\n"
          ]
        },
        {
          "output_type": "stream",
          "name": "stderr",
          "text": [
            "\r 87%|████████▋ | 122/141 [01:03<00:10,  1.88it/s]"
          ]
        },
        {
          "output_type": "stream",
          "name": "stdout",
          "text": [
            "80.png: Anomaly Score = 0.5688, IOU = nan\n"
          ]
        },
        {
          "output_type": "stream",
          "name": "stderr",
          "text": [
            "\r 87%|████████▋ | 123/141 [01:03<00:09,  1.89it/s]"
          ]
        },
        {
          "output_type": "stream",
          "name": "stdout",
          "text": [
            "81.png: Anomaly Score = 0.5568, IOU = nan\n"
          ]
        },
        {
          "output_type": "stream",
          "name": "stderr",
          "text": [
            "\r 88%|████████▊ | 124/141 [01:04<00:08,  1.90it/s]"
          ]
        },
        {
          "output_type": "stream",
          "name": "stdout",
          "text": [
            "82.png: Anomaly Score = 0.5441, IOU = nan\n"
          ]
        },
        {
          "output_type": "stream",
          "name": "stderr",
          "text": [
            "\r 89%|████████▊ | 125/141 [01:04<00:08,  1.90it/s]"
          ]
        },
        {
          "output_type": "stream",
          "name": "stdout",
          "text": [
            "83.png: Anomaly Score = 0.5344, IOU = nan\n"
          ]
        },
        {
          "output_type": "stream",
          "name": "stderr",
          "text": [
            "\r 89%|████████▉ | 126/141 [01:05<00:07,  1.90it/s]"
          ]
        },
        {
          "output_type": "stream",
          "name": "stdout",
          "text": [
            "84.png: Anomaly Score = 0.5617, IOU = nan\n"
          ]
        },
        {
          "output_type": "stream",
          "name": "stderr",
          "text": [
            "\r 90%|█████████ | 127/141 [01:05<00:07,  1.90it/s]"
          ]
        },
        {
          "output_type": "stream",
          "name": "stdout",
          "text": [
            "85.png: Anomaly Score = 0.5435, IOU = nan\n"
          ]
        },
        {
          "output_type": "stream",
          "name": "stderr",
          "text": [
            "\r 91%|█████████ | 128/141 [01:06<00:06,  1.91it/s]"
          ]
        },
        {
          "output_type": "stream",
          "name": "stdout",
          "text": [
            "86.png: Anomaly Score = 0.5767, IOU = nan\n"
          ]
        },
        {
          "output_type": "stream",
          "name": "stderr",
          "text": [
            "\r 91%|█████████▏| 129/141 [01:06<00:06,  1.90it/s]"
          ]
        },
        {
          "output_type": "stream",
          "name": "stdout",
          "text": [
            "87.png: Anomaly Score = 0.5330, IOU = nan\n"
          ]
        },
        {
          "output_type": "stream",
          "name": "stderr",
          "text": [
            "\r 92%|█████████▏| 130/141 [01:07<00:05,  1.91it/s]"
          ]
        },
        {
          "output_type": "stream",
          "name": "stdout",
          "text": [
            "88.png: Anomaly Score = 0.5274, IOU = nan\n"
          ]
        },
        {
          "output_type": "stream",
          "name": "stderr",
          "text": [
            "\r 93%|█████████▎| 131/141 [01:08<00:05,  1.91it/s]"
          ]
        },
        {
          "output_type": "stream",
          "name": "stdout",
          "text": [
            "89.png: Anomaly Score = 0.5711, IOU = nan\n"
          ]
        },
        {
          "output_type": "stream",
          "name": "stderr",
          "text": [
            "\r 94%|█████████▎| 132/141 [01:08<00:04,  1.91it/s]"
          ]
        },
        {
          "output_type": "stream",
          "name": "stdout",
          "text": [
            "90.png: Anomaly Score = 0.5726, IOU = nan\n"
          ]
        },
        {
          "output_type": "stream",
          "name": "stderr",
          "text": [
            "\r 94%|█████████▍| 133/141 [01:09<00:04,  1.91it/s]"
          ]
        },
        {
          "output_type": "stream",
          "name": "stdout",
          "text": [
            "91.png: Anomaly Score = 0.5834, IOU = nan\n"
          ]
        },
        {
          "output_type": "stream",
          "name": "stderr",
          "text": [
            "\r 95%|█████████▌| 134/141 [01:09<00:03,  1.91it/s]"
          ]
        },
        {
          "output_type": "stream",
          "name": "stdout",
          "text": [
            "92.png: Anomaly Score = 0.5514, IOU = nan\n"
          ]
        },
        {
          "output_type": "stream",
          "name": "stderr",
          "text": [
            "\r 96%|█████████▌| 135/141 [01:10<00:03,  1.91it/s]"
          ]
        },
        {
          "output_type": "stream",
          "name": "stdout",
          "text": [
            "93.png: Anomaly Score = 0.5518, IOU = nan\n"
          ]
        },
        {
          "output_type": "stream",
          "name": "stderr",
          "text": [
            "\r 96%|█████████▋| 136/141 [01:10<00:02,  1.88it/s]"
          ]
        },
        {
          "output_type": "stream",
          "name": "stdout",
          "text": [
            "94.png: Anomaly Score = 0.5581, IOU = nan\n"
          ]
        },
        {
          "output_type": "stream",
          "name": "stderr",
          "text": [
            "\r 97%|█████████▋| 137/141 [01:11<00:02,  1.88it/s]"
          ]
        },
        {
          "output_type": "stream",
          "name": "stdout",
          "text": [
            "95.png: Anomaly Score = 0.5398, IOU = nan\n"
          ]
        },
        {
          "output_type": "stream",
          "name": "stderr",
          "text": [
            "\r 98%|█████████▊| 138/141 [01:11<00:01,  1.89it/s]"
          ]
        },
        {
          "output_type": "stream",
          "name": "stdout",
          "text": [
            "96.png: Anomaly Score = 0.5969, IOU = nan\n"
          ]
        },
        {
          "output_type": "stream",
          "name": "stderr",
          "text": [
            "\r 99%|█████████▊| 139/141 [01:12<00:01,  1.89it/s]"
          ]
        },
        {
          "output_type": "stream",
          "name": "stdout",
          "text": [
            "97.png: Anomaly Score = 0.5760, IOU = nan\n"
          ]
        },
        {
          "output_type": "stream",
          "name": "stderr",
          "text": [
            "\r 99%|█████████▉| 140/141 [01:12<00:00,  1.89it/s]"
          ]
        },
        {
          "output_type": "stream",
          "name": "stdout",
          "text": [
            "98.png: Anomaly Score = 0.6599, IOU = nan\n"
          ]
        },
        {
          "output_type": "stream",
          "name": "stderr",
          "text": [
            "100%|██████████| 141/141 [01:13<00:00,  1.92it/s]"
          ]
        },
        {
          "output_type": "stream",
          "name": "stdout",
          "text": [
            "99.png: Anomaly Score = 0.5776, IOU = nan\n",
            "\n",
            "📄 Sonuç Tablosu:\n",
            "             Image  Anomaly Score  True Label  Predicted Label       IoU\n",
            "0    100000000.png       0.588293           1                1  0.223149\n",
            "1    100000003.png       0.630966           1                1  0.138124\n",
            "2    100000006.png       0.640438           1                1  0.133505\n",
            "3    100000007.png       0.716699           1                1  0.300324\n",
            "4    100000008.png       0.584318           1                1  0.335385\n",
            "..             ...            ...         ...              ...       ...\n",
            "136         95.png       0.539833           0                0       NaN\n",
            "137         96.png       0.596898           0                1       NaN\n",
            "138         97.png       0.576016           0                0       NaN\n",
            "139         98.png       0.659883           0                1       NaN\n",
            "140         99.png       0.577647           0                0       NaN\n",
            "\n",
            "[141 rows x 5 columns]\n",
            "\n",
            "🎯 Final F1 Skoru: 0.8116\n",
            "Confusion Matrix:\n",
            "[[59 11]\n",
            " [15 56]]\n",
            "\n",
            "✅ En iyi threshold değeriyle tüm analiz tamamlandı! (0.5840)\n"
          ]
        },
        {
          "output_type": "stream",
          "name": "stderr",
          "text": [
            "\n"
          ]
        }
      ]
    },
    {
      "cell_type": "code",
      "source": [],
      "metadata": {
        "id": "cX5E6DIVXAT3"
      },
      "execution_count": null,
      "outputs": []
    }
  ]
}